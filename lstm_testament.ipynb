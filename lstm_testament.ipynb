{
 "cells": [
  {
   "cell_type": "markdown",
   "metadata": {},
   "source": [
    "\n",
    "# Воспроизведение \"King James Programming\" для русского языка, или \"Ветхий алгоритм\"\n",
    "\n",
    "http://kingjamesprogramming.tumblr.com/"
   ]
  },
  {
   "cell_type": "markdown",
   "metadata": {},
   "source": [
    "## Данные"
   ]
  },
  {
   "cell_type": "code",
   "execution_count": 1,
   "metadata": {},
   "outputs": [],
   "source": [
    "%load_ext autoreload\n",
    "%autoreload 2"
   ]
  },
  {
   "cell_type": "code",
   "execution_count": 2,
   "metadata": {},
   "outputs": [],
   "source": [
    "import regex \n",
    "import numpy as np"
   ]
  },
  {
   "cell_type": "code",
   "execution_count": 3,
   "metadata": {},
   "outputs": [],
   "source": [
    "# Читаем алгоритмы Кормена\n",
    "with open('./texts/cormen.txt', encoding='utf8') as f:\n",
    "    cormen = f.read().replace(u'\\xa0', u' ').replace(u'\\x0c', u'.').replace(u'\\xad', '')\n",
    "    cormen = cormen.replace(\".w\", \"м\").replace(\"19\", \"ю\").replace(\"ё\", \"е\")\n",
    "cormen = regex.sub(u'[^\\p{L}\\ \\n\\.\\!\\?\\;]', '', cormen) # оставляем только буквы и знаки препенания\n",
    "cormen = regex.sub('[\\!\\?\\;]', '.', cormen) # заменяем все знаки препинания на точки\n",
    "cormen = regex.sub('Глава', '', cormen)\n",
    "cormen = regex.sub('\\n+\\ *\\n*\\ *', ' ', cormen) # сокращаем \\n\n",
    "cormen = regex.sub('\\.+[ *\\.*\\n*]*', '. ', cormen) # сокращаем точки"
   ]
  },
  {
   "cell_type": "code",
   "execution_count": 4,
   "metadata": {},
   "outputs": [],
   "source": [
    "import nltk\n",
    "from nltk.tokenize import TweetTokenizer\n",
    "\n",
    "sent_detector = nltk.data.load('tokenizers/punkt/english.pickle')\n",
    "tokenizer = TweetTokenizer()\n",
    "\n",
    "cormen_sentences = []\n",
    "\n",
    "for sent in sent_detector.tokenize(cormen.lower()):\n",
    "    tokens = tokenizer.tokenize(sent)\n",
    "    if tokens[0].isdigit():\n",
    "        tokens = tokens[1:]\n",
    "    cormen_sentences.append(tokens)"
   ]
  },
  {
   "cell_type": "code",
   "execution_count": 5,
   "metadata": {},
   "outputs": [],
   "source": [
    "# Читаем книгу про юникс\n",
    "with open('./texts/unix.txt', encoding='utf8') as f:\n",
    "    unix = f.read().replace(u'\\xa0', u' ').replace(u'\\x0c', u'.').replace('\\xad', '')\n",
    "    unix = unix.replace(\".w\", \"м\").replace(\"19\", \"ю\").replace(\"ё\", \"е\")\n",
    "\n",
    "unix = regex.sub(u'[^\\p{L}\\ \\n\\.\\!\\?\\;]', '', unix) # оставляем только буквы и знаки препенания\n",
    "unix = regex.sub('[\\!\\?\\;]', '.', unix) # заменяем все знаки препинания на точки\n",
    "unix = regex.sub('Глава', '', unix)\n",
    "unix = regex.sub('\\n+\\ *\\n*\\ *', ' ', unix) # сокращаем \\n\n",
    "unix = regex.sub('\\.+[ *\\.*\\n*]*', '. ', unix) # сокращаем точки\n"
   ]
  },
  {
   "cell_type": "code",
   "execution_count": 6,
   "metadata": {},
   "outputs": [],
   "source": [
    "unix_sentences = []\n",
    "\n",
    "for sent in sent_detector.tokenize(unix.lower()):\n",
    "    tokens = tokenizer.tokenize(sent)\n",
    "    if tokens[0].isdigit():\n",
    "        tokens = tokens[1:]\n",
    "    unix_sentences.append(tokens)"
   ]
  },
  {
   "cell_type": "code",
   "execution_count": 7,
   "metadata": {},
   "outputs": [],
   "source": [
    "# читаем ветхий завет\n",
    "with open('./texts/testament.txt', encoding='utf8') as f:\n",
    "    testament = f.read().replace(u'\\xa0', u' ').replace(u'\\x0c', u'.').replace('\\xad', '')\n",
    "    testament = testament.replace(\".w\", \"м\").replace(\"19\", \"ю\").replace(\"ё\", \"е\")\n",
    "# # чистим ветхий завет\n",
    "testament = regex.sub(u'[^\\p{L}\\ \\n\\.\\!\\?\\;]', '', testament) # оставляем только буквы и знаки препенания\n",
    "testament = regex.sub('[\\!\\?\\;]', '.', testament) # заменяем все знаки препинания на точки\n",
    "testament = regex.sub('Глава', '', testament)\n",
    "testament = regex.sub('\\n+\\ *\\n*\\ *', ' ', testament) # сокращаем \\n\n",
    "testament = regex.sub('\\.+[ *\\.*\\n*]*', '. ', testament) # сокращаем точки"
   ]
  },
  {
   "cell_type": "code",
   "execution_count": 8,
   "metadata": {},
   "outputs": [],
   "source": [
    "testament_sentences = []\n",
    "\n",
    "for sent in sent_detector.tokenize(testament.lower()):\n",
    "    tokens = tokenizer.tokenize(sent)\n",
    "    if tokens[0].isdigit():\n",
    "        tokens = tokens[1:]\n",
    "    testament_sentences.append(tokens)"
   ]
  },
  {
   "cell_type": "markdown",
   "metadata": {},
   "source": [
    "### Подготовка данных"
   ]
  },
  {
   "cell_type": "markdown",
   "metadata": {},
   "source": [
    "Оставим предложения длиной не меньше 5."
   ]
  },
  {
   "cell_type": "code",
   "execution_count": 10,
   "metadata": {},
   "outputs": [],
   "source": [
    "code_sentences = cormen_sentences + unix_sentences\n",
    "code_sentences = [s for s in code_sentences if 5 <= len(s)]\n",
    "testament_sentences = [s for s in testament_sentences if 5 <= len(s)]"
   ]
  },
  {
   "cell_type": "code",
   "execution_count": 11,
   "metadata": {},
   "outputs": [],
   "source": [
    "all_words = [w for s in testament_sentences for w in s] + [w for s in code_sentences for w in s]\n",
    "words = np.array(list(set(all_words)))"
   ]
  },
  {
   "cell_type": "code",
   "execution_count": 12,
   "metadata": {},
   "outputs": [],
   "source": [
    "# np.save(\"words_alph.npy\", words)\n",
    "words = np.load(\"words_alph.npy\")"
   ]
  },
  {
   "cell_type": "markdown",
   "metadata": {},
   "source": [
    "Обучим модель fasttext для представлений слов."
   ]
  },
  {
   "cell_type": "code",
   "execution_count": 14,
   "metadata": {},
   "outputs": [],
   "source": [
    "import gensim\n",
    "from gensim.models import FastText"
   ]
  },
  {
   "cell_type": "code",
   "execution_count": 13,
   "metadata": {},
   "outputs": [],
   "source": [
    "np.random.seed(923418)\n",
    "all_text = np.array(testament_sentences + code_sentences)\n",
    "np.random.shuffle(all_text)"
   ]
  },
  {
   "cell_type": "code",
   "execution_count": 14,
   "metadata": {},
   "outputs": [],
   "source": [
    "all_text = [\" \".join(s).lower().split(\" \") for s in all_text]"
   ]
  },
  {
   "cell_type": "code",
   "execution_count": 18,
   "metadata": {},
   "outputs": [],
   "source": [
    "fast_text_model = FastText(size=256, window=4, min_count=2)\n",
    "fast_text_model.build_vocab(sentences=all_text)\n",
    "fast_text_model.train(sentences=all_text, total_examples=len(all_text), epochs=10)"
   ]
  },
  {
   "cell_type": "code",
   "execution_count": 13,
   "metadata": {},
   "outputs": [],
   "source": [
    "from gensim.test.utils import get_tmpfile\n",
    "\n",
    "fname = get_tmpfile(\"fasttext.model\")\n",
    "\n",
    "# fast_text_model.save(fname)\n"
   ]
  },
  {
   "cell_type": "code",
   "execution_count": 16,
   "metadata": {},
   "outputs": [],
   "source": [
    "# fast_text_model.save(\"fast_text_model.model\")"
   ]
  },
  {
   "cell_type": "code",
   "execution_count": 15,
   "metadata": {},
   "outputs": [],
   "source": [
    "fast_text_model = FastText.load(fname)"
   ]
  },
  {
   "cell_type": "markdown",
   "metadata": {},
   "source": [
    "Создаем обучающую и тестовую выборки и алфавит всего текста."
   ]
  },
  {
   "cell_type": "code",
   "execution_count": 16,
   "metadata": {},
   "outputs": [],
   "source": [
    "np.random.seed(923418)\n",
    "idx = np.random.choice(range(len(code_sentences)), len(code_sentences) // 10, False)\n",
    "mask = np.ones((len(code_sentences)), dtype=bool)\n",
    "mask[idx] = False"
   ]
  },
  {
   "cell_type": "code",
   "execution_count": 17,
   "metadata": {},
   "outputs": [],
   "source": [
    "code_train = np.array(code_sentences)[mask]\n",
    "code_test = np.array(code_sentences)[~mask]"
   ]
  },
  {
   "cell_type": "code",
   "execution_count": 18,
   "metadata": {},
   "outputs": [],
   "source": [
    "idx = np.random.choice(range(len(testament_sentences)), len(testament_sentences) // 10, False)\n",
    "mask = np.ones((len(testament_sentences)), dtype=bool)\n",
    "mask[idx] = False"
   ]
  },
  {
   "cell_type": "code",
   "execution_count": 19,
   "metadata": {},
   "outputs": [],
   "source": [
    "testament_train = np.array(testament_sentences)[mask]\n",
    "testament_test = np.array(testament_sentences)[~mask]"
   ]
  },
  {
   "cell_type": "code",
   "execution_count": 20,
   "metadata": {},
   "outputs": [],
   "source": [
    "alphabet = \" \".join(words)"
   ]
  },
  {
   "cell_type": "code",
   "execution_count": 25,
   "metadata": {},
   "outputs": [
    {
     "name": "stdout",
     "output_type": "stream",
     "text": [
      "[' ', '.', 'a', 'b', 'c', 'd', 'e', 'f', 'g', 'h', 'i', 'j', 'k', 'l', 'm', 'n', 'o', 'p', 'q', 'r', 's', 't', 'u', 'v', 'w', 'x', 'y', 'z', 'а', 'б', 'в', 'г', 'д', 'е', 'ж', 'з', 'и', 'й', 'к', 'л', 'м', 'н', 'о', 'п', 'р', 'с', 'т', 'у', 'ф', 'х', 'ц', 'ч', 'ш', 'щ', 'ъ', 'ы', 'ь', 'э', 'ю', 'я']\n"
     ]
    }
   ],
   "source": [
    "alphabet = sorted(set(list(alphabet)))\n",
    "print(alphabet)"
   ]
  },
  {
   "cell_type": "code",
   "execution_count": 22,
   "metadata": {},
   "outputs": [],
   "source": [
    "char_idx = dict(zip(alphabet, np.eye(len(alphabet))))"
   ]
  },
  {
   "cell_type": "markdown",
   "metadata": {},
   "source": [
    "### Импорт и кофиг tensorflow и keras"
   ]
  },
  {
   "cell_type": "code",
   "execution_count": 26,
   "metadata": {},
   "outputs": [],
   "source": [
    "from tensorflow.keras import backend as K\n",
    "from tensorflow.keras.callbacks import Callback, ReduceLROnPlateau\n",
    "from tensorflow.keras.layers import (Bidirectional, TimeDistributed, LSTM, Activation, Dense, Dropout, Flatten, Input, MaxPool2D, Embedding)\n",
    "from tensorflow.keras.models import Model, load_model, Sequential\n",
    "from tensorflow.keras.optimizers import SGD, Adam, RMSprop\n",
    "from tensorflow.keras.losses import categorical_crossentropy, sparse_categorical_crossentropy\n",
    "from tensorflow.keras.layers import Layer\n",
    "from tensorflow.keras.utils import Sequence\n",
    "from tensorflow.keras.backend import set_session\n",
    "import tensorflow as tf"
   ]
  },
  {
   "cell_type": "code",
   "execution_count": 27,
   "metadata": {},
   "outputs": [],
   "source": [
    "config = tf.ConfigProto()\n",
    "# config.gpu_options.per_process_gpu_memory_fraction = 0.4\n",
    "config.gpu_options.visible_device_list='0'\n",
    "config.gpu_options.allow_growth = True\n",
    "# config.log_device_placement=True\n",
    "sess = tf.Session(config=config)\n",
    "set_session(sess)"
   ]
  },
  {
   "cell_type": "markdown",
   "metadata": {},
   "source": [
    "### LSTM на словах с cosine loss"
   ]
  },
  {
   "cell_type": "code",
   "execution_count": 21,
   "metadata": {},
   "outputs": [],
   "source": [
    "class generator(Sequence):\n",
    "    \n",
    "    def __init__(self, code, bible, batch_size=100, window=5):\n",
    "        self.text = np.concatenate([np.array(bible), np.array(code)])\n",
    "        np.random.shuffle(self.text)\n",
    "        self.batch_size = batch_size\n",
    "        self.window = window\n",
    "        self.indices = np.arange(self.text.shape[0])\n",
    "        \n",
    "    def __len__(self):\n",
    "        return len(self.text) // self.batch_size\n",
    "    \n",
    "    def __getitem__(self, idx):\n",
    "        inds = self.indices[idx * self.batch_size:(idx + 1) * self.batch_size]\n",
    "        text = self.text[inds]\n",
    "        text = [w for s in text for w in s]\n",
    "        text_vecs = [fast_text_model.wv[w] for w in text]\n",
    "        batch_in = []\n",
    "        batch_out = []\n",
    "        for i in range(self.window, len(text_vecs) - self.window):\n",
    "            batch_in.append(text_vecs[i - self.window:i])  \n",
    "            batch_out.append(text_vecs[i])\n",
    "        return np.array(batch_in), np.array(batch_out)\n",
    "    \n",
    "    def on_epoch_end(self):\n",
    "        np.random.shuffle(self.indices)"
   ]
  },
  {
   "cell_type": "code",
   "execution_count": 22,
   "metadata": {},
   "outputs": [],
   "source": [
    "def get_model(dropout=0.3, window=5):\n",
    "    model = Sequential()\n",
    "    model.add(Bidirectional(LSTM(256, return_sequences=True), input_shape=(window, 256)))\n",
    "    if dropout > 0:\n",
    "        model.add(Dropout(dropout))\n",
    "        \n",
    "    model.add(LSTM(256))\n",
    "    return model"
   ]
  },
  {
   "cell_type": "code",
   "execution_count": 24,
   "metadata": {
    "scrolled": false
   },
   "outputs": [],
   "source": [
    "m = get_model()"
   ]
  },
  {
   "cell_type": "code",
   "execution_count": 25,
   "metadata": {},
   "outputs": [],
   "source": [
    "m.compile(loss='cosine_proximity', optimizer=Adam(), metrics=['CosineSimilarity'])"
   ]
  },
  {
   "cell_type": "code",
   "execution_count": 26,
   "metadata": {
    "scrolled": true
   },
   "outputs": [
    {
     "name": "stderr",
     "output_type": "stream",
     "text": [
      "W1009 19:31:18.308707 140395259537216 deprecation.py:323] From /usr/local/lib/python3.6/dist-packages/tensorflow/python/ops/math_grad.py:1250: add_dispatch_support.<locals>.wrapper (from tensorflow.python.ops.array_ops) is deprecated and will be removed in a future version.\n",
      "Instructions for updating:\n",
      "Use tf.where in 2.0, which has the same broadcast rule as np.where\n"
     ]
    },
    {
     "name": "stdout",
     "output_type": "stream",
     "text": [
      "Epoch 1/800\n",
      "217/217 [==============================] - 15s 70ms/step - loss: -0.4608 - cosine_similarity: -0.4610 - val_loss: -0.4993 - val_cosine_similarity: -0.4993\n",
      "Epoch 2/800\n",
      "217/217 [==============================] - 13s 59ms/step - loss: -0.5014 - cosine_similarity: -0.5014 - val_loss: -0.5137 - val_cosine_similarity: -0.5137\n",
      "Epoch 3/800\n",
      "217/217 [==============================] - 13s 60ms/step - loss: -0.5132 - cosine_similarity: -0.5132 - val_loss: -0.5222 - val_cosine_similarity: -0.5222\n",
      "Epoch 4/800\n",
      "217/217 [==============================] - 14s 64ms/step - loss: -0.5213 - cosine_similarity: -0.5212 - val_loss: -0.5289 - val_cosine_similarity: -0.5289\n",
      "Epoch 5/800\n",
      "217/217 [==============================] - 13s 60ms/step - loss: -0.5275 - cosine_similarity: -0.5275 - val_loss: -0.5334 - val_cosine_similarity: -0.5333\n",
      "Epoch 6/800\n",
      "217/217 [==============================] - 13s 60ms/step - loss: -0.5328 - cosine_similarity: -0.5328 - val_loss: -0.5367 - val_cosine_similarity: -0.5366\n",
      "Epoch 7/800\n",
      "217/217 [==============================] - 13s 60ms/step - loss: -0.5375 - cosine_similarity: -0.5375 - val_loss: -0.5398 - val_cosine_similarity: -0.5397\n",
      "Epoch 8/800\n",
      "217/217 [==============================] - 14s 65ms/step - loss: -0.5417 - cosine_similarity: -0.5417 - val_loss: -0.5427 - val_cosine_similarity: -0.5426\n",
      "Epoch 9/800\n",
      "217/217 [==============================] - 13s 60ms/step - loss: -0.5453 - cosine_similarity: -0.5453 - val_loss: -0.5444 - val_cosine_similarity: -0.5444\n",
      "Epoch 10/800\n",
      "217/217 [==============================] - 13s 60ms/step - loss: -0.5490 - cosine_similarity: -0.5490 - val_loss: -0.5450 - val_cosine_similarity: -0.5450\n",
      "Epoch 11/800\n",
      "217/217 [==============================] - 13s 60ms/step - loss: -0.5521 - cosine_similarity: -0.5521 - val_loss: -0.5481 - val_cosine_similarity: -0.5481\n",
      "Epoch 12/800\n",
      "217/217 [==============================] - 13s 60ms/step - loss: -0.5554 - cosine_similarity: -0.5554 - val_loss: -0.5499 - val_cosine_similarity: -0.5498\n",
      "Epoch 13/800\n",
      "217/217 [==============================] - 13s 60ms/step - loss: -0.5585 - cosine_similarity: -0.5585 - val_loss: -0.5510 - val_cosine_similarity: -0.5510\n",
      "Epoch 14/800\n",
      "217/217 [==============================] - 13s 59ms/step - loss: -0.5613 - cosine_similarity: -0.5613 - val_loss: -0.5526 - val_cosine_similarity: -0.5526\n",
      "Epoch 15/800\n",
      "217/217 [==============================] - 14s 66ms/step - loss: -0.5643 - cosine_similarity: -0.5643 - val_loss: -0.5530 - val_cosine_similarity: -0.5530\n",
      "Epoch 16/800\n",
      "217/217 [==============================] - 14s 66ms/step - loss: -0.5669 - cosine_similarity: -0.5669 - val_loss: -0.5549 - val_cosine_similarity: -0.5548\n",
      "Epoch 17/800\n",
      "217/217 [==============================] - 13s 61ms/step - loss: -0.5694 - cosine_similarity: -0.5694 - val_loss: -0.5555 - val_cosine_similarity: -0.5554\n",
      "Epoch 18/800\n",
      "217/217 [==============================] - 13s 61ms/step - loss: -0.5719 - cosine_similarity: -0.5719 - val_loss: -0.5550 - val_cosine_similarity: -0.5549\n",
      "Epoch 19/800\n",
      "217/217 [==============================] - 14s 66ms/step - loss: -0.5742 - cosine_similarity: -0.5742 - val_loss: -0.5573 - val_cosine_similarity: -0.5572\n",
      "Epoch 20/800\n",
      "217/217 [==============================] - 13s 61ms/step - loss: -0.5766 - cosine_similarity: -0.5766 - val_loss: -0.5579 - val_cosine_similarity: -0.5579\n",
      "Epoch 21/800\n",
      "217/217 [==============================] - 14s 63ms/step - loss: -0.5790 - cosine_similarity: -0.5790 - val_loss: -0.5587 - val_cosine_similarity: -0.5587\n",
      "Epoch 22/800\n",
      "217/217 [==============================] - 16s 72ms/step - loss: -0.5808 - cosine_similarity: -0.5808 - val_loss: -0.5595 - val_cosine_similarity: -0.5595\n",
      "Epoch 23/800\n",
      "217/217 [==============================] - 16s 72ms/step - loss: -0.5829 - cosine_similarity: -0.5829 - val_loss: -0.5591 - val_cosine_similarity: -0.5591\n",
      "Epoch 24/800\n",
      "217/217 [==============================] - 15s 71ms/step - loss: -0.5846 - cosine_similarity: -0.5846 - val_loss: -0.5603 - val_cosine_similarity: -0.5603\n",
      "Epoch 25/800\n",
      "217/217 [==============================] - 16s 73ms/step - loss: -0.5866 - cosine_similarity: -0.5866 - val_loss: -0.5603 - val_cosine_similarity: -0.5603\n",
      "Epoch 26/800\n",
      "217/217 [==============================] - 16s 73ms/step - loss: -0.5884 - cosine_similarity: -0.5884 - val_loss: -0.5613 - val_cosine_similarity: -0.5613\n",
      "Epoch 27/800\n",
      "217/217 [==============================] - 16s 72ms/step - loss: -0.5904 - cosine_similarity: -0.5904 - val_loss: -0.5615 - val_cosine_similarity: -0.5615\n",
      "Epoch 28/800\n",
      "217/217 [==============================] - 16s 74ms/step - loss: -0.5919 - cosine_similarity: -0.5919 - val_loss: -0.5617 - val_cosine_similarity: -0.5617\n",
      "Epoch 29/800\n",
      "217/217 [==============================] - 16s 74ms/step - loss: -0.6006 - cosine_similarity: -0.6006 - val_loss: -0.5634 - val_cosine_similarity: -0.5634\n",
      "Epoch 35/800\n",
      "217/217 [==============================] - 16s 72ms/step - loss: -0.6018 - cosine_similarity: -0.6018 - val_loss: -0.5637 - val_cosine_similarity: -0.5637\n",
      "Epoch 36/800\n",
      "217/217 [==============================] - 16s 73ms/step - loss: -0.6032 - cosine_similarity: -0.6032 - val_loss: -0.5645 - val_cosine_similarity: -0.5645\n",
      "Epoch 37/800\n",
      "217/217 [==============================] - 16s 73ms/step - loss: -0.6045 - cosine_similarity: -0.6044 - val_loss: -0.5645 - val_cosine_similarity: -0.5644\n",
      "Epoch 38/800\n",
      "217/217 [==============================] - 16s 73ms/step - loss: -0.6055 - cosine_similarity: -0.6055 - val_loss: -0.5646 - val_cosine_similarity: -0.5646\n",
      "Epoch 39/800\n",
      "217/217 [==============================] - 16s 72ms/step - loss: -0.6067 - cosine_similarity: -0.6067 - val_loss: -0.5645 - val_cosine_similarity: -0.5644\n",
      "Epoch 40/800\n",
      "217/217 [==============================] - 15s 71ms/step - loss: -0.6077 - cosine_similarity: -0.6077 - val_loss: -0.5651 - val_cosine_similarity: -0.5651\n",
      "Epoch 41/800\n",
      "217/217 [==============================] - 16s 72ms/step - loss: -0.6089 - cosine_similarity: -0.6089 - val_loss: -0.5649 - val_cosine_similarity: -0.5649\n",
      "Epoch 42/800\n",
      "217/217 [==============================] - 15s 70ms/step - loss: -0.6097 - cosine_similarity: -0.6097 - val_loss: -0.5656 - val_cosine_similarity: -0.5656\n",
      "Epoch 43/800\n",
      "217/217 [==============================] - 16s 72ms/step - loss: -0.6109 - cosine_similarity: -0.6110 - val_loss: -0.5659 - val_cosine_similarity: -0.5659\n",
      "Epoch 44/800\n",
      "217/217 [==============================] - 16s 74ms/step - loss: -0.6118 - cosine_similarity: -0.6119 - val_loss: -0.5651 - val_cosine_similarity: -0.5651\n",
      "Epoch 45/800\n",
      "217/217 [==============================] - 16s 74ms/step - loss: -0.6129 - cosine_similarity: -0.6128 - val_loss: -0.5667 - val_cosine_similarity: -0.5667\n",
      "Epoch 46/800\n",
      "217/217 [==============================] - 16s 73ms/step - loss: -0.6140 - cosine_similarity: -0.6140 - val_loss: -0.5662 - val_cosine_similarity: -0.5662\n",
      "Epoch 47/800\n",
      "217/217 [==============================] - 16s 72ms/step - loss: -0.6148 - cosine_similarity: -0.6148 - val_loss: -0.5656 - val_cosine_similarity: -0.5656\n",
      "Epoch 48/800\n",
      "217/217 [==============================] - 16s 72ms/step - loss: -0.6156 - cosine_similarity: -0.6156 - val_loss: -0.5656 - val_cosine_similarity: -0.5656\n",
      "Epoch 49/800\n",
      "217/217 [==============================] - 16s 73ms/step - loss: -0.6165 - cosine_similarity: -0.6165 - val_loss: -0.5665 - val_cosine_similarity: -0.5665\n",
      "Epoch 50/800\n",
      "217/217 [==============================] - 16s 72ms/step - loss: -0.6177 - cosine_similarity: -0.6177 - val_loss: -0.5666 - val_cosine_similarity: -0.5666\n",
      "Epoch 51/800\n",
      "217/217 [==============================] - 16s 72ms/step - loss: -0.6182 - cosine_similarity: -0.6182 - val_loss: -0.5666 - val_cosine_similarity: -0.5666\n",
      "Epoch 52/800\n",
      "217/217 [==============================] - 16s 73ms/step - loss: -0.6189 - cosine_similarity: -0.6190 - val_loss: -0.5662 - val_cosine_similarity: -0.5662\n",
      "Epoch 53/800\n",
      " 36/217 [===>..........................] - ETA: 9s - loss: -0.6220 - cosine_similarity: -0.6220"
     ]
    },
    {
     "name": "stderr",
     "output_type": "stream",
     "text": [
      "IOPub message rate exceeded.\n",
      "The notebook server will temporarily stop sending output\n",
      "to the client in order to avoid crashing it.\n",
      "To change this limit, set the config variable\n",
      "`--NotebookApp.iopub_msg_rate_limit`.\n",
      "\n",
      "Current values:\n",
      "NotebookApp.iopub_msg_rate_limit=1000.0 (msgs/sec)\n",
      "NotebookApp.rate_limit_window=3.0 (secs)\n",
      "\n"
     ]
    },
    {
     "name": "stdout",
     "output_type": "stream",
     "text": [
      "217/217 [==============================] - 15s 71ms/step - loss: -0.6394 - cosine_similarity: -0.6394 - val_loss: -0.5695 - val_cosine_similarity: -0.5695\n",
      "Epoch 87/800\n",
      "217/217 [==============================] - 16s 73ms/step - loss: -0.6397 - cosine_similarity: -0.6398 - val_loss: -0.5689 - val_cosine_similarity: -0.5689\n",
      "Epoch 88/800\n",
      "217/217 [==============================] - 16s 72ms/step - loss: -0.6401 - cosine_similarity: -0.6402 - val_loss: -0.5688 - val_cosine_similarity: -0.5688\n",
      "Epoch 89/800\n",
      "217/217 [==============================] - 16s 72ms/step - loss: -0.6407 - cosine_similarity: -0.6407 - val_loss: -0.5691 - val_cosine_similarity: -0.5691\n",
      "Epoch 90/800\n",
      "217/217 [==============================] - 16s 72ms/step - loss: -0.6410 - cosine_similarity: -0.6410 - val_loss: -0.5692 - val_cosine_similarity: -0.5692\n",
      "Epoch 91/800\n",
      "217/217 [==============================] - 17s 76ms/step - loss: -0.6414 - cosine_similarity: -0.6414 - val_loss: -0.5689 - val_cosine_similarity: -0.5689\n",
      "Epoch 92/800\n",
      "217/217 [==============================] - 16s 73ms/step - loss: -0.6420 - cosine_similarity: -0.6420 - val_loss: -0.5691 - val_cosine_similarity: -0.5692\n",
      "Epoch 93/800\n",
      "217/217 [==============================] - 16s 72ms/step - loss: -0.6421 - cosine_similarity: -0.6422 - val_loss: -0.5696 - val_cosine_similarity: -0.5697\n",
      "Epoch 94/800\n",
      "217/217 [==============================] - 16s 72ms/step - loss: -0.6425 - cosine_similarity: -0.6425 - val_loss: -0.5690 - val_cosine_similarity: -0.5691\n",
      "Epoch 95/800\n",
      "217/217 [==============================] - 16s 73ms/step - loss: -0.6431 - cosine_similarity: -0.6431 - val_loss: -0.5691 - val_cosine_similarity: -0.5692\n",
      "Epoch 96/800\n",
      "217/217 [==============================] - 16s 73ms/step - loss: -0.6434 - cosine_similarity: -0.6434 - val_loss: -0.5687 - val_cosine_similarity: -0.5688\n",
      "Epoch 97/800\n",
      "217/217 [==============================] - 15s 71ms/step - loss: -0.6438 - cosine_similarity: -0.6438 - val_loss: -0.5694 - val_cosine_similarity: -0.5695\n",
      "Epoch 98/800\n",
      "217/217 [==============================] - 16s 72ms/step - loss: -0.6441 - cosine_similarity: -0.6441 - val_loss: -0.5696 - val_cosine_similarity: -0.5697\n",
      "Epoch 99/800\n",
      "217/217 [==============================] - 15s 71ms/step - loss: -0.6447 - cosine_similarity: -0.6447 - val_loss: -0.5693 - val_cosine_similarity: -0.5693\n",
      "Epoch 100/800\n",
      "217/217 [==============================] - 16s 73ms/step - loss: -0.6448 - cosine_similarity: -0.6448 - val_loss: -0.5694 - val_cosine_similarity: -0.5695\n",
      "Epoch 101/800\n",
      "217/217 [==============================] - 16s 72ms/step - loss: -0.6450 - cosine_similarity: -0.6450 - val_loss: -0.5699 - val_cosine_similarity: -0.5700\n",
      "Epoch 102/800\n",
      "217/217 [==============================] - 16s 72ms/step - loss: -0.6451 - cosine_similarity: -0.6452 - val_loss: -0.5695 - val_cosine_similarity: -0.5696\n",
      "Epoch 103/800\n",
      "217/217 [==============================] - 16s 72ms/step - loss: -0.6458 - cosine_similarity: -0.6459 - val_loss: -0.5703 - val_cosine_similarity: -0.5704\n",
      "Epoch 104/800\n",
      "217/217 [==============================] - 15s 71ms/step - loss: -0.6464 - cosine_similarity: -0.6464 - val_loss: -0.5702 - val_cosine_similarity: -0.5703\n",
      "Epoch 105/800\n",
      "117/217 [===============>..............] - ETA: 5s - loss: -0.6473 - cosine_similarity: -0.6473"
     ]
    },
    {
     "name": "stderr",
     "output_type": "stream",
     "text": [
      "IOPub message rate exceeded.\n",
      "The notebook server will temporarily stop sending output\n",
      "to the client in order to avoid crashing it.\n",
      "To change this limit, set the config variable\n",
      "`--NotebookApp.iopub_msg_rate_limit`.\n",
      "\n",
      "Current values:\n",
      "NotebookApp.iopub_msg_rate_limit=1000.0 (msgs/sec)\n",
      "NotebookApp.rate_limit_window=3.0 (secs)\n",
      "\n"
     ]
    },
    {
     "name": "stdout",
     "output_type": "stream",
     "text": [
      "217/217 [==============================] - 16s 72ms/step - loss: -0.6549 - cosine_similarity: -0.6549 - val_loss: -0.5711 - val_cosine_similarity: -0.5712\n",
      "Epoch 134/800\n",
      "217/217 [==============================] - 16s 72ms/step - loss: -0.6552 - cosine_similarity: -0.6552 - val_loss: -0.5705 - val_cosine_similarity: -0.5706\n",
      "Epoch 135/800\n",
      "217/217 [==============================] - 15s 71ms/step - loss: -0.6552 - cosine_similarity: -0.6552 - val_loss: -0.5713 - val_cosine_similarity: -0.5713\n",
      "Epoch 136/800\n",
      "217/217 [==============================] - 16s 73ms/step - loss: -0.6554 - cosine_similarity: -0.6554 - val_loss: -0.5711 - val_cosine_similarity: -0.5712\n",
      "Epoch 137/800\n",
      "217/217 [==============================] - 16s 71ms/step - loss: -0.6555 - cosine_similarity: -0.6555 - val_loss: -0.5712 - val_cosine_similarity: -0.5713\n",
      "Epoch 138/800\n",
      "217/217 [==============================] - 16s 74ms/step - loss: -0.6558 - cosine_similarity: -0.6559 - val_loss: -0.5709 - val_cosine_similarity: -0.5710\n",
      "Epoch 139/800\n",
      "217/217 [==============================] - 16s 72ms/step - loss: -0.6560 - cosine_similarity: -0.6561 - val_loss: -0.5716 - val_cosine_similarity: -0.5717\n",
      "Epoch 140/800\n",
      "217/217 [==============================] - 16s 71ms/step - loss: -0.6564 - cosine_similarity: -0.6564 - val_loss: -0.5712 - val_cosine_similarity: -0.5713\n",
      "Epoch 141/800\n",
      "217/217 [==============================] - 16s 73ms/step - loss: -0.6563 - cosine_similarity: -0.6564 - val_loss: -0.5712 - val_cosine_similarity: -0.5713\n",
      "Epoch 142/800\n",
      "217/217 [==============================] - 16s 72ms/step - loss: -0.6568 - cosine_similarity: -0.6568 - val_loss: -0.5715 - val_cosine_similarity: -0.5716\n",
      "Epoch 143/800\n",
      "217/217 [==============================] - 15s 71ms/step - loss: -0.6572 - cosine_similarity: -0.6572 - val_loss: -0.5709 - val_cosine_similarity: -0.5710\n",
      "Epoch 144/800\n",
      "217/217 [==============================] - 16s 72ms/step - loss: -0.6570 - cosine_similarity: -0.6571 - val_loss: -0.5704 - val_cosine_similarity: -0.5705\n",
      "Epoch 145/800\n",
      "217/217 [==============================] - 15s 71ms/step - loss: -0.6574 - cosine_similarity: -0.6574 - val_loss: -0.5706 - val_cosine_similarity: -0.5707\n",
      "Epoch 146/800\n",
      "217/217 [==============================] - 16s 73ms/step - loss: -0.6578 - cosine_similarity: -0.6578 - val_loss: -0.5707 - val_cosine_similarity: -0.5708\n",
      "Epoch 147/800\n",
      "217/217 [==============================] - 16s 72ms/step - loss: -0.6580 - cosine_similarity: -0.6581 - val_loss: -0.5716 - val_cosine_similarity: -0.5716\n",
      "Epoch 148/800\n",
      "217/217 [==============================] - 16s 75ms/step - loss: -0.6583 - cosine_similarity: -0.6584 - val_loss: -0.5708 - val_cosine_similarity: -0.5709\n",
      "Epoch 149/800\n",
      "217/217 [==============================] - 16s 73ms/step - loss: -0.6583 - cosine_similarity: -0.6584 - val_loss: -0.5713 - val_cosine_similarity: -0.5714\n",
      "Epoch 150/800\n",
      "217/217 [==============================] - 16s 75ms/step - loss: -0.6585 - cosine_similarity: -0.6585 - val_loss: -0.5708 - val_cosine_similarity: -0.5709\n",
      "Epoch 151/800\n",
      "217/217 [==============================] - 15s 71ms/step - loss: -0.6588 - cosine_similarity: -0.6588 - val_loss: -0.5715 - val_cosine_similarity: -0.5716\n",
      "Epoch 152/800\n",
      "191/217 [=========================>....] - ETA: 1s - loss: -0.6596 - cosine_similarity: -0.6596"
     ]
    },
    {
     "name": "stderr",
     "output_type": "stream",
     "text": [
      "IOPub message rate exceeded.\n",
      "The notebook server will temporarily stop sending output\n",
      "to the client in order to avoid crashing it.\n",
      "To change this limit, set the config variable\n",
      "`--NotebookApp.iopub_msg_rate_limit`.\n",
      "\n",
      "Current values:\n",
      "NotebookApp.iopub_msg_rate_limit=1000.0 (msgs/sec)\n",
      "NotebookApp.rate_limit_window=3.0 (secs)\n",
      "\n"
     ]
    },
    {
     "name": "stdout",
     "output_type": "stream",
     "text": [
      "217/217 [==============================] - 15s 71ms/step - loss: -0.6649 - cosine_similarity: -0.6649 - val_loss: -0.5708 - val_cosine_similarity: -0.5709\n",
      "Epoch 186/800\n",
      "217/217 [==============================] - 16s 74ms/step - loss: -0.6651 - cosine_similarity: -0.6652 - val_loss: -0.5716 - val_cosine_similarity: -0.5716\n",
      "Epoch 187/800\n",
      "217/217 [==============================] - 16s 72ms/step - loss: -0.6652 - cosine_similarity: -0.6652 - val_loss: -0.5718 - val_cosine_similarity: -0.5719\n",
      "Epoch 188/800\n",
      "217/217 [==============================] - 16s 71ms/step - loss: -0.6653 - cosine_similarity: -0.6653 - val_loss: -0.5716 - val_cosine_similarity: -0.5716\n",
      "Epoch 189/800\n",
      "217/217 [==============================] - 15s 71ms/step - loss: -0.6652 - cosine_similarity: -0.6653 - val_loss: -0.5710 - val_cosine_similarity: -0.5710\n",
      "Epoch 190/800\n",
      "217/217 [==============================] - 16s 73ms/step - loss: -0.6656 - cosine_similarity: -0.6656 - val_loss: -0.5715 - val_cosine_similarity: -0.5715\n",
      "Epoch 191/800\n",
      "217/217 [==============================] - 15s 70ms/step - loss: -0.6656 - cosine_similarity: -0.6656 - val_loss: -0.5713 - val_cosine_similarity: -0.5713\n",
      "Epoch 192/800\n",
      "217/217 [==============================] - 16s 73ms/step - loss: -0.6659 - cosine_similarity: -0.6660 - val_loss: -0.5723 - val_cosine_similarity: -0.5723\n",
      "Epoch 193/800\n",
      "217/217 [==============================] - 15s 70ms/step - loss: -0.6662 - cosine_similarity: -0.6662 - val_loss: -0.5716 - val_cosine_similarity: -0.5717\n",
      "Epoch 194/800\n",
      "217/217 [==============================] - 16s 74ms/step - loss: -0.6662 - cosine_similarity: -0.6662 - val_loss: -0.5707 - val_cosine_similarity: -0.5707\n",
      "Epoch 195/800\n",
      "217/217 [==============================] - 16s 73ms/step - loss: -0.6663 - cosine_similarity: -0.6663 - val_loss: -0.5720 - val_cosine_similarity: -0.5720\n",
      "Epoch 196/800\n",
      "217/217 [==============================] - 16s 75ms/step - loss: -0.6666 - cosine_similarity: -0.6666 - val_loss: -0.5711 - val_cosine_similarity: -0.5711\n",
      "Epoch 197/800\n",
      "217/217 [==============================] - 16s 72ms/step - loss: -0.6666 - cosine_similarity: -0.6666 - val_loss: -0.5708 - val_cosine_similarity: -0.5708\n",
      "Epoch 198/800\n",
      "217/217 [==============================] - 16s 72ms/step - loss: -0.6667 - cosine_similarity: -0.6667 - val_loss: -0.5714 - val_cosine_similarity: -0.5714\n",
      "Epoch 199/800\n",
      "217/217 [==============================] - 15s 71ms/step - loss: -0.6668 - cosine_similarity: -0.6668 - val_loss: -0.5710 - val_cosine_similarity: -0.5711\n",
      "Epoch 200/800\n",
      "217/217 [==============================] - 16s 73ms/step - loss: -0.6670 - cosine_similarity: -0.6671 - val_loss: -0.5707 - val_cosine_similarity: -0.5708\n",
      "Epoch 201/800\n",
      "217/217 [==============================] - 16s 72ms/step - loss: -0.6673 - cosine_similarity: -0.6673 - val_loss: -0.5713 - val_cosine_similarity: -0.5714\n",
      "Epoch 202/800\n",
      "217/217 [==============================] - 16s 74ms/step - loss: -0.6674 - cosine_similarity: -0.6675 - val_loss: -0.5712 - val_cosine_similarity: -0.5713\n",
      "Epoch 203/800\n",
      "217/217 [==============================] - 16s 73ms/step - loss: -0.6676 - cosine_similarity: -0.6677 - val_loss: -0.5715 - val_cosine_similarity: -0.5715\n",
      "Epoch 204/800\n",
      "146/217 [===================>..........] - ETA: 3s - loss: -0.6678 - cosine_similarity: -0.6679"
     ]
    },
    {
     "name": "stderr",
     "output_type": "stream",
     "text": [
      "IOPub message rate exceeded.\n",
      "The notebook server will temporarily stop sending output\n",
      "to the client in order to avoid crashing it.\n",
      "To change this limit, set the config variable\n",
      "`--NotebookApp.iopub_msg_rate_limit`.\n",
      "\n",
      "Current values:\n",
      "NotebookApp.iopub_msg_rate_limit=1000.0 (msgs/sec)\n",
      "NotebookApp.rate_limit_window=3.0 (secs)\n",
      "\n"
     ]
    },
    {
     "name": "stdout",
     "output_type": "stream",
     "text": [
      "217/217 [==============================] - 16s 72ms/step - loss: -0.6698 - cosine_similarity: -0.6699 - val_loss: -0.5715 - val_cosine_similarity: -0.5716\n",
      "Epoch 225/800\n",
      "217/217 [==============================] - 15s 71ms/step - loss: -0.6703 - cosine_similarity: -0.6703 - val_loss: -0.5728 - val_cosine_similarity: -0.5729\n",
      "Epoch 226/800\n",
      "217/217 [==============================] - 16s 72ms/step - loss: -0.6704 - cosine_similarity: -0.6705 - val_loss: -0.5720 - val_cosine_similarity: -0.5721\n",
      "Epoch 227/800\n",
      "217/217 [==============================] - 16s 74ms/step - loss: -0.6703 - cosine_similarity: -0.6704 - val_loss: -0.5718 - val_cosine_similarity: -0.5718\n",
      "Epoch 228/800\n",
      "217/217 [==============================] - 16s 72ms/step - loss: -0.6707 - cosine_similarity: -0.6707 - val_loss: -0.5725 - val_cosine_similarity: -0.5725\n",
      "Epoch 229/800\n",
      "217/217 [==============================] - 16s 72ms/step - loss: -0.6710 - cosine_similarity: -0.6710 - val_loss: -0.5721 - val_cosine_similarity: -0.5722\n",
      "Epoch 230/800\n",
      "217/217 [==============================] - 16s 72ms/step - loss: -0.6706 - cosine_similarity: -0.6706 - val_loss: -0.5716 - val_cosine_similarity: -0.5717\n",
      "Epoch 231/800\n",
      "217/217 [==============================] - 17s 80ms/step - loss: -0.6709 - cosine_similarity: -0.6710 - val_loss: -0.5712 - val_cosine_similarity: -0.5712\n",
      "Epoch 232/800\n",
      "  9/217 [>.............................] - ETA: 12s - loss: -0.6761 - cosine_similarity: -0.6761"
     ]
    },
    {
     "name": "stderr",
     "output_type": "stream",
     "text": [
      "IOPub message rate exceeded.\n",
      "The notebook server will temporarily stop sending output\n",
      "to the client in order to avoid crashing it.\n",
      "To change this limit, set the config variable\n",
      "`--NotebookApp.iopub_msg_rate_limit`.\n",
      "\n",
      "Current values:\n",
      "NotebookApp.iopub_msg_rate_limit=1000.0 (msgs/sec)\n",
      "NotebookApp.rate_limit_window=3.0 (secs)\n",
      "\n"
     ]
    },
    {
     "name": "stdout",
     "output_type": "stream",
     "text": [
      "217/217 [==============================] - 16s 72ms/step - loss: -0.6720 - cosine_similarity: -0.6720 - val_loss: -0.5727 - val_cosine_similarity: -0.5726\n",
      "Epoch 240/800\n",
      "217/217 [==============================] - 16s 72ms/step - loss: -0.6718 - cosine_similarity: -0.6718 - val_loss: -0.5718 - val_cosine_similarity: -0.5717\n",
      "Epoch 241/800\n",
      "217/217 [==============================] - 16s 74ms/step - loss: -0.6718 - cosine_similarity: -0.6718 - val_loss: -0.5720 - val_cosine_similarity: -0.5718\n",
      "Epoch 242/800\n",
      "217/217 [==============================] - 16s 73ms/step - loss: -0.6720 - cosine_similarity: -0.6720 - val_loss: -0.5717 - val_cosine_similarity: -0.5716\n",
      "Epoch 243/800\n",
      "217/217 [==============================] - 16s 73ms/step - loss: -0.6720 - cosine_similarity: -0.6720 - val_loss: -0.5720 - val_cosine_similarity: -0.5718\n",
      "Epoch 244/800\n",
      "217/217 [==============================] - 16s 73ms/step - loss: -0.6724 - cosine_similarity: -0.6725 - val_loss: -0.5730 - val_cosine_similarity: -0.5729\n",
      "Epoch 245/800\n",
      "217/217 [==============================] - 16s 73ms/step - loss: -0.6723 - cosine_similarity: -0.6723 - val_loss: -0.5726 - val_cosine_similarity: -0.5725\n",
      "Epoch 246/800\n",
      "217/217 [==============================] - 16s 73ms/step - loss: -0.6726 - cosine_similarity: -0.6726 - val_loss: -0.5717 - val_cosine_similarity: -0.5716\n",
      "Epoch 247/800\n",
      "217/217 [==============================] - 16s 74ms/step - loss: -0.6725 - cosine_similarity: -0.6726 - val_loss: -0.5719 - val_cosine_similarity: -0.5718\n",
      "Epoch 248/800\n",
      "217/217 [==============================] - 16s 74ms/step - loss: -0.6727 - cosine_similarity: -0.6727 - val_loss: -0.5724 - val_cosine_similarity: -0.5723\n",
      "Epoch 249/800\n",
      "217/217 [==============================] - 18s 83ms/step - loss: -0.6729 - cosine_similarity: -0.6730 - val_loss: -0.5726 - val_cosine_similarity: -0.5724\n",
      "Epoch 250/800\n",
      "217/217 [==============================] - 16s 72ms/step - loss: -0.6731 - cosine_similarity: -0.6732 - val_loss: -0.5719 - val_cosine_similarity: -0.5720\n",
      "Epoch 251/800\n",
      "200/217 [==========================>...] - ETA: 0s - loss: -0.6729 - cosine_similarity: -0.6729"
     ]
    },
    {
     "name": "stderr",
     "output_type": "stream",
     "text": [
      "IOPub message rate exceeded.\n",
      "The notebook server will temporarily stop sending output\n",
      "to the client in order to avoid crashing it.\n",
      "To change this limit, set the config variable\n",
      "`--NotebookApp.iopub_msg_rate_limit`.\n",
      "\n",
      "Current values:\n",
      "NotebookApp.iopub_msg_rate_limit=1000.0 (msgs/sec)\n",
      "NotebookApp.rate_limit_window=3.0 (secs)\n",
      "\n"
     ]
    },
    {
     "name": "stdout",
     "output_type": "stream",
     "text": [
      "217/217 [==============================] - 16s 72ms/step - loss: -0.6746 - cosine_similarity: -0.6746 - val_loss: -0.5719 - val_cosine_similarity: -0.5720\n",
      "Epoch 271/800\n",
      "217/217 [==============================] - 16s 74ms/step - loss: -0.6748 - cosine_similarity: -0.6749 - val_loss: -0.5714 - val_cosine_similarity: -0.5716\n",
      "Epoch 272/800\n",
      "217/217 [==============================] - 16s 73ms/step - loss: -0.6754 - cosine_similarity: -0.6754 - val_loss: -0.5725 - val_cosine_similarity: -0.5726\n",
      "Epoch 273/800\n",
      "217/217 [==============================] - 16s 74ms/step - loss: -0.6750 - cosine_similarity: -0.6750 - val_loss: -0.5719 - val_cosine_similarity: -0.5720\n",
      "Epoch 274/800\n",
      "217/217 [==============================] - 16s 72ms/step - loss: -0.6754 - cosine_similarity: -0.6755 - val_loss: -0.5716 - val_cosine_similarity: -0.5717\n",
      "Epoch 275/800\n",
      "217/217 [==============================] - 16s 74ms/step - loss: -0.6752 - cosine_similarity: -0.6752 - val_loss: -0.5722 - val_cosine_similarity: -0.5724\n",
      "Epoch 276/800\n",
      "217/217 [==============================] - 16s 72ms/step - loss: -0.6752 - cosine_similarity: -0.6752 - val_loss: -0.5712 - val_cosine_similarity: -0.5713\n",
      "Epoch 277/800\n",
      "122/217 [===============>..............] - ETA: 5s - loss: -0.6761 - cosine_similarity: -0.6762"
     ]
    },
    {
     "name": "stderr",
     "output_type": "stream",
     "text": [
      "IOPub message rate exceeded.\n",
      "The notebook server will temporarily stop sending output\n",
      "to the client in order to avoid crashing it.\n",
      "To change this limit, set the config variable\n",
      "`--NotebookApp.iopub_msg_rate_limit`.\n",
      "\n",
      "Current values:\n",
      "NotebookApp.iopub_msg_rate_limit=1000.0 (msgs/sec)\n",
      "NotebookApp.rate_limit_window=3.0 (secs)\n",
      "\n"
     ]
    },
    {
     "name": "stdout",
     "output_type": "stream",
     "text": [
      "217/217 [==============================] - 16s 73ms/step - loss: -0.6759 - cosine_similarity: -0.6759 - val_loss: -0.5717 - val_cosine_similarity: -0.5717\n",
      "Epoch 286/800\n",
      "217/217 [==============================] - 16s 74ms/step - loss: -0.6759 - cosine_similarity: -0.6760 - val_loss: -0.5720 - val_cosine_similarity: -0.5721\n",
      "Epoch 287/800\n",
      "217/217 [==============================] - 15s 71ms/step - loss: -0.6765 - cosine_similarity: -0.6765 - val_loss: -0.5719 - val_cosine_similarity: -0.5719\n",
      "Epoch 288/800\n",
      "217/217 [==============================] - 16s 73ms/step - loss: -0.6762 - cosine_similarity: -0.6763 - val_loss: -0.5715 - val_cosine_similarity: -0.5715\n",
      "Epoch 289/800\n",
      "217/217 [==============================] - 17s 80ms/step - loss: -0.6764 - cosine_similarity: -0.6764 - val_loss: -0.5716 - val_cosine_similarity: -0.5717\n",
      "Epoch 290/800\n",
      "217/217 [==============================] - 16s 74ms/step - loss: -0.6761 - cosine_similarity: -0.6762 - val_loss: -0.5716 - val_cosine_similarity: -0.5716\n",
      "Epoch 291/800\n",
      "217/217 [==============================] - 16s 73ms/step - loss: -0.6766 - cosine_similarity: -0.6766 - val_loss: -0.5717 - val_cosine_similarity: -0.5716\n",
      "Epoch 292/800\n",
      "217/217 [==============================] - 16s 72ms/step - loss: -0.6768 - cosine_similarity: -0.6769 - val_loss: -0.5725 - val_cosine_similarity: -0.5724\n",
      "Epoch 293/800\n",
      "217/217 [==============================] - 16s 73ms/step - loss: -0.6769 - cosine_similarity: -0.6769 - val_loss: -0.5714 - val_cosine_similarity: -0.5714\n",
      "Epoch 294/800\n",
      "217/217 [==============================] - 18s 82ms/step - loss: -0.6765 - cosine_similarity: -0.6765 - val_loss: -0.5717 - val_cosine_similarity: -0.5716\n",
      "Epoch 295/800\n",
      "217/217 [==============================] - 16s 72ms/step - loss: -0.6769 - cosine_similarity: -0.6769 - val_loss: -0.5715 - val_cosine_similarity: -0.5715\n",
      "Epoch 296/800\n",
      "217/217 [==============================] - 16s 73ms/step - loss: -0.6771 - cosine_similarity: -0.6772 - val_loss: -0.5712 - val_cosine_similarity: -0.5711\n",
      "Epoch 297/800\n",
      "175/217 [=======================>......] - ETA: 2s - loss: -0.6769 - cosine_similarity: -0.6769"
     ]
    },
    {
     "name": "stderr",
     "output_type": "stream",
     "text": [
      "IOPub message rate exceeded.\n",
      "The notebook server will temporarily stop sending output\n",
      "to the client in order to avoid crashing it.\n",
      "To change this limit, set the config variable\n",
      "`--NotebookApp.iopub_msg_rate_limit`.\n",
      "\n",
      "Current values:\n",
      "NotebookApp.iopub_msg_rate_limit=1000.0 (msgs/sec)\n",
      "NotebookApp.rate_limit_window=3.0 (secs)\n",
      "\n"
     ]
    },
    {
     "name": "stdout",
     "output_type": "stream",
     "text": [
      "217/217 [==============================] - 16s 73ms/step - loss: -0.6781 - cosine_similarity: -0.6782 - val_loss: -0.5730 - val_cosine_similarity: -0.5730\n",
      "Epoch 314/800\n",
      "217/217 [==============================] - 16s 73ms/step - loss: -0.6786 - cosine_similarity: -0.6786 - val_loss: -0.5725 - val_cosine_similarity: -0.5725\n",
      "Epoch 315/800\n",
      "217/217 [==============================] - 16s 72ms/step - loss: -0.6784 - cosine_similarity: -0.6784 - val_loss: -0.5717 - val_cosine_similarity: -0.5716\n",
      "Epoch 316/800\n",
      "217/217 [==============================] - 16s 75ms/step - loss: -0.6783 - cosine_similarity: -0.6783 - val_loss: -0.5722 - val_cosine_similarity: -0.5722\n",
      "Epoch 317/800\n",
      "217/217 [==============================] - 16s 73ms/step - loss: -0.6786 - cosine_similarity: -0.6787 - val_loss: -0.5723 - val_cosine_similarity: -0.5723\n",
      "Epoch 318/800\n",
      "217/217 [==============================] - 17s 77ms/step - loss: -0.6788 - cosine_similarity: -0.6788 - val_loss: -0.5721 - val_cosine_similarity: -0.5721\n",
      "Epoch 319/800\n",
      "217/217 [==============================] - 16s 72ms/step - loss: -0.6786 - cosine_similarity: -0.6786 - val_loss: -0.5726 - val_cosine_similarity: -0.5726\n",
      "Epoch 320/800\n",
      " 96/217 [============>.................] - ETA: 6s - loss: -0.6800 - cosine_similarity: -0.6801"
     ]
    },
    {
     "name": "stderr",
     "output_type": "stream",
     "text": [
      "IOPub message rate exceeded.\n",
      "The notebook server will temporarily stop sending output\n",
      "to the client in order to avoid crashing it.\n",
      "To change this limit, set the config variable\n",
      "`--NotebookApp.iopub_msg_rate_limit`.\n",
      "\n",
      "Current values:\n",
      "NotebookApp.iopub_msg_rate_limit=1000.0 (msgs/sec)\n",
      "NotebookApp.rate_limit_window=3.0 (secs)\n",
      "\n"
     ]
    },
    {
     "name": "stdout",
     "output_type": "stream",
     "text": [
      "217/217 [==============================] - 16s 72ms/step - loss: -0.6794 - cosine_similarity: -0.6794 - val_loss: -0.5722 - val_cosine_similarity: -0.5722\n",
      "Epoch 330/800\n",
      "217/217 [==============================] - 16s 74ms/step - loss: -0.6794 - cosine_similarity: -0.6795 - val_loss: -0.5725 - val_cosine_similarity: -0.5725\n",
      "Epoch 331/800\n",
      "217/217 [==============================] - 16s 72ms/step - loss: -0.6797 - cosine_similarity: -0.6797 - val_loss: -0.5714 - val_cosine_similarity: -0.5714\n",
      "Epoch 332/800\n",
      "217/217 [==============================] - 16s 73ms/step - loss: -0.6796 - cosine_similarity: -0.6797 - val_loss: -0.5718 - val_cosine_similarity: -0.5717\n",
      "Epoch 333/800\n",
      "217/217 [==============================] - 16s 73ms/step - loss: -0.6796 - cosine_similarity: -0.6797 - val_loss: -0.5724 - val_cosine_similarity: -0.5724\n",
      "Epoch 334/800\n",
      "217/217 [==============================] - 16s 73ms/step - loss: -0.6794 - cosine_similarity: -0.6794 - val_loss: -0.5720 - val_cosine_similarity: -0.5719\n",
      "Epoch 335/800\n",
      "217/217 [==============================] - 16s 72ms/step - loss: -0.6797 - cosine_similarity: -0.6797 - val_loss: -0.5723 - val_cosine_similarity: -0.5723\n",
      "Epoch 336/800\n",
      "217/217 [==============================] - 16s 74ms/step - loss: -0.6797 - cosine_similarity: -0.6797 - val_loss: -0.5723 - val_cosine_similarity: -0.5723\n",
      "Epoch 337/800\n",
      "217/217 [==============================] - 16s 71ms/step - loss: -0.6799 - cosine_similarity: -0.6799 - val_loss: -0.5721 - val_cosine_similarity: -0.5721\n",
      "Epoch 338/800\n",
      "217/217 [==============================] - 16s 73ms/step - loss: -0.6803 - cosine_similarity: -0.6804 - val_loss: -0.5718 - val_cosine_similarity: -0.5718\n",
      "Epoch 339/800\n",
      "217/217 [==============================] - 16s 72ms/step - loss: -0.6801 - cosine_similarity: -0.6801 - val_loss: -0.5723 - val_cosine_similarity: -0.5723\n",
      "Epoch 340/800\n",
      "217/217 [==============================] - 16s 72ms/step - loss: -0.6800 - cosine_similarity: -0.6800 - val_loss: -0.5731 - val_cosine_similarity: -0.5731\n",
      "Epoch 341/800\n",
      " 79/217 [=========>....................] - ETA: 7s - loss: -0.6814 - cosine_similarity: -0.6814"
     ]
    },
    {
     "name": "stderr",
     "output_type": "stream",
     "text": [
      "IOPub message rate exceeded.\n",
      "The notebook server will temporarily stop sending output\n",
      "to the client in order to avoid crashing it.\n",
      "To change this limit, set the config variable\n",
      "`--NotebookApp.iopub_msg_rate_limit`.\n",
      "\n",
      "Current values:\n",
      "NotebookApp.iopub_msg_rate_limit=1000.0 (msgs/sec)\n",
      "NotebookApp.rate_limit_window=3.0 (secs)\n",
      "\n"
     ]
    },
    {
     "name": "stdout",
     "output_type": "stream",
     "text": [
      "217/217 [==============================] - 16s 73ms/step - loss: -0.6813 - cosine_similarity: -0.6814 - val_loss: -0.5716 - val_cosine_similarity: -0.5714\n",
      "Epoch 359/800\n",
      "217/217 [==============================] - 16s 74ms/step - loss: -0.6812 - cosine_similarity: -0.6813 - val_loss: -0.5726 - val_cosine_similarity: -0.5723\n",
      "Epoch 360/800\n",
      "217/217 [==============================] - 16s 73ms/step - loss: -0.6814 - cosine_similarity: -0.6814 - val_loss: -0.5723 - val_cosine_similarity: -0.5721\n",
      "Epoch 361/800\n",
      "217/217 [==============================] - 16s 73ms/step - loss: -0.6815 - cosine_similarity: -0.6816 - val_loss: -0.5724 - val_cosine_similarity: -0.5722\n",
      "Epoch 362/800\n",
      "217/217 [==============================] - 16s 73ms/step - loss: -0.6814 - cosine_similarity: -0.6814 - val_loss: -0.5728 - val_cosine_similarity: -0.5726\n",
      "Epoch 363/800\n",
      "217/217 [==============================] - 16s 72ms/step - loss: -0.6813 - cosine_similarity: -0.6813 - val_loss: -0.5722 - val_cosine_similarity: -0.5720\n",
      "Epoch 364/800\n",
      "217/217 [==============================] - 16s 72ms/step - loss: -0.6815 - cosine_similarity: -0.6815 - val_loss: -0.5716 - val_cosine_similarity: -0.5714\n",
      "Epoch 365/800\n",
      "163/217 [=====================>........] - ETA: 2s - loss: -0.6824 - cosine_similarity: -0.6824"
     ]
    },
    {
     "name": "stderr",
     "output_type": "stream",
     "text": [
      "IOPub message rate exceeded.\n",
      "The notebook server will temporarily stop sending output\n",
      "to the client in order to avoid crashing it.\n",
      "To change this limit, set the config variable\n",
      "`--NotebookApp.iopub_msg_rate_limit`.\n",
      "\n",
      "Current values:\n",
      "NotebookApp.iopub_msg_rate_limit=1000.0 (msgs/sec)\n",
      "NotebookApp.rate_limit_window=3.0 (secs)\n",
      "\n"
     ]
    },
    {
     "name": "stdout",
     "output_type": "stream",
     "text": [
      "217/217 [==============================] - 16s 73ms/step - loss: -0.6823 - cosine_similarity: -0.6824 - val_loss: -0.5717 - val_cosine_similarity: -0.5715\n",
      "Epoch 377/800\n",
      "217/217 [==============================] - 16s 72ms/step - loss: -0.6823 - cosine_similarity: -0.6823 - val_loss: -0.5727 - val_cosine_similarity: -0.5725\n",
      "Epoch 378/800\n",
      "217/217 [==============================] - 16s 72ms/step - loss: -0.6825 - cosine_similarity: -0.6825 - val_loss: -0.5723 - val_cosine_similarity: -0.5721\n",
      "Epoch 379/800\n",
      "217/217 [==============================] - 16s 72ms/step - loss: -0.6823 - cosine_similarity: -0.6823 - val_loss: -0.5717 - val_cosine_similarity: -0.5715\n",
      "Epoch 380/800\n",
      "217/217 [==============================] - 16s 74ms/step - loss: -0.6824 - cosine_similarity: -0.6824 - val_loss: -0.5724 - val_cosine_similarity: -0.5722\n",
      "Epoch 381/800\n",
      "217/217 [==============================] - 16s 73ms/step - loss: -0.6824 - cosine_similarity: -0.6824 - val_loss: -0.5726 - val_cosine_similarity: -0.5724\n",
      "Epoch 382/800\n",
      "217/217 [==============================] - 16s 74ms/step - loss: -0.6824 - cosine_similarity: -0.6825 - val_loss: -0.5726 - val_cosine_similarity: -0.5724\n",
      "Epoch 383/800\n",
      "217/217 [==============================] - 16s 72ms/step - loss: -0.6826 - cosine_similarity: -0.6826 - val_loss: -0.5721 - val_cosine_similarity: -0.5718\n",
      "Epoch 384/800\n",
      "217/217 [==============================] - 16s 73ms/step - loss: -0.6826 - cosine_similarity: -0.6827 - val_loss: -0.5718 - val_cosine_similarity: -0.5716\n",
      "Epoch 385/800\n",
      "217/217 [==============================] - 15s 71ms/step - loss: -0.6828 - cosine_similarity: -0.6828 - val_loss: -0.5720 - val_cosine_similarity: -0.5718\n",
      "Epoch 386/800\n",
      "217/217 [==============================] - 16s 73ms/step - loss: -0.6829 - cosine_similarity: -0.6829 - val_loss: -0.5730 - val_cosine_similarity: -0.5727\n",
      "Epoch 387/800\n",
      "217/217 [==============================] - 15s 71ms/step - loss: -0.6828 - cosine_similarity: -0.6828 - val_loss: -0.5730 - val_cosine_similarity: -0.5728\n",
      "Epoch 388/800\n",
      "202/217 [==========================>...] - ETA: 0s - loss: -0.6826 - cosine_similarity: -0.6827"
     ]
    },
    {
     "name": "stderr",
     "output_type": "stream",
     "text": [
      "IOPub message rate exceeded.\n",
      "The notebook server will temporarily stop sending output\n",
      "to the client in order to avoid crashing it.\n",
      "To change this limit, set the config variable\n",
      "`--NotebookApp.iopub_msg_rate_limit`.\n",
      "\n",
      "Current values:\n",
      "NotebookApp.iopub_msg_rate_limit=1000.0 (msgs/sec)\n",
      "NotebookApp.rate_limit_window=3.0 (secs)\n",
      "\n"
     ]
    },
    {
     "name": "stdout",
     "output_type": "stream",
     "text": [
      "217/217 [==============================] - 16s 73ms/step - loss: -0.6842 - cosine_similarity: -0.6843 - val_loss: -0.5714 - val_cosine_similarity: -0.5715\n",
      "Epoch 414/800\n",
      "217/217 [==============================] - 16s 73ms/step - loss: -0.6844 - cosine_similarity: -0.6844 - val_loss: -0.5730 - val_cosine_similarity: -0.5731\n",
      "Epoch 415/800\n",
      "217/217 [==============================] - 16s 72ms/step - loss: -0.6842 - cosine_similarity: -0.6842 - val_loss: -0.5722 - val_cosine_similarity: -0.5724\n",
      "Epoch 416/800\n",
      "217/217 [==============================] - 16s 72ms/step - loss: -0.6843 - cosine_similarity: -0.6844 - val_loss: -0.5719 - val_cosine_similarity: -0.5720\n",
      "Epoch 417/800\n",
      "217/217 [==============================] - 16s 72ms/step - loss: -0.6839 - cosine_similarity: -0.6840 - val_loss: -0.5728 - val_cosine_similarity: -0.5729\n",
      "Epoch 418/800\n",
      "217/217 [==============================] - 16s 73ms/step - loss: -0.6844 - cosine_similarity: -0.6844 - val_loss: -0.5728 - val_cosine_similarity: -0.5730\n",
      "Epoch 419/800\n",
      "217/217 [==============================] - 17s 80ms/step - loss: -0.6842 - cosine_similarity: -0.6843 - val_loss: -0.5724 - val_cosine_similarity: -0.5726\n",
      "Epoch 420/800\n",
      " 15/217 [=>............................] - ETA: 12s - loss: -0.6853 - cosine_similarity: -0.6853"
     ]
    },
    {
     "name": "stderr",
     "output_type": "stream",
     "text": [
      "IOPub message rate exceeded.\n",
      "The notebook server will temporarily stop sending output\n",
      "to the client in order to avoid crashing it.\n",
      "To change this limit, set the config variable\n",
      "`--NotebookApp.iopub_msg_rate_limit`.\n",
      "\n",
      "Current values:\n",
      "NotebookApp.iopub_msg_rate_limit=1000.0 (msgs/sec)\n",
      "NotebookApp.rate_limit_window=3.0 (secs)\n",
      "\n"
     ]
    },
    {
     "name": "stdout",
     "output_type": "stream",
     "text": [
      "217/217 [==============================] - 16s 72ms/step - loss: -0.6851 - cosine_similarity: -0.6852 - val_loss: -0.5724 - val_cosine_similarity: -0.5724\n",
      "Epoch 428/800\n",
      "217/217 [==============================] - 16s 72ms/step - loss: -0.6847 - cosine_similarity: -0.6847 - val_loss: -0.5721 - val_cosine_similarity: -0.5721\n",
      "Epoch 429/800\n",
      "217/217 [==============================] - 16s 73ms/step - loss: -0.6847 - cosine_similarity: -0.6847 - val_loss: -0.5731 - val_cosine_similarity: -0.5730\n",
      "Epoch 430/800\n",
      "217/217 [==============================] - 16s 72ms/step - loss: -0.6851 - cosine_similarity: -0.6851 - val_loss: -0.5725 - val_cosine_similarity: -0.5724\n",
      "Epoch 431/800\n",
      "217/217 [==============================] - 16s 73ms/step - loss: -0.6852 - cosine_similarity: -0.6853 - val_loss: -0.5723 - val_cosine_similarity: -0.5723\n",
      "Epoch 432/800\n",
      "217/217 [==============================] - 16s 73ms/step - loss: -0.6851 - cosine_similarity: -0.6851 - val_loss: -0.5726 - val_cosine_similarity: -0.5726\n",
      "Epoch 433/800\n",
      "217/217 [==============================] - 16s 73ms/step - loss: -0.6849 - cosine_similarity: -0.6849 - val_loss: -0.5722 - val_cosine_similarity: -0.5722\n",
      "Epoch 434/800\n",
      "217/217 [==============================] - 16s 74ms/step - loss: -0.6854 - cosine_similarity: -0.6854 - val_loss: -0.5728 - val_cosine_similarity: -0.5728\n",
      "Epoch 435/800\n",
      "217/217 [==============================] - 16s 72ms/step - loss: -0.6852 - cosine_similarity: -0.6852 - val_loss: -0.5726 - val_cosine_similarity: -0.5726\n",
      "Epoch 436/800\n",
      "217/217 [==============================] - 16s 73ms/step - loss: -0.6850 - cosine_similarity: -0.6850 - val_loss: -0.5724 - val_cosine_similarity: -0.5724\n",
      "Epoch 437/800\n",
      "217/217 [==============================] - 16s 75ms/step - loss: -0.6854 - cosine_similarity: -0.6854 - val_loss: -0.5730 - val_cosine_similarity: -0.5730\n",
      "Epoch 438/800\n",
      "217/217 [==============================] - 16s 73ms/step - loss: -0.6858 - cosine_similarity: -0.6858 - val_loss: -0.5724 - val_cosine_similarity: -0.5724\n",
      "Epoch 439/800\n",
      " 45/217 [=====>........................] - ETA: 9s - loss: -0.6890 - cosine_similarity: -0.6889"
     ]
    },
    {
     "name": "stderr",
     "output_type": "stream",
     "text": [
      "IOPub message rate exceeded.\n",
      "The notebook server will temporarily stop sending output\n",
      "to the client in order to avoid crashing it.\n",
      "To change this limit, set the config variable\n",
      "`--NotebookApp.iopub_msg_rate_limit`.\n",
      "\n",
      "Current values:\n",
      "NotebookApp.iopub_msg_rate_limit=1000.0 (msgs/sec)\n",
      "NotebookApp.rate_limit_window=3.0 (secs)\n",
      "\n"
     ]
    },
    {
     "name": "stdout",
     "output_type": "stream",
     "text": [
      "217/217 [==============================] - 16s 73ms/step - loss: -0.6860 - cosine_similarity: -0.6860 - val_loss: -0.5731 - val_cosine_similarity: -0.5729\n",
      "Epoch 454/800\n",
      "217/217 [==============================] - 16s 73ms/step - loss: -0.6861 - cosine_similarity: -0.6861 - val_loss: -0.5716 - val_cosine_similarity: -0.5714\n",
      "Epoch 455/800\n",
      "217/217 [==============================] - 16s 74ms/step - loss: -0.6863 - cosine_similarity: -0.6864 - val_loss: -0.5725 - val_cosine_similarity: -0.5723\n",
      "Epoch 456/800\n",
      "217/217 [==============================] - 17s 81ms/step - loss: -0.6860 - cosine_similarity: -0.6861 - val_loss: -0.5722 - val_cosine_similarity: -0.5720\n",
      "Epoch 457/800\n",
      "217/217 [==============================] - 16s 73ms/step - loss: -0.6863 - cosine_similarity: -0.6863 - val_loss: -0.5721 - val_cosine_similarity: -0.5720\n",
      "Epoch 458/800\n",
      "217/217 [==============================] - 16s 73ms/step - loss: -0.6866 - cosine_similarity: -0.6866 - val_loss: -0.5722 - val_cosine_similarity: -0.5721\n",
      "Epoch 459/800\n",
      "217/217 [==============================] - 16s 74ms/step - loss: -0.6863 - cosine_similarity: -0.6864 - val_loss: -0.5722 - val_cosine_similarity: -0.5720\n",
      "Epoch 460/800\n",
      " 50/217 [=====>........................] - ETA: 8s - loss: -0.6885 - cosine_similarity: -0.6885"
     ]
    },
    {
     "name": "stderr",
     "output_type": "stream",
     "text": [
      "IOPub message rate exceeded.\n",
      "The notebook server will temporarily stop sending output\n",
      "to the client in order to avoid crashing it.\n",
      "To change this limit, set the config variable\n",
      "`--NotebookApp.iopub_msg_rate_limit`.\n",
      "\n",
      "Current values:\n",
      "NotebookApp.iopub_msg_rate_limit=1000.0 (msgs/sec)\n",
      "NotebookApp.rate_limit_window=3.0 (secs)\n",
      "\n"
     ]
    },
    {
     "name": "stdout",
     "output_type": "stream",
     "text": [
      "217/217 [==============================] - 16s 72ms/step - loss: -0.6867 - cosine_similarity: -0.6868 - val_loss: -0.5726 - val_cosine_similarity: -0.5726\n",
      "Epoch 469/800\n",
      "217/217 [==============================] - 16s 74ms/step - loss: -0.6867 - cosine_similarity: -0.6867 - val_loss: -0.5730 - val_cosine_similarity: -0.5730\n",
      "Epoch 470/800\n",
      "217/217 [==============================] - 16s 73ms/step - loss: -0.6866 - cosine_similarity: -0.6866 - val_loss: -0.5736 - val_cosine_similarity: -0.5736\n",
      "Epoch 471/800\n",
      "217/217 [==============================] - 16s 74ms/step - loss: -0.6866 - cosine_similarity: -0.6866 - val_loss: -0.5729 - val_cosine_similarity: -0.5729\n",
      "Epoch 472/800\n",
      "217/217 [==============================] - 15s 71ms/step - loss: -0.6867 - cosine_similarity: -0.6867 - val_loss: -0.5723 - val_cosine_similarity: -0.5724\n",
      "Epoch 473/800\n",
      "217/217 [==============================] - 16s 73ms/step - loss: -0.6869 - cosine_similarity: -0.6869 - val_loss: -0.5729 - val_cosine_similarity: -0.5729\n",
      "Epoch 474/800\n",
      "217/217 [==============================] - 16s 73ms/step - loss: -0.6870 - cosine_similarity: -0.6870 - val_loss: -0.5732 - val_cosine_similarity: -0.5732\n",
      "Epoch 475/800\n",
      "217/217 [==============================] - 16s 75ms/step - loss: -0.6871 - cosine_similarity: -0.6872 - val_loss: -0.5728 - val_cosine_similarity: -0.5728\n",
      "Epoch 476/800\n",
      "217/217 [==============================] - 16s 74ms/step - loss: -0.6868 - cosine_similarity: -0.6868 - val_loss: -0.5727 - val_cosine_similarity: -0.5727\n",
      "Epoch 477/800\n",
      "217/217 [==============================] - 16s 73ms/step - loss: -0.6870 - cosine_similarity: -0.6870 - val_loss: -0.5721 - val_cosine_similarity: -0.5721\n",
      "Epoch 478/800\n",
      "217/217 [==============================] - 16s 73ms/step - loss: -0.6869 - cosine_similarity: -0.6870 - val_loss: -0.5731 - val_cosine_similarity: -0.5732\n",
      "Epoch 479/800\n",
      "217/217 [==============================] - 16s 73ms/step - loss: -0.6871 - cosine_similarity: -0.6871 - val_loss: -0.5731 - val_cosine_similarity: -0.5731\n",
      "Epoch 480/800\n",
      "125/217 [================>.............] - ETA: 4s - loss: -0.6883 - cosine_similarity: -0.6883"
     ]
    },
    {
     "name": "stderr",
     "output_type": "stream",
     "text": [
      "IOPub message rate exceeded.\n",
      "The notebook server will temporarily stop sending output\n",
      "to the client in order to avoid crashing it.\n",
      "To change this limit, set the config variable\n",
      "`--NotebookApp.iopub_msg_rate_limit`.\n",
      "\n",
      "Current values:\n",
      "NotebookApp.iopub_msg_rate_limit=1000.0 (msgs/sec)\n",
      "NotebookApp.rate_limit_window=3.0 (secs)\n",
      "\n"
     ]
    },
    {
     "name": "stdout",
     "output_type": "stream",
     "text": [
      "217/217 [==============================] - 16s 72ms/step - loss: -0.6877 - cosine_similarity: -0.6877 - val_loss: -0.5719 - val_cosine_similarity: -0.5719\n",
      "Epoch 500/800\n",
      "217/217 [==============================] - 16s 73ms/step - loss: -0.6881 - cosine_similarity: -0.6881 - val_loss: -0.5720 - val_cosine_similarity: -0.5720\n",
      "Epoch 501/800\n",
      "217/217 [==============================] - 16s 73ms/step - loss: -0.6879 - cosine_similarity: -0.6879 - val_loss: -0.5729 - val_cosine_similarity: -0.5729\n",
      "Epoch 502/800\n",
      "217/217 [==============================] - 15s 71ms/step - loss: -0.6880 - cosine_similarity: -0.6881 - val_loss: -0.5725 - val_cosine_similarity: -0.5725\n",
      "Epoch 503/800\n",
      "217/217 [==============================] - 16s 74ms/step - loss: -0.6884 - cosine_similarity: -0.6884 - val_loss: -0.5732 - val_cosine_similarity: -0.5732\n",
      "Epoch 504/800\n",
      "217/217 [==============================] - 18s 82ms/step - loss: -0.6883 - cosine_similarity: -0.6883 - val_loss: -0.5729 - val_cosine_similarity: -0.5730\n",
      "Epoch 505/800\n",
      "217/217 [==============================] - 16s 73ms/step - loss: -0.6878 - cosine_similarity: -0.6878 - val_loss: -0.5725 - val_cosine_similarity: -0.5724\n",
      "Epoch 506/800\n",
      " 40/217 [====>.........................] - ETA: 9s - loss: -0.6892 - cosine_similarity: -0.6892"
     ]
    },
    {
     "name": "stderr",
     "output_type": "stream",
     "text": [
      "IOPub message rate exceeded.\n",
      "The notebook server will temporarily stop sending output\n",
      "to the client in order to avoid crashing it.\n",
      "To change this limit, set the config variable\n",
      "`--NotebookApp.iopub_msg_rate_limit`.\n",
      "\n",
      "Current values:\n",
      "NotebookApp.iopub_msg_rate_limit=1000.0 (msgs/sec)\n",
      "NotebookApp.rate_limit_window=3.0 (secs)\n",
      "\n"
     ]
    },
    {
     "name": "stdout",
     "output_type": "stream",
     "text": [
      "217/217 [==============================] - 16s 73ms/step - loss: -0.6882 - cosine_similarity: -0.6882 - val_loss: -0.5721 - val_cosine_similarity: -0.5721\n",
      "Epoch 516/800\n",
      "217/217 [==============================] - 16s 73ms/step - loss: -0.6884 - cosine_similarity: -0.6884 - val_loss: -0.5731 - val_cosine_similarity: -0.5731\n",
      "Epoch 517/800\n",
      "217/217 [==============================] - 16s 72ms/step - loss: -0.6887 - cosine_similarity: -0.6888 - val_loss: -0.5726 - val_cosine_similarity: -0.5725\n",
      "Epoch 518/800\n",
      "217/217 [==============================] - 15s 71ms/step - loss: -0.6890 - cosine_similarity: -0.6891 - val_loss: -0.5724 - val_cosine_similarity: -0.5724\n",
      "Epoch 519/800\n",
      "217/217 [==============================] - 16s 73ms/step - loss: -0.6886 - cosine_similarity: -0.6887 - val_loss: -0.5725 - val_cosine_similarity: -0.5725\n",
      "Epoch 520/800\n",
      "217/217 [==============================] - 18s 81ms/step - loss: -0.6885 - cosine_similarity: -0.6886 - val_loss: -0.5721 - val_cosine_similarity: -0.5721\n",
      "Epoch 521/800\n",
      "217/217 [==============================] - 16s 72ms/step - loss: -0.6885 - cosine_similarity: -0.6885 - val_loss: -0.5729 - val_cosine_similarity: -0.5729\n",
      "Epoch 522/800\n",
      "217/217 [==============================] - 16s 74ms/step - loss: -0.6886 - cosine_similarity: -0.6886 - val_loss: -0.5723 - val_cosine_similarity: -0.5723\n",
      "Epoch 523/800\n",
      "217/217 [==============================] - 16s 71ms/step - loss: -0.6886 - cosine_similarity: -0.6886 - val_loss: -0.5731 - val_cosine_similarity: -0.5730\n",
      "Epoch 524/800\n",
      "217/217 [==============================] - 16s 73ms/step - loss: -0.6892 - cosine_similarity: -0.6893 - val_loss: -0.5734 - val_cosine_similarity: -0.5734\n",
      "Epoch 525/800\n",
      "217/217 [==============================] - 16s 73ms/step - loss: -0.6888 - cosine_similarity: -0.6888 - val_loss: -0.5732 - val_cosine_similarity: -0.5732\n",
      "Epoch 526/800\n",
      "217/217 [==============================] - 16s 73ms/step - loss: -0.6891 - cosine_similarity: -0.6891 - val_loss: -0.5720 - val_cosine_similarity: -0.5720\n",
      "Epoch 527/800\n",
      "103/217 [=============>................] - ETA: 6s - loss: -0.6904 - cosine_similarity: -0.6904"
     ]
    },
    {
     "name": "stderr",
     "output_type": "stream",
     "text": [
      "IOPub message rate exceeded.\n",
      "The notebook server will temporarily stop sending output\n",
      "to the client in order to avoid crashing it.\n",
      "To change this limit, set the config variable\n",
      "`--NotebookApp.iopub_msg_rate_limit`.\n",
      "\n",
      "Current values:\n",
      "NotebookApp.iopub_msg_rate_limit=1000.0 (msgs/sec)\n",
      "NotebookApp.rate_limit_window=3.0 (secs)\n",
      "\n"
     ]
    },
    {
     "name": "stdout",
     "output_type": "stream",
     "text": [
      "217/217 [==============================] - 15s 71ms/step - loss: -0.6894 - cosine_similarity: -0.6895 - val_loss: -0.5721 - val_cosine_similarity: -0.5721\n",
      "Epoch 550/800\n",
      "217/217 [==============================] - 16s 74ms/step - loss: -0.6897 - cosine_similarity: -0.6897 - val_loss: -0.5724 - val_cosine_similarity: -0.5723\n",
      "Epoch 551/800\n",
      "217/217 [==============================] - 16s 73ms/step - loss: -0.6900 - cosine_similarity: -0.6901 - val_loss: -0.5724 - val_cosine_similarity: -0.5723\n",
      "Epoch 552/800\n",
      "217/217 [==============================] - 16s 75ms/step - loss: -0.6897 - cosine_similarity: -0.6897 - val_loss: -0.5722 - val_cosine_similarity: -0.5722\n",
      "Epoch 553/800\n",
      "217/217 [==============================] - 15s 70ms/step - loss: -0.6896 - cosine_similarity: -0.6897 - val_loss: -0.5720 - val_cosine_similarity: -0.5720\n",
      "Epoch 554/800\n",
      "217/217 [==============================] - 16s 73ms/step - loss: -0.6898 - cosine_similarity: -0.6898 - val_loss: -0.5717 - val_cosine_similarity: -0.5717\n",
      "Epoch 555/800\n",
      "217/217 [==============================] - 16s 72ms/step - loss: -0.6896 - cosine_similarity: -0.6896 - val_loss: -0.5723 - val_cosine_similarity: -0.5722\n",
      "Epoch 556/800\n",
      "217/217 [==============================] - 16s 73ms/step - loss: -0.6896 - cosine_similarity: -0.6896 - val_loss: -0.5721 - val_cosine_similarity: -0.5721\n",
      "Epoch 557/800\n",
      "  1/217 [..............................] - ETA: 11s - loss: -0.6789 - cosine_similarity: -0.6789"
     ]
    },
    {
     "name": "stderr",
     "output_type": "stream",
     "text": [
      "IOPub message rate exceeded.\n",
      "The notebook server will temporarily stop sending output\n",
      "to the client in order to avoid crashing it.\n",
      "To change this limit, set the config variable\n",
      "`--NotebookApp.iopub_msg_rate_limit`.\n",
      "\n",
      "Current values:\n",
      "NotebookApp.iopub_msg_rate_limit=1000.0 (msgs/sec)\n",
      "NotebookApp.rate_limit_window=3.0 (secs)\n",
      "\n"
     ]
    },
    {
     "name": "stdout",
     "output_type": "stream",
     "text": [
      "217/217 [==============================] - 16s 74ms/step - loss: -0.6906 - cosine_similarity: -0.6907 - val_loss: -0.5731 - val_cosine_similarity: -0.5730\n",
      "Epoch 575/800\n",
      "217/217 [==============================] - 16s 73ms/step - loss: -0.6904 - cosine_similarity: -0.6905 - val_loss: -0.5731 - val_cosine_similarity: -0.5730\n",
      "Epoch 576/800\n",
      "217/217 [==============================] - 16s 74ms/step - loss: -0.6902 - cosine_similarity: -0.6902 - val_loss: -0.5735 - val_cosine_similarity: -0.5734\n",
      "Epoch 577/800\n",
      "217/217 [==============================] - 16s 72ms/step - loss: -0.6907 - cosine_similarity: -0.6907 - val_loss: -0.5736 - val_cosine_similarity: -0.5735\n",
      "Epoch 578/800\n",
      "217/217 [==============================] - 16s 73ms/step - loss: -0.6905 - cosine_similarity: -0.6905 - val_loss: -0.5738 - val_cosine_similarity: -0.5738\n",
      "Epoch 579/800\n",
      "217/217 [==============================] - 16s 72ms/step - loss: -0.6905 - cosine_similarity: -0.6906 - val_loss: -0.5730 - val_cosine_similarity: -0.5729\n",
      "Epoch 580/800\n",
      "217/217 [==============================] - 16s 72ms/step - loss: -0.6904 - cosine_similarity: -0.6904 - val_loss: -0.5734 - val_cosine_similarity: -0.5733\n",
      "Epoch 581/800\n",
      "217/217 [==============================] - 17s 80ms/step - loss: -0.6906 - cosine_similarity: -0.6907 - val_loss: -0.5734 - val_cosine_similarity: -0.5733\n",
      "Epoch 582/800\n",
      "217/217 [==============================] - 16s 72ms/step - loss: -0.6905 - cosine_similarity: -0.6906 - val_loss: -0.5722 - val_cosine_similarity: -0.5722\n",
      "Epoch 583/800\n",
      "217/217 [==============================] - 16s 74ms/step - loss: -0.6909 - cosine_similarity: -0.6910 - val_loss: -0.5727 - val_cosine_similarity: -0.5727\n",
      "Epoch 584/800\n",
      "217/217 [==============================] - 17s 80ms/step - loss: -0.6906 - cosine_similarity: -0.6906 - val_loss: -0.5731 - val_cosine_similarity: -0.5731\n",
      "Epoch 585/800\n",
      "217/217 [==============================] - 16s 73ms/step - loss: -0.6907 - cosine_similarity: -0.6907 - val_loss: -0.5733 - val_cosine_similarity: -0.5732\n",
      "Epoch 586/800\n",
      "217/217 [==============================] - 16s 74ms/step - loss: -0.6905 - cosine_similarity: -0.6905 - val_loss: -0.5726 - val_cosine_similarity: -0.5725\n",
      "Epoch 587/800\n",
      "  5/217 [..............................] - ETA: 11s - loss: -0.6916 - cosine_similarity: -0.6916"
     ]
    },
    {
     "name": "stderr",
     "output_type": "stream",
     "text": [
      "IOPub message rate exceeded.\n",
      "The notebook server will temporarily stop sending output\n",
      "to the client in order to avoid crashing it.\n",
      "To change this limit, set the config variable\n",
      "`--NotebookApp.iopub_msg_rate_limit`.\n",
      "\n",
      "Current values:\n",
      "NotebookApp.iopub_msg_rate_limit=1000.0 (msgs/sec)\n",
      "NotebookApp.rate_limit_window=3.0 (secs)\n",
      "\n"
     ]
    },
    {
     "name": "stdout",
     "output_type": "stream",
     "text": [
      "217/217 [==============================] - 16s 72ms/step - loss: -0.6910 - cosine_similarity: -0.6910 - val_loss: -0.5733 - val_cosine_similarity: -0.5735\n",
      "Epoch 604/800\n",
      "217/217 [==============================] - 16s 74ms/step - loss: -0.6912 - cosine_similarity: -0.6913 - val_loss: -0.5734 - val_cosine_similarity: -0.5736\n",
      "Epoch 605/800\n",
      "217/217 [==============================] - 17s 76ms/step - loss: -0.6913 - cosine_similarity: -0.6913 - val_loss: -0.5735 - val_cosine_similarity: -0.5737\n",
      "Epoch 606/800\n",
      "217/217 [==============================] - 16s 76ms/step - loss: -0.6914 - cosine_similarity: -0.6914 - val_loss: -0.5731 - val_cosine_similarity: -0.5730\n",
      "Epoch 607/800\n",
      "217/217 [==============================] - 16s 74ms/step - loss: -0.6917 - cosine_similarity: -0.6917 - val_loss: -0.5734 - val_cosine_similarity: -0.5733\n",
      "Epoch 608/800\n",
      "217/217 [==============================] - 16s 72ms/step - loss: -0.6912 - cosine_similarity: -0.6912 - val_loss: -0.5727 - val_cosine_similarity: -0.5726\n",
      "Epoch 609/800\n",
      "217/217 [==============================] - 16s 72ms/step - loss: -0.6909 - cosine_similarity: -0.6910 - val_loss: -0.5739 - val_cosine_similarity: -0.5738\n",
      "Epoch 610/800\n",
      "118/217 [===============>..............] - ETA: 5s - loss: -0.6924 - cosine_similarity: -0.6924"
     ]
    },
    {
     "name": "stderr",
     "output_type": "stream",
     "text": [
      "IOPub message rate exceeded.\n",
      "The notebook server will temporarily stop sending output\n",
      "to the client in order to avoid crashing it.\n",
      "To change this limit, set the config variable\n",
      "`--NotebookApp.iopub_msg_rate_limit`.\n",
      "\n",
      "Current values:\n",
      "NotebookApp.iopub_msg_rate_limit=1000.0 (msgs/sec)\n",
      "NotebookApp.rate_limit_window=3.0 (secs)\n",
      "\n"
     ]
    },
    {
     "name": "stdout",
     "output_type": "stream",
     "text": [
      "217/217 [==============================] - 15s 70ms/step - loss: -0.6914 - cosine_similarity: -0.6915 - val_loss: -0.5731 - val_cosine_similarity: -0.5730\n",
      "Epoch 614/800\n",
      "217/217 [==============================] - 16s 74ms/step - loss: -0.6916 - cosine_similarity: -0.6917 - val_loss: -0.5736 - val_cosine_similarity: -0.5736\n",
      "Epoch 615/800\n",
      "217/217 [==============================] - 16s 73ms/step - loss: -0.6918 - cosine_similarity: -0.6919 - val_loss: -0.5737 - val_cosine_similarity: -0.5737\n",
      "Epoch 616/800\n",
      "217/217 [==============================] - 16s 72ms/step - loss: -0.6917 - cosine_similarity: -0.6917 - val_loss: -0.5733 - val_cosine_similarity: -0.5733\n",
      "Epoch 617/800\n",
      "217/217 [==============================] - 16s 72ms/step - loss: -0.6913 - cosine_similarity: -0.6914 - val_loss: -0.5734 - val_cosine_similarity: -0.5734\n",
      "Epoch 618/800\n",
      "217/217 [==============================] - 16s 73ms/step - loss: -0.6914 - cosine_similarity: -0.6914 - val_loss: -0.5732 - val_cosine_similarity: -0.5732\n",
      "Epoch 619/800\n",
      "217/217 [==============================] - 16s 73ms/step - loss: -0.6920 - cosine_similarity: -0.6921 - val_loss: -0.5737 - val_cosine_similarity: -0.5736\n",
      "Epoch 620/800\n",
      "217/217 [==============================] - 16s 74ms/step - loss: -0.6917 - cosine_similarity: -0.6918 - val_loss: -0.5734 - val_cosine_similarity: -0.5734\n",
      "Epoch 621/800\n",
      "217/217 [==============================] - 16s 73ms/step - loss: -0.6916 - cosine_similarity: -0.6916 - val_loss: -0.5731 - val_cosine_similarity: -0.5731\n",
      "Epoch 622/800\n",
      "217/217 [==============================] - 16s 73ms/step - loss: -0.6914 - cosine_similarity: -0.6915 - val_loss: -0.5736 - val_cosine_similarity: -0.5736\n",
      "Epoch 623/800\n",
      "217/217 [==============================] - 16s 74ms/step - loss: -0.6918 - cosine_similarity: -0.6919 - val_loss: -0.5729 - val_cosine_similarity: -0.5729\n",
      "Epoch 624/800\n",
      "217/217 [==============================] - 16s 73ms/step - loss: -0.6919 - cosine_similarity: -0.6919 - val_loss: -0.5728 - val_cosine_similarity: -0.5727\n",
      "Epoch 625/800\n",
      "197/217 [==========================>...] - ETA: 1s - loss: -0.6923 - cosine_similarity: -0.6924"
     ]
    },
    {
     "name": "stderr",
     "output_type": "stream",
     "text": [
      "IOPub message rate exceeded.\n",
      "The notebook server will temporarily stop sending output\n",
      "to the client in order to avoid crashing it.\n",
      "To change this limit, set the config variable\n",
      "`--NotebookApp.iopub_msg_rate_limit`.\n",
      "\n",
      "Current values:\n",
      "NotebookApp.iopub_msg_rate_limit=1000.0 (msgs/sec)\n",
      "NotebookApp.rate_limit_window=3.0 (secs)\n",
      "\n"
     ]
    },
    {
     "name": "stdout",
     "output_type": "stream",
     "text": [
      "217/217 [==============================] - 16s 76ms/step - loss: -0.6921 - cosine_similarity: -0.6921 - val_loss: -0.5729 - val_cosine_similarity: -0.5728\n",
      "Epoch 646/800\n",
      "217/217 [==============================] - 17s 77ms/step - loss: -0.6921 - cosine_similarity: -0.6921 - val_loss: -0.5730 - val_cosine_similarity: -0.5730\n",
      "Epoch 647/800\n",
      "217/217 [==============================] - 17s 77ms/step - loss: -0.6922 - cosine_similarity: -0.6923 - val_loss: -0.5731 - val_cosine_similarity: -0.5731\n",
      "Epoch 648/800\n",
      "217/217 [==============================] - 18s 82ms/step - loss: -0.6922 - cosine_similarity: -0.6922 - val_loss: -0.5728 - val_cosine_similarity: -0.5728\n",
      "Epoch 649/800\n",
      "217/217 [==============================] - 16s 73ms/step - loss: -0.6924 - cosine_similarity: -0.6925 - val_loss: -0.5726 - val_cosine_similarity: -0.5727\n",
      "Epoch 650/800\n",
      "217/217 [==============================] - 16s 73ms/step - loss: -0.6924 - cosine_similarity: -0.6924 - val_loss: -0.5732 - val_cosine_similarity: -0.5733\n",
      "Epoch 651/800\n",
      "217/217 [==============================] - 16s 72ms/step - loss: -0.6923 - cosine_similarity: -0.6924 - val_loss: -0.5730 - val_cosine_similarity: -0.5730\n",
      "Epoch 652/800\n",
      "217/217 [==============================] - 16s 74ms/step - loss: -0.6922 - cosine_similarity: -0.6922 - val_loss: -0.5730 - val_cosine_similarity: -0.5730\n",
      "Epoch 653/800\n",
      "217/217 [==============================] - 16s 73ms/step - loss: -0.6928 - cosine_similarity: -0.6928 - val_loss: -0.5725 - val_cosine_similarity: -0.5726\n",
      "Epoch 659/800\n",
      "217/217 [==============================] - 16s 73ms/step - loss: -0.6929 - cosine_similarity: -0.6929 - val_loss: -0.5729 - val_cosine_similarity: -0.5730\n",
      "Epoch 660/800\n",
      "217/217 [==============================] - 16s 73ms/step - loss: -0.6926 - cosine_similarity: -0.6927 - val_loss: -0.5734 - val_cosine_similarity: -0.5734\n",
      "Epoch 661/800\n",
      "217/217 [==============================] - 18s 82ms/step - loss: -0.6925 - cosine_similarity: -0.6926 - val_loss: -0.5738 - val_cosine_similarity: -0.5738\n",
      "Epoch 662/800\n",
      "217/217 [==============================] - 16s 72ms/step - loss: -0.6924 - cosine_similarity: -0.6925 - val_loss: -0.5733 - val_cosine_similarity: -0.5733\n",
      "Epoch 663/800\n",
      "217/217 [==============================] - 16s 72ms/step - loss: -0.6929 - cosine_similarity: -0.6929 - val_loss: -0.5722 - val_cosine_similarity: -0.5721\n",
      "Epoch 664/800\n",
      "217/217 [==============================] - 16s 73ms/step - loss: -0.6923 - cosine_similarity: -0.6924 - val_loss: -0.5715 - val_cosine_similarity: -0.5714\n",
      "Epoch 665/800\n",
      "217/217 [==============================] - 16s 73ms/step - loss: -0.6924 - cosine_similarity: -0.6925 - val_loss: -0.5726 - val_cosine_similarity: -0.5725\n",
      "Epoch 666/800\n",
      "217/217 [==============================] - 17s 77ms/step - loss: -0.6925 - cosine_similarity: -0.6925 - val_loss: -0.5728 - val_cosine_similarity: -0.5727\n",
      "Epoch 667/800\n",
      "217/217 [==============================] - 16s 73ms/step - loss: -0.6930 - cosine_similarity: -0.6931 - val_loss: -0.5730 - val_cosine_similarity: -0.5730\n",
      "Epoch 668/800\n",
      "217/217 [==============================] - 16s 73ms/step - loss: -0.6927 - cosine_similarity: -0.6927 - val_loss: -0.5733 - val_cosine_similarity: -0.5733\n",
      "Epoch 669/800\n",
      "217/217 [==============================] - 16s 74ms/step - loss: -0.6932 - cosine_similarity: -0.6933 - val_loss: -0.5729 - val_cosine_similarity: -0.5729\n",
      "Epoch 670/800\n",
      "217/217 [==============================] - 15s 71ms/step - loss: -0.6932 - cosine_similarity: -0.6932 - val_loss: -0.5737 - val_cosine_similarity: -0.5737\n",
      "Epoch 671/800\n",
      "217/217 [==============================] - 16s 73ms/step - loss: -0.6932 - cosine_similarity: -0.6933 - val_loss: -0.5730 - val_cosine_similarity: -0.5730\n",
      "Epoch 672/800\n",
      "217/217 [==============================] - 16s 73ms/step - loss: -0.6929 - cosine_similarity: -0.6929 - val_loss: -0.5731 - val_cosine_similarity: -0.5731\n",
      "Epoch 673/800\n",
      "217/217 [==============================] - 16s 73ms/step - loss: -0.6927 - cosine_similarity: -0.6928 - val_loss: -0.5732 - val_cosine_similarity: -0.5731\n",
      "Epoch 674/800\n",
      "217/217 [==============================] - 16s 72ms/step - loss: -0.6927 - cosine_similarity: -0.6928 - val_loss: -0.5729 - val_cosine_similarity: -0.5729\n",
      "Epoch 675/800\n",
      "217/217 [==============================] - 16s 73ms/step - loss: -0.6929 - cosine_similarity: -0.6930 - val_loss: -0.5736 - val_cosine_similarity: -0.5736\n",
      "Epoch 676/800\n",
      "217/217 [==============================] - 16s 73ms/step - loss: -0.6931 - cosine_similarity: -0.6931 - val_loss: -0.5734 - val_cosine_similarity: -0.5733\n",
      "Epoch 677/800\n",
      " 55/217 [======>.......................] - ETA: 8s - loss: -0.6950 - cosine_similarity: -0.6951"
     ]
    },
    {
     "name": "stderr",
     "output_type": "stream",
     "text": [
      "IOPub message rate exceeded.\n",
      "The notebook server will temporarily stop sending output\n",
      "to the client in order to avoid crashing it.\n",
      "To change this limit, set the config variable\n",
      "`--NotebookApp.iopub_msg_rate_limit`.\n",
      "\n",
      "Current values:\n",
      "NotebookApp.iopub_msg_rate_limit=1000.0 (msgs/sec)\n",
      "NotebookApp.rate_limit_window=3.0 (secs)\n",
      "\n"
     ]
    },
    {
     "name": "stdout",
     "output_type": "stream",
     "text": [
      "217/217 [==============================] - 16s 73ms/step - loss: -0.6944 - cosine_similarity: -0.6945 - val_loss: -0.5735 - val_cosine_similarity: -0.5736\n",
      "Epoch 736/800\n",
      "217/217 [==============================] - 16s 73ms/step - loss: -0.6942 - cosine_similarity: -0.6942 - val_loss: -0.5728 - val_cosine_similarity: -0.5729\n",
      "Epoch 737/800\n",
      "217/217 [==============================] - 16s 73ms/step - loss: -0.6947 - cosine_similarity: -0.6947 - val_loss: -0.5739 - val_cosine_similarity: -0.5740\n",
      "Epoch 738/800\n",
      "217/217 [==============================] - 16s 73ms/step - loss: -0.6944 - cosine_similarity: -0.6945 - val_loss: -0.5729 - val_cosine_similarity: -0.5731\n",
      "Epoch 739/800\n",
      "217/217 [==============================] - 16s 72ms/step - loss: -0.6942 - cosine_similarity: -0.6942 - val_loss: -0.5724 - val_cosine_similarity: -0.5725\n",
      "Epoch 740/800\n",
      "217/217 [==============================] - 16s 74ms/step - loss: -0.6939 - cosine_similarity: -0.6939 - val_loss: -0.5734 - val_cosine_similarity: -0.5736\n",
      "Epoch 741/800\n",
      "217/217 [==============================] - 16s 73ms/step - loss: -0.6942 - cosine_similarity: -0.6943 - val_loss: -0.5726 - val_cosine_similarity: -0.5727\n",
      "Epoch 742/800\n",
      "217/217 [==============================] - 16s 75ms/step - loss: -0.6946 - cosine_similarity: -0.6946 - val_loss: -0.5727 - val_cosine_similarity: -0.5729\n",
      "Epoch 743/800\n",
      "217/217 [==============================] - 15s 71ms/step - loss: -0.6945 - cosine_similarity: -0.6946 - val_loss: -0.5729 - val_cosine_similarity: -0.5731\n",
      "Epoch 744/800\n",
      "217/217 [==============================] - 16s 75ms/step - loss: -0.6944 - cosine_similarity: -0.6945 - val_loss: -0.5733 - val_cosine_similarity: -0.5734\n",
      "Epoch 745/800\n",
      "217/217 [==============================] - 16s 73ms/step - loss: -0.6944 - cosine_similarity: -0.6945 - val_loss: -0.5723 - val_cosine_similarity: -0.5724\n",
      "Epoch 746/800\n",
      "217/217 [==============================] - 16s 74ms/step - loss: -0.6945 - cosine_similarity: -0.6945 - val_loss: -0.5733 - val_cosine_similarity: -0.5734\n",
      "Epoch 747/800\n",
      "217/217 [==============================] - 16s 72ms/step - loss: -0.6950 - cosine_similarity: -0.6950 - val_loss: -0.5728 - val_cosine_similarity: -0.5729\n",
      "Epoch 748/800\n",
      "217/217 [==============================] - 16s 73ms/step - loss: -0.6949 - cosine_similarity: -0.6949 - val_loss: -0.5723 - val_cosine_similarity: -0.5724\n",
      "Epoch 749/800\n",
      "217/217 [==============================] - 16s 73ms/step - loss: -0.6942 - cosine_similarity: -0.6942 - val_loss: -0.5723 - val_cosine_similarity: -0.5725\n",
      "Epoch 750/800\n",
      "217/217 [==============================] - 16s 74ms/step - loss: -0.6944 - cosine_similarity: -0.6944 - val_loss: -0.5726 - val_cosine_similarity: -0.5727\n",
      "Epoch 751/800\n",
      "217/217 [==============================] - 16s 72ms/step - loss: -0.6946 - cosine_similarity: -0.6947 - val_loss: -0.5736 - val_cosine_similarity: -0.5737\n",
      "Epoch 752/800\n",
      "217/217 [==============================] - 16s 73ms/step - loss: -0.6947 - cosine_similarity: -0.6948 - val_loss: -0.5728 - val_cosine_similarity: -0.5729\n",
      "Epoch 753/800\n",
      "217/217 [==============================] - 16s 74ms/step - loss: -0.6945 - cosine_similarity: -0.6945 - val_loss: -0.5727 - val_cosine_similarity: -0.5729\n",
      "Epoch 754/800\n",
      "217/217 [==============================] - 16s 74ms/step - loss: -0.6943 - cosine_similarity: -0.6944 - val_loss: -0.5732 - val_cosine_similarity: -0.5733\n",
      "Epoch 755/800\n",
      " 16/217 [=>............................] - ETA: 10s - loss: -0.6964 - cosine_similarity: -0.6965"
     ]
    },
    {
     "name": "stderr",
     "output_type": "stream",
     "text": [
      "IOPub message rate exceeded.\n",
      "The notebook server will temporarily stop sending output\n",
      "to the client in order to avoid crashing it.\n",
      "To change this limit, set the config variable\n",
      "`--NotebookApp.iopub_msg_rate_limit`.\n",
      "\n",
      "Current values:\n",
      "NotebookApp.iopub_msg_rate_limit=1000.0 (msgs/sec)\n",
      "NotebookApp.rate_limit_window=3.0 (secs)\n",
      "\n"
     ]
    }
   ],
   "source": [
    "cos_his = m.fit_generator(generator=generator(code_train, testament_train, batch_size=200), \n",
    "                validation_data=generator(code_test, testament_test, batch_size=200),\n",
    "                workers=16, use_multiprocessing=True, \n",
    "                epochs=800, shuffle=False)"
   ]
  },
  {
   "cell_type": "code",
   "execution_count": 27,
   "metadata": {},
   "outputs": [],
   "source": [
    "m.save('./models/cos.h5')"
   ]
  },
  {
   "cell_type": "markdown",
   "metadata": {},
   "source": [
    "### LSTM на словах с cross-entropy loss"
   ]
  },
  {
   "cell_type": "code",
   "execution_count": 34,
   "metadata": {},
   "outputs": [],
   "source": [
    "class generator(Sequence):\n",
    "    \n",
    "    def __init__(self, code, bible, batch_size=100, window=5):\n",
    "        self.text = np.concatenate([np.array(bible), np.array(code)])\n",
    "        np.random.shuffle(self.text)\n",
    "        self.batch_size = batch_size\n",
    "        self.window = window\n",
    "        self.indices = np.arange(self.text.shape[0])\n",
    "        \n",
    "    def __len__(self):\n",
    "        return len(self.text) // self.batch_size\n",
    "    \n",
    "    def __getitem__(self, idx):\n",
    "        inds = self.indices[idx * self.batch_size:(idx + 1) * self.batch_size]\n",
    "        text = self.text[inds]\n",
    "        text = [w for s in text for w in s]\n",
    "        text_vecs = [fast_text_model.wv[w] for w in text]\n",
    "        batch_in = []\n",
    "        batch_out = []\n",
    "        for i in range(self.window, len(text_vecs) - self.window):\n",
    "            batch_in.append(text_vecs[i - self.window:i])  \n",
    "            batch_out.append(np.where(words==text[i])[0][0])\n",
    "        return np.array(batch_in), np.array(batch_out)\n",
    "    \n",
    "    def on_epoch_end(self):\n",
    "        np.random.shuffle(self.indices)"
   ]
  },
  {
   "cell_type": "code",
   "execution_count": 35,
   "metadata": {},
   "outputs": [],
   "source": [
    "def get_model(dropout=0.3, window=5):\n",
    "    model = Sequential()\n",
    "    model.add(Bidirectional(LSTM(256, return_sequences=True),input_shape=(window, 256)))\n",
    "    if dropout > 0:\n",
    "        model.add(Dropout(dropout))\n",
    "        \n",
    "    model.add(LSTM(256))\n",
    "    if dropout > 0:\n",
    "        model.add(Dropout(dropout))\n",
    "    model.add(Dense(len(words)))\n",
    "    model.add(Activation('softmax'))\n",
    "    return model"
   ]
  },
  {
   "cell_type": "code",
   "execution_count": 36,
   "metadata": {
    "scrolled": false
   },
   "outputs": [],
   "source": [
    "m = get_model()"
   ]
  },
  {
   "cell_type": "code",
   "execution_count": 37,
   "metadata": {},
   "outputs": [],
   "source": [
    "m.compile(loss='sparse_categorical_crossentropy', optimizer=Adam(), metrics=['CosineSimilarity'])"
   ]
  },
  {
   "cell_type": "code",
   "execution_count": null,
   "metadata": {
    "scrolled": true
   },
   "outputs": [],
   "source": [
    "ce_his = m.fit_generator(generator=generator(code_train, testament_train, batch_size=200), \n",
    "                validation_data=generator(code_test, testament_test, batch_size=200),\n",
    "                workers=16, use_multiprocessing=True, \n",
    "                epochs=350, shuffle=False,)"
   ]
  },
  {
   "cell_type": "code",
   "execution_count": 35,
   "metadata": {},
   "outputs": [],
   "source": [
    "m.save(\"./models/ce.h5\")"
   ]
  },
  {
   "cell_type": "markdown",
   "metadata": {},
   "source": [
    "### LSTM на символах с cross-entropy loss"
   ]
  },
  {
   "cell_type": "code",
   "execution_count": null,
   "metadata": {},
   "outputs": [],
   "source": [
    "class generator(Sequence):\n",
    "    \n",
    "    def __init__(self, code, bible, batch_size=100, window=30):\n",
    "\n",
    "        self.text = np.concatenate([np.array(bible), np.array(code)])\n",
    "        np.random.shuffle(self.text)\n",
    "        self.batch_size = batch_size\n",
    "        self.window = window\n",
    "        self.indices = np.arange(self.text.shape[0])\n",
    "        \n",
    "        \n",
    "    def __len__(self):\n",
    "        return len(self.text) // self.batch_size\n",
    "    \n",
    "    def __getitem__(self, idx):\n",
    "        inds = self.indices[idx * self.batch_size:(idx + 1) * self.batch_size]\n",
    "        text = self.text[inds]\n",
    "        text = \" \".join([w for s in text for w in s])\n",
    "        batch_in = []\n",
    "        batch_out = []\n",
    "        for i in range(self.window, len(text) - self.window):\n",
    "            batch_in.append([char_idx[ch] for ch in text[i - self.window:i]])\n",
    "            batch_out.append(char_idx[text[i]])\n",
    "        return np.array(batch_in), np.array(batch_out)\n",
    "    \n",
    "    def on_epoch_end(self):\n",
    "        np.random.shuffle(self.indices)"
   ]
  },
  {
   "cell_type": "code",
   "execution_count": null,
   "metadata": {},
   "outputs": [],
   "source": [
    "from tensorflow.keras.layers import TimeDistributed\n",
    "def get_model(dropout=0.5, window=30):\n",
    "    model = Sequential()\n",
    "    model.add(LSTM(256, return_sequences=True, input_shape=(window, len(alphabet))))\n",
    "    if dropout > 0:\n",
    "        model.add(Dropout(dropout))\n",
    "        \n",
    "    model.add(LSTM(256))\n",
    "    if dropout > 0:\n",
    "        model.add(Dropout(dropout))\n",
    "    model.add(Dense(len(alphabet)))\n",
    "    model.add(Activation('softmax'))\n",
    "\n",
    "    return model"
   ]
  },
  {
   "cell_type": "code",
   "execution_count": null,
   "metadata": {},
   "outputs": [],
   "source": [
    "m = get_model()"
   ]
  },
  {
   "cell_type": "code",
   "execution_count": null,
   "metadata": {},
   "outputs": [],
   "source": [
    "m.compile(loss='categorical_crossentropy', optimizer=Adam(), metrics=['accuracy'])"
   ]
  },
  {
   "cell_type": "code",
   "execution_count": null,
   "metadata": {},
   "outputs": [],
   "source": [
    "char_his = m.fit_generator(generator=generator(code_train, testament_train, batch_size=40), \n",
    "                validation_data=generator(code_test, testament_test, batch_size=40),\n",
    "                workers=16, use_multiprocessing=True, \n",
    "                epochs=50, shuffle=False,)"
   ]
  },
  {
   "cell_type": "code",
   "execution_count": null,
   "metadata": {},
   "outputs": [],
   "source": [
    "m.save(\"./models/char_lstm_under.h5\")"
   ]
  },
  {
   "cell_type": "markdown",
   "metadata": {},
   "source": [
    "### Bidirectional LSTM на символах с cross-entropy loss"
   ]
  },
  {
   "cell_type": "code",
   "execution_count": 25,
   "metadata": {},
   "outputs": [],
   "source": [
    "class generator(Sequence):\n",
    "    \n",
    "    def __init__(self, code, bible, batch_size=100, window=30):\n",
    "\n",
    "        self.text = np.concatenate([np.array(bible), np.array(code)])\n",
    "        np.random.shuffle(self.text)\n",
    "        self.batch_size = batch_size\n",
    "        self.window = window\n",
    "        self.indices = np.arange(self.text.shape[0])\n",
    "        \n",
    "        \n",
    "    def __len__(self):\n",
    "        return len(self.text) // self.batch_size\n",
    "    \n",
    "    def __getitem__(self, idx):\n",
    "        inds = self.indices[idx * self.batch_size:(idx + 1) * self.batch_size]\n",
    "        text = self.text[inds]\n",
    "        text = \" \".join([w for s in text for w in s])\n",
    "        batch_in = []\n",
    "        batch_out = []\n",
    "        for i in range(self.window, len(text) - self.window):\n",
    "            batch_in.append([char_idx[ch] for ch in text[i - self.window:i]])\n",
    "            batch_out.append(char_idx[text[i]])\n",
    "        return np.array(batch_in), np.array(batch_out)\n",
    "    \n",
    "    def on_epoch_end(self):\n",
    "        np.random.shuffle(self.indices)"
   ]
  },
  {
   "cell_type": "code",
   "execution_count": 26,
   "metadata": {},
   "outputs": [],
   "source": [
    "from tensorflow.keras.layers import TimeDistributed\n",
    "def get_model(dropout=0.5, window=30):\n",
    "    model = Sequential()\n",
    "    model.add(Bidirectional(LSTM(256, return_sequences=True),input_shape=(window, len(alphabet))))\n",
    "    if dropout > 0:\n",
    "        model.add(Dropout(dropout))\n",
    "        \n",
    "    model.add(LSTM(256))\n",
    "    if dropout > 0:\n",
    "        model.add(Dropout(dropout))\n",
    "    model.add(Dense(len(alphabet)))\n",
    "    model.add(Activation('softmax'))\n",
    "    \n",
    "    return model"
   ]
  },
  {
   "cell_type": "code",
   "execution_count": 41,
   "metadata": {
    "scrolled": false
   },
   "outputs": [],
   "source": [
    "m = get_model()"
   ]
  },
  {
   "cell_type": "code",
   "execution_count": 42,
   "metadata": {},
   "outputs": [],
   "source": [
    "m.compile(loss='categorical_crossentropy', optimizer=Adam(), metrics=['accuracy'])"
   ]
  },
  {
   "cell_type": "code",
   "execution_count": null,
   "metadata": {
    "scrolled": true
   },
   "outputs": [],
   "source": [
    "ce1_his = m.fit_generator(generator=generator(code_train, testament_train, batch_size=40), \n",
    "                validation_data=generator(code_test, testament_test, batch_size=40),\n",
    "                workers=16, use_multiprocessing=True, \n",
    "                epochs=30, shuffle=False)"
   ]
  },
  {
   "cell_type": "code",
   "execution_count": 44,
   "metadata": {},
   "outputs": [],
   "source": [
    "m.save(\"./models/char_bidirect_under.h5\")"
   ]
  },
  {
   "cell_type": "markdown",
   "metadata": {},
   "source": [
    "### Инференс"
   ]
  },
  {
   "cell_type": "code",
   "execution_count": 28,
   "metadata": {
    "scrolled": false
   },
   "outputs": [],
   "source": [
    "char_models = [\n",
    "    \"./models/char_lstm.h5\",\n",
    "    \"./models/char_bidirect.h5\",\n",
    "    \"./models/char_bidirect_under.h5\"\n",
    "    \"./models/char_lstm_under.h5\"\n",
    "]\n",
    "words_models = [\n",
    "    \"./models/ce.h5\",\n",
    "    \"./models/cos.h5\",\n",
    "]"
   ]
  },
  {
   "cell_type": "markdown",
   "metadata": {},
   "source": [
    "Функция sample семплирует объект с некоторой вероятностью, изменяемой температурой. Температуру мы будем использовать, чтобы разнообразить предсказания моделей."
   ]
  },
  {
   "cell_type": "code",
   "execution_count": 31,
   "metadata": {},
   "outputs": [],
   "source": [
    "def sample(preds, temperature=1.0):\n",
    "    preds = np.asarray(preds).astype('float64')\n",
    "    preds = np.log(preds) / (temperature + 1e-2)\n",
    "    exp_preds = np.exp(preds)\n",
    "    preds = exp_preds / np.sum(exp_preds)\n",
    "    probas = np.random.multinomial(1, preds, 1)\n",
    "    return np.argmax(probas)\n",
    "\n",
    "def pformat(seq):\n",
    "    if not type(seq) is str:\n",
    "        seq = \" \".join(seq)\n",
    "    return seq\n",
    "\n",
    "def infer(model, mode=\"char\", window=30, divs=np.linspace(0, 1, 6), seq_len=200):\n",
    "    '''\n",
    "    Returns sequences of length seq_len for each diversity\n",
    "    mode: {\"char\", \"words_ce\", \"words_cos\"}\n",
    "    '''\n",
    "    vocab = alphabet if mode == \"char\" else words\n",
    "    sentence = np.random.choice(np.concatenate([code_test, testament_test]), 10)\n",
    "    \n",
    "    if mode == \"char\":\n",
    "        sentence = \" \".join([\" \".join(s) for s in sentence])\n",
    "        sentence = sentence[:window]\n",
    "        start = [char_idx[ch] for ch in sentence]\n",
    "    elif mode == \"words_cos\" or \"words_ce\":\n",
    "        sentence = [w for s in sentence for w in s][:window]\n",
    "        start = [fast_text_model.wv[w] for w in sentence]\n",
    "    \n",
    "    for diversity in divs:\n",
    "        print(f'----- Diversity: {diversity}\\n')\n",
    "        print(f'----- Generating with seed:\\n\"{pformat(sentence)}\"\\n')\n",
    "        res = '' if mode == \"char\" else []\n",
    "        if seq_len is 200:\n",
    "            seq_len = 200 if mode == \"char\" else 40\n",
    "        for i in range(seq_len):\n",
    "            \n",
    "            preds = model.predict(np.array(start)[None, :, :], verbose=0)[0]\n",
    "            \n",
    "            # sample next word\n",
    "            if mode == \"char\" or mode == \"words_ce\":\n",
    "                next_index = sample(preds, diversity)\n",
    "                next_word = vocab[next_index]\n",
    "            elif mode == \"words_cos\":\n",
    "                top_similar, probas = list(zip(*fast_text_model.wv.most_similar([preds])))\n",
    "                next_word = top_similar[sample(probas, diversity)]\n",
    "            \n",
    "            # add next word to queue\n",
    "            start = start[1:]\n",
    "            if mode == \"char\":\n",
    "                start.append(char_idx[next_word])\n",
    "            elif mode == \"words_ce\" or mode == \"words_cos\":\n",
    "                start.append(fast_text_model.wv[next_word])\n",
    "            \n",
    "            # add next word to result\n",
    "            if mode == \"char\":\n",
    "                res += next_word\n",
    "            else:\n",
    "                res.append(next_word)\n",
    "        print(pformat(sentence + res), \"\\n\")\n",
    "    print('='*80 + '\\n')"
   ]
  },
  {
   "cell_type": "markdown",
   "metadata": {},
   "source": [
    "Посмотрим на выходы моделей с разной температурой."
   ]
  },
  {
   "cell_type": "code",
   "execution_count": 32,
   "metadata": {},
   "outputs": [
    {
     "name": "stdout",
     "output_type": "stream",
     "text": [
      "----- Diversity: 0.0\n",
      "\n",
      "----- Generating with seed:\n",
      "\"второй третий и четвертый аргу\"\n",
      "\n",
      "второй третий и четвертый аргумент . и сказал господь моисею говоря скажи сынам израилевым в сердце своем . и сказал господь моисею говоря скажи сынам израилевым в сердце своем . и сказал господь моисею говоря скажи сынам израилев \n",
      "\n",
      "----- Diversity: 0.2\n",
      "\n",
      "----- Generating with seed:\n",
      "\"второй третий и четвертый аргу\"\n",
      "\n",
      "второй третий и четвертый аргуым по приношению их . и сказал им иосиф и сказал ему пойди в сердце твоем . и сказал господь моисею говоря скажи ему вот я дал тебе и сказал вот я наполнил тебя и сказал вот я поставил меня . и послал \n",
      "\n",
      "----- Diversity: 0.4\n",
      "\n",
      "----- Generating with seed:\n",
      "\"второй третий и четвертый аргу\"\n",
      "\n",
      "второй третий и четвертый аргу иоав сын иоава и поставил с ними . в этом случае в этом случае функция signal в случае успеха поскольку процесс создает текущий каталог процесс вызывает функцию pthreadmutexattrinit . и сказал господ \n",
      "\n",
      "----- Diversity: 0.6000000000000001\n",
      "\n",
      "----- Generating with seed:\n",
      "\"второй третий и четвертый аргу\"\n",
      "\n",
      "второй третий и четвертый аргуь моисею вот господь бог ваш . h int mainvoid int status . пример командной оболочки содержит из устройства которые можно просто получить с дескрипторами файлов которые можно получить с кодом ошибки e \n",
      "\n",
      "----- Diversity: 0.8\n",
      "\n",
      "----- Generating with seed:\n",
      "\"второй третий и четвертый аргу\"\n",
      "\n",
      "второй третий и четвертый аргуintr exit . памяти ему работает работы определяют операции вводавывода и терминальных устройств . в основном вводы в буферы будут поддерживаться изменением операций вводавывода для взаимодействий межд \n",
      "\n",
      "----- Diversity: 1.0\n",
      "\n",
      "----- Generating with seed:\n",
      "\"второй третий и четвертый аргу\"\n",
      "\n",
      "второй третий и четвертый аргуу процессами раздел . пом должны рассметрить один массив при последнем использовании бита setgroupid функции lseek открывается . из слава и ангела вашего время тебя во все дни отца твоего и образили н \n",
      "\n",
      "================================================================================\n",
      "\n"
     ]
    }
   ],
   "source": [
    "model = load_model(\"./models/char_lstm.h5\")\n",
    "infer(model, window=30, mode=\"char\")"
   ]
  },
  {
   "cell_type": "code",
   "execution_count": 33,
   "metadata": {},
   "outputs": [
    {
     "name": "stdout",
     "output_type": "stream",
     "text": [
      "----- Diversity: 0.0\n",
      "\n",
      "----- Generating with seed:\n",
      "\"if n sysconfschostnamemax n ho\"\n",
      "\n",
      "if n sysconfschostnamemax n hostnamemax . и сказал господь моисею говоря объяви его и сказал ему не поступай с ним . и сказал господь моисею говоря объяви его и сказал ему не поступай с ним . и сказал господь моисею говоря объяви  \n",
      "\n",
      "----- Diversity: 0.2\n",
      "\n",
      "----- Generating with seed:\n",
      "\"if n sysconfschostnamemax n ho\"\n",
      "\n",
      "if n sysconfschostnamemax n hoего и сказал ему имя его . и сказал господь моисею говоря вот сыны израилевы подобно что поставил в себя все стана и поставил себе колена израилевы и все служащие господней . и сказал господь моисею г \n",
      "\n",
      "----- Diversity: 0.4\n",
      "\n",
      "----- Generating with seed:\n",
      "\"if n sysconfschostnamemax n ho\"\n",
      "\n",
      "if n sysconfschostnamemax n hoоворя обратил мне господу все сии от сего дня . и сказал господь моисею говоря скажи сынам израилевым и сказал не построил господь и построил все бога и обложил его в стене и на долине божие . и сказа \n",
      "\n",
      "----- Diversity: 0.6000000000000001\n",
      "\n",
      "----- Generating with seed:\n",
      "\"if n sysconfschostnamemax n ho\"\n",
      "\n",
      "if n sysconfschostnamemax n hoл царь всем народу царя сказав пришел такое сынам гадовым было в доме господнем и прочитали все возвратились к столам и побежал под правду пред ним . в этом случае все ожидается обработка сегмента раз \n",
      "\n",
      "----- Diversity: 0.8\n",
      "\n",
      "----- Generating with seed:\n",
      "\"if n sysconfschostnamemax n ho\"\n",
      "\n",
      "if n sysconfschostnamemax n hoделяемой памяти . но требуется выполнять более некоторые символы прерванные системные вызовы с командными оболочками . установить программу по этому процессу . получают дубликовое блокировки обычно не \n",
      "\n",
      "----- Diversity: 1.0\n",
      "\n",
      "----- Generating with seed:\n",
      "\"if n sysconfschostnamemax n ho\"\n",
      "\n",
      "if n sysconfschostnamemax n hoвозможно узнать любой из этих платформ . основное выше в листинге . в canonr напротив между иаромам в видел колесницы его праздниками его . читает и ai перезапускается автоматически сделается на стесн \n",
      "\n",
      "================================================================================\n",
      "\n"
     ]
    }
   ],
   "source": [
    "model = load_model(\"./models/char_bidirect.h5\")\n",
    "infer(model, window=30, mode=\"char\")"
   ]
  },
  {
   "cell_type": "code",
   "execution_count": 32,
   "metadata": {},
   "outputs": [
    {
     "name": "stdout",
     "output_type": "stream",
     "text": [
      "----- Diversity: 0.0\n",
      "\n",
      "----- Generating with seed:\n",
      "\"использование барьера include include include\"\n",
      "\n",
      "использование барьера include include include apue . и сказал господь моисею говоря объяви сынам израилевым и скажи им когда придете в землю ханаанскую в которую ты идешь чтоб овладеть ею . и сказал господь моисею говоря объяви сынам израилевым и скажи им когда придете в \n",
      "\n",
      "----- Diversity: 0.2\n",
      "\n",
      "----- Generating with seed:\n",
      "\"использование барьера include include include\"\n",
      "\n",
      "использование барьера include include include землю ханаанскую в которую ты идешь чтоб овладеть ею . и сказал господь моисею говоря скажи сынам израилевым если кто из сынов израилевых не введете в нее и не будешь пить . и сказал господь моисею говоря объяви сынам израилевым \n",
      "\n",
      "----- Diversity: 0.4\n",
      "\n",
      "----- Generating with seed:\n",
      "\"использование барьера include include include\"\n",
      "\n",
      "использование барьера include include include и скажи им когда придете в землю ханаанскую к иакову в землю ханаанскую и рассказали ему за то что ты не слушаешь гласа господа бога твоего и исполняй все заповеди его которые заповедую тебе сегодня . и сказал господь моисею \n",
      "\n",
      "----- Diversity: 0.6000000000000001\n",
      "\n",
      "----- Generating with seed:\n",
      "\"использование барьера include include include\"\n",
      "\n",
      "использование барьера include include include говоря объяви сынам израилевым и скажи им если вы согласны нам никогда не будем обсуждать системные вызовы как обычные функции языка c . например в форматах мрз ю используется альтернатива стандартной библиотеке вводавывода не намного медленнее чем прямое обращение к \n",
      "\n",
      "----- Diversity: 0.8\n",
      "\n",
      "----- Generating with seed:\n",
      "\"использование барьера include include include\"\n",
      "\n",
      "использование барьера include include include функциям read и write используемым в этом примере . если в этом случае аргумент pathname содержит одно имя файла . последующие функции позволяют указать структуры msghdr может храниться в промежуточном состоянии если окажется использовать поток в рамках единственного процесса и \n",
      "\n",
      "----- Diversity: 1.0\n",
      "\n",
      "----- Generating with seed:\n",
      "\"использование барьера include include include\"\n",
      "\n",
      "использование барьера include include include упрощает поддержку семантики потоков в соответствии со стандартом single unix specification как расширение xsi . c это число имеет значение не но если блокировка имеет дырки с флагом mapshared например на стеке . последовательность операций в файл производится с идентификатором \n",
      "\n",
      "================================================================================\n",
      "\n"
     ]
    }
   ],
   "source": [
    "model = load_model(\"./models/ce.h5\")\n",
    "infer(model, window=5, mode=\"words_ce\")"
   ]
  },
  {
   "cell_type": "code",
   "execution_count": 35,
   "metadata": {},
   "outputs": [
    {
     "name": "stdout",
     "output_type": "stream",
     "text": [
      "----- Diversity: 0.0\n",
      "\n",
      "----- Generating with seed:\n",
      "\"давайте рассмотрим два конкретных случая\"\n",
      "\n",
      "давайте рассмотрим два конкретных случая нн оно лепсо придите pcchownrestricted тестя неудачу оно vo оно лечь елдад щ оно vo нн некорректно онан vo постоянно иисус щ некорректно if сильнее struct сильнее vo нее иисус nй некорректно действительно елдад щ tsys hh нн постоянно мне \n",
      "\n",
      "----- Diversity: 0.2\n",
      "\n",
      "----- Generating with seed:\n",
      "\"давайте рассмотрим два конкретных случая\"\n",
      "\n",
      "давайте рассмотрим два конкретных случая иаир некорректно ситуации нее иаир ирад enqueuemsgstruct оставьте rif тест щ ю между щ credstruct жителям щ елдад нужным иевусеев удивительно щ херувимов некто poll некорректно my приходят ресурса египтяне struct извне from тестя iff тест аргумента досталось аморреев неявно \n",
      "\n",
      "----- Diversity: 0.4\n",
      "\n",
      "----- Generating with seed:\n",
      "\"давайте рассмотрим два конкретных случая\"\n",
      "\n",
      "давайте рассмотрим два конкретных случая иоав ipv ресурсы щ нетрудно иевусеев мудр controlb ситуаций щ интерпретацию юa нн приложениях немало flock if извне иеффаю поставьте commands произвели некто controlz некто ней приложений криптосистема вели iff ю ситуаций null if вне сад hh недостаточно ресурса гад \n",
      "\n",
      "----- Diversity: 0.6000000000000001\n",
      "\n",
      "----- Generating with seed:\n",
      "\"давайте рассмотрим два конкретных случая\"\n",
      "\n",
      "давайте рассмотрим два конкретных случая могут ащ ins они wif извне sar совершенно галаад интервале тема мьютексу лепсо sssp пост ед cfsetospeedstruct сколько юe ахав длj addjobstruct находиться ресурса очевидно длина сигналы бед нн url ед if тесно addjobstruct тестя мудр pn vo некорректно wif \n",
      "\n",
      "----- Diversity: 0.8\n",
      "\n",
      "----- Generating with seed:\n",
      "\"давайте рассмотрим два конкретных случая\"\n",
      "\n",
      "давайте рассмотрим два конкретных случая произвели недостаточно нееман бед ад детально controlq эффекта договориться сетка лепсо не wif тестю нее юe это ед pcchownrestricted жителям щ ащ нн мьютекс тысяче нужную vo пост controlt nй hashlock ед if истребите хеттеев невозможноn щ posixthreadsafe приложений ситуации \n",
      "\n",
      "----- Diversity: 1.0\n",
      "\n",
      "----- Generating with seed:\n",
      "\"давайте рассмотрим два конкретных случая\"\n",
      "\n",
      "давайте рассмотрим два конкретных случая желай ахав неожиданно недостаточно credstruct цари if тестю struct вино ирад неправильно ресурсу иисус некорректное енана интерпретаций я щ щ enqueuemsgstruct сильно cfsetispeedstruct извне мудр интерактивная это иаир некорректно некорректно действительное ад некорректно иашув интерактивная это vo и щ неявно \n",
      "\n",
      "================================================================================\n",
      "\n"
     ]
    }
   ],
   "source": [
    "model = load_model(\"./models/cos.h5\")\n",
    "infer(model, window=5, mode=\"words_cos\")"
   ]
  },
  {
   "cell_type": "code",
   "execution_count": 36,
   "metadata": {},
   "outputs": [
    {
     "name": "stdout",
     "output_type": "stream",
     "text": [
      "----- Diversity: 0.0\n",
      "\n",
      "----- Generating with seed:\n",
      "\"socket предопределенное имя се\"\n",
      "\n",
      "socket предопределенное имя семафора . и сказал господь моисею говоря возьми себе и поставил их и сказал им и сказал им и сказал им и сказал им и сказал им и сказал им и сказал им и сказал им и сказал им и сказал им и сказал им и  \n",
      "\n",
      "----- Diversity: 0.2\n",
      "\n",
      "----- Generating with seed:\n",
      "\"socket предопределенное имя се\"\n",
      "\n",
      "socket предопределенное имя сесказал им и сказал сыны израилевы сыны израилевы и сказали ему и он сказал им и послал и положил их и пошли с ним и сказал им на себе который вы поставили его и сказал вот и послал сын мой и сказал ем \n",
      "\n",
      "----- Diversity: 0.4\n",
      "\n",
      "----- Generating with seed:\n",
      "\"socket предопределенное имя се\"\n",
      "\n",
      "socket предопределенное имя сеу господь вознесет в нем и послал и возвратился и все земли вашей в который возьми в сердце его . например программа поддерживает файл поддерживаются в случае успеха в случае ошибки int flag . в проце \n",
      "\n",
      "----- Diversity: 0.6000000000000001\n",
      "\n",
      "----- Generating with seed:\n",
      "\"socket предопределенное имя се\"\n",
      "\n",
      "socket предопределенное имя сессе например при проверке целочисленных сигналов порядок данных устанавливаются доступными следующими процессами и создаваемыми файлами и потомок поддерживает сообщение и проверять наши полностью соде \n",
      "\n",
      "----- Diversity: 0.8\n",
      "\n",
      "----- Generating with seed:\n",
      "\"socket предопределенное имя се\"\n",
      "\n",
      "socket предопределенное имя сержит овременном процессом . эти другие потоки можно затем адрес содержит одному дескриптору символа командной оболочки должен создать команду . рекуасия сын манассии сына их мамиха и серебро . это про \n",
      "\n",
      "----- Diversity: 1.0\n",
      "\n",
      "----- Generating with seed:\n",
      "\"socket предопределенное имя се\"\n",
      "\n",
      "socket предопределенное имя сечитать данный алгоритм допускает небер переходящаесь паска исколения цари во руки его и камнями сыновьями своими я оставил тебе овражение . второй поток она safoy родительского процесса не личие проце \n",
      "\n",
      "================================================================================\n",
      "\n"
     ]
    }
   ],
   "source": [
    "model = load_model(\"./models/char_lstm_under.h5\")\n",
    "infer(model, window=30, mode=\"char\")"
   ]
  },
  {
   "cell_type": "code",
   "execution_count": 37,
   "metadata": {},
   "outputs": [
    {
     "name": "stdout",
     "output_type": "stream",
     "text": [
      "----- Diversity: 0.0\n",
      "\n",
      "----- Generating with seed:\n",
      "\"за описанием структур в system\"\n",
      "\n",
      "за описанием структур в system . и сказал ему сын израилевы и поставил их и сказал ему и сказал господь бог твой . и сказал ему и сказал господь бог твой . и сказал ему и сказал господь бог твой . и сказал ему и сказал господь бог \n",
      "\n",
      "----- Diversity: 0.2\n",
      "\n",
      "----- Generating with seed:\n",
      "\"за описанием структур в system\"\n",
      "\n",
      "за описанием структур в system твой . и сказал ему исполняет и сказал ему в семь старом и сказал ему и на семь своем . и сказал ему семь свое свое при не создавал их . и возвратился в стана и пошли и сказал господь бог твой и сказ \n",
      "\n",
      "----- Diversity: 0.4\n",
      "\n",
      "----- Generating with seed:\n",
      "\"за описанием структур в system\"\n",
      "\n",
      "за описанием структур в systemал господь бог твой . и положил собрание все дня вам есть возвращает из сигнала sigset и sigalrm из системы на реального времени запускаемого процесса . и сказал господь моисею своему . и пришли сыны  \n",
      "\n",
      "----- Diversity: 0.6000000000000001\n",
      "\n",
      "----- Generating with seed:\n",
      "\"за описанием структур в system\"\n",
      "\n",
      "за описанием структур в systemизраилевы завет вы все колена ваших и либины и доставляет символом с каждый или обработки стандартного ввода в переменную с должно использовать соответствующий констант . он он в поключения поиск . и  \n",
      "\n",
      "----- Diversity: 0.8\n",
      "\n",
      "----- Generating with seed:\n",
      "\"за описанием структур в system\"\n",
      "\n",
      "за описанием структур в systemпоразил агарь и велое народ всех делось но большой разкве они безо палями . истуакли душа твоего открыли стала тем . функция вызывается программа представляют семейству и некоторые вызова struct sigin \n",
      "\n",
      "----- Diversity: 1.0\n",
      "\n",
      "----- Generating with seed:\n",
      "\"за описанием структур в system\"\n",
      "\n",
      "за описанием структур в systemt int semattystminstamax struct satclock . и и десятно мьютекса со двух за ним сигнал с умерствителейством которой тро твоего падственно илить и предвое коловения с пледениями завессоточку . в програм \n",
      "\n",
      "================================================================================\n",
      "\n"
     ]
    }
   ],
   "source": [
    "model = load_model(\"./models/char_bidirect_under.h5\")\n",
    "infer(model, window=30, mode=\"char\")"
   ]
  },
  {
   "cell_type": "markdown",
   "metadata": {},
   "source": [
    "По этим результатам мне кажется лучше всего выбрать темепературу 0.4-0.6 и underfit модели на символах."
   ]
  },
  {
   "cell_type": "markdown",
   "metadata": {},
   "source": [
    "Функция, возвращающая сгенерированную моделью последовательность по входной последовательности:"
   ]
  },
  {
   "cell_type": "code",
   "execution_count": 33,
   "metadata": {},
   "outputs": [],
   "source": [
    "def sample_sentences(model, sentence=None, mode=\"char\", window=30, diversity=0.3, seq_len=200):\n",
    "    '''\n",
    "    Returns sequences of length seq_len for each diversity\n",
    "    mode: {\"char\", \"words_ce\", \"words_cos\"}\n",
    "    '''\n",
    "    vocab = alphabet if mode == \"char\" else words\n",
    "    \n",
    "    if sentence is None:\n",
    "        sentence = np.random.choice(np.concatenate([code_test, testament_test]), 1)[0]\n",
    "    if mode == \"char\":\n",
    "        sentence = \" \".join(sentence)\n",
    "        sentence = sentence[:window]\n",
    "        start = [np.zeros_like(char_idx[\".\"]).tolist()] * (window - len(sentence))\n",
    "        start.extend([char_idx[ch] for ch in sentence])\n",
    "    elif mode == \"words_cos\" or \"words_ce\":\n",
    "#         sentence = [w for s in sentence for w in s][:window]\n",
    "        start = [np.zeros_like(fast_text_model.wv[\".\"])] * (window - len(sentence))\n",
    "        start.extend([fast_text_model.wv[w] for w in sentence])\n",
    "    \n",
    "    res = '' if mode == \"char\" else []\n",
    "    if seq_len is 200:\n",
    "        seq_len = 200 if mode == \"char\" else 40\n",
    "    for i in range(seq_len):\n",
    "\n",
    "        preds = model.predict(np.array(start)[None, :, :], verbose=0)[0]\n",
    "\n",
    "        # sample next word\n",
    "        if mode == \"char\" or mode == \"words_ce\":\n",
    "            next_index = sample(preds, diversity)\n",
    "            next_word = vocab[next_index]\n",
    "        elif mode == \"words_cos\":\n",
    "            top_similar, probas = list(zip(*fast_text_model.wv.most_similar([preds])))\n",
    "            next_word = top_similar[sample(probas, diversity)]\n",
    "\n",
    "        # add next word to queue\n",
    "        start = start[1:]\n",
    "        if mode == \"char\":\n",
    "            start.append(char_idx[next_word])\n",
    "        elif mode == \"words_ce\" or mode == \"words_cos\":\n",
    "            start.append(fast_text_model.wv[next_word])\n",
    "\n",
    "        # add next word to result\n",
    "        if mode == \"char\":\n",
    "            res += next_word\n",
    "        else:\n",
    "            res.append(next_word)\n",
    "    print(pformat(sentence + res))"
   ]
  },
  {
   "cell_type": "markdown",
   "metadata": {},
   "source": [
    "Выберем несколько предложений из теста в качестве сидов."
   ]
  },
  {
   "cell_type": "code",
   "execution_count": 42,
   "metadata": {},
   "outputs": [],
   "source": [
    "code_s = np.random.choice(np.concatenate([code_test]), 5)\n",
    "testament_s = np.random.choice(np.concatenate([testament_test]), 5)"
   ]
  },
  {
   "cell_type": "code",
   "execution_count": 43,
   "metadata": {},
   "outputs": [
    {
     "name": "stdout",
     "output_type": "stream",
     "text": [
      "['целью', 'этих', 'руководств', 'было', 'повышение', 'переносимости', 'прикладных', 'программ', 'которое', 'стало', 'возможным', 'благодаря', 'простому', 'следованию', 'опубликованным', 'стандартам', '.'] ['в', 'противном', 'случае', 'мы', 'изменяем', 'реальный', 'и', 'эффективный', 'идентификаторы', 'вызовом', 'функций', 'setgid', 'и', 'setuid', '.'] ['h', 'pidt', 'tcgetsidint', 'fd', '.'] ['предыстория', 'одной', 'из', 'популярных', 'библиотек', 'функций', 'для', 'работы', 'с', 'базами', 'данных', 'в', 'unix', 'является', 'библиотека', 'dbm', '.'] ['однако', 'файл', 'должен', 'существовать', 'если', 'другой', 'процесс', 'смог', 'установить', 'на', 'него', 'блокировку', '.']\n",
      "\n",
      "['он', 'злословил', 'меня', 'тяжким', 'злословием', 'когда', 'я', 'шел', 'в', 'маханаим', '.'] ['мы', 'умертвим', 'их', 'и', 'искореним', 'зло', 'из', 'израиля', '.'] ['хотя', 'бы', 'до', 'полуцарства', 'она', 'будет', 'исполнена', '.'] ['аврам', 'послушался', 'слов', 'сары', '.'] ['иосиф', 'подвел', 'их', 'к', 'нему', 'и', 'он', 'поцеловал', 'их', 'и', 'обнял', 'их', '.']\n"
     ]
    }
   ],
   "source": [
    "print(*code_s)\n",
    "print()\n",
    "print(*testament_s)"
   ]
  },
  {
   "cell_type": "code",
   "execution_count": 44,
   "metadata": {},
   "outputs": [],
   "source": [
    "test_s = [\n",
    "    ['но', 'мы', 'будем', 'исходить', 'из', 'предположения', 'что', 'вызывающий', 'процесс', \n",
    "     'просто', 'не', 'пожелал', 'сбрасывать', 'содержимое', 'буферов', '.'],\n",
    "    ['выполнение', 'программ', 'командной', 'оболочкой', '.'],\n",
    "    ['целью', 'этих', 'руководств', 'было', 'повышение', 'переносимости', 'прикладных', 'программ', \n",
    "     'которое', 'стало', 'возможным', 'благодаря', 'простому', 'следованию', 'опубликованным', 'стандартам', '.'],\n",
    "    ['однако', 'файл', 'должен', 'существовать', 'если', 'другой', 'процесс', 'смог', 'установить', 'на', 'него', 'блокировку', '.'],\n",
    "    \n",
    "    ['не', 'ешь', 'с', 'нею', 'квасного', '.'],\n",
    "    ['но', 'я', 'отрок', 'малый', 'не', 'знаю', 'ни', 'моего', 'выхода', 'ни', 'входа', '.'],\n",
    "    ['в', 'шестой', 'же', 'день', 'собрали', 'хлеба', 'вдвое', 'по', 'два', 'гомора', 'на', 'каждого', '.'],\n",
    "    ['он', 'злословил', 'меня', 'тяжким', 'злословием', 'когда', 'я', 'шел', 'в', 'маханаим', '.']\n",
    "]"
   ]
  },
  {
   "cell_type": "code",
   "execution_count": 59,
   "metadata": {},
   "outputs": [
    {
     "name": "stdout",
     "output_type": "stream",
     "text": [
      "T=0.4\n",
      "но мы будем исходить из состояния может получить переменную от дочернего процесса . и возвратился и сказал господь бог твой . после вызова функции read в последнем случае не получает поддержку последнего изменения процесса \n",
      "T=0.6\n",
      "но мы будем исходить из нового дочерей согрешили три против сие . и пришел иудей говорил ему и сказал по себе и все возможности и в момент командной оболочки . если же поставил его из народа который вы был о рукою своем с н\n",
      "\n",
      "T=0.4\n",
      "выполнение программ командной оболочки . h int pthreadrwlocktrlecpthreadbarrierattrt devtid . например вызывает поток при программе из листинга . и поставил господь поставил себе и послал его и все израильтяне в сердце своем и ск\n",
      "T=0.6\n",
      "выполнение программ командной оболочки которые приложения обычно обработать файл создаются самым приостановким передача такого случая и поддерживается это последние дескрипторы процесса . когда мы можем открыть пример открытия фа\n",
      "\n",
      "T=0.4\n",
      "целью этих руководств было создана поток и обработчик сигнала процесс обеспечивает сообщение об ошибке . сигналы при создании файла соответствующий процесс . после вызова функции open после вызова функции wait . в качестве фай\n",
      "T=0.6\n",
      "целью этих руководств было процессор получит дескриптор строки маска сигналов передается некоторые системы в аргументе system записывается сигнал sigcanched . для этого в конец файла и оказывается с дескриптором которые вызыва\n",
      "\n",
      "T=0.4\n",
      "однако файл должен производить процесс . и возвратился из него . после того как вы сможете получить в случае успеха в случае ошибки int char ptr . поскольку объем поддержки сообщения . и сказал ему был и он сказал авим\n",
      "T=0.6\n",
      "однако файл должен определить его задание передается в данной каталоге . в измените следующий процесс изменился в процессе для последнего вызова функции pthreadmutexinitpthreadcondtimedtype ofdtroint fd . стандартное в\n",
      "\n",
      "T=0.4\n",
      "не ешь с нею квасного . и когда он сказал вот я на землю и поставил меня и сыны израилевы бога израилевы . и сказал господь моисею говоря давид сын твой . и сказал саул моисею говоря на восток и возвратился и сказал во все \n",
      "T=0.6\n",
      "не ешь с нею квасного . и сказал а возьми варианту сыну его . обе возвращают в случае успеха код ошибки в случае неудачи функция getsize с помощью функции sigear . для данного устройства будет должен вызывать функцию setjmp\n",
      "\n",
      "T=0.4\n",
      "но я отрок малый не знаю ни на земле . в случае успеха в случае ошибки int clocknamestruct setvoid . структура printf при получении сигнала sigquit с помощью функции clock и set . и все израильтяне послал саул по всему пороку и\n",
      "T=0.6\n",
      "но я отрок малый не знаю ни исполнять тебя . и поставил господь и наконец из себе слова приношения его . и сказал господь моисею приставлен что было станется на ресурсу при вызове функции signal не записывает значение полностью\n",
      "\n",
      "T=0.4\n",
      "в шестой же день собрали хлеба . это вызывает функцию fork . и сказал ему господь говоря был старейшины и составил их и отвечал им на всех израильтян . и возьми себе по семействам их . h для работы с версиями сигнала sigint и sigi\n",
      "T=0.6\n",
      "в шестой же день собрали хлеба своего истребления их . и приходили им сынов израилевых по стене . возвращает в случае успеха код ошибки в случае неудачи int pthreadcondrestricterhore struct timespec sigint int readvoid const struc\n",
      "\n",
      "T=0.4\n",
      "он злословил меня тяжким свойме . и послал вас к иорама и сказал господь моисею и проделал меня . например выполняется значение последовательности представления нескольких процессов и последнего потока выполнения при создани\n",
      "T=0.6\n",
      "он злословил меня тяжким неправдую с тебя . и сказал ему размер невостоние священников бога всех на старейшины его и поставил их делей . в состоянии стандарт single unix specification после того как распространяется приложен\n",
      "\n"
     ]
    }
   ],
   "source": [
    "model = load_model(\"./models/char_lstm_under.h5\")\n",
    "for s in test_s:\n",
    "    sent = []\n",
    "    i = 0\n",
    "    while len(\" \".join(sent + [s[i]])) <= 30:\n",
    "        sent.append(s[i])\n",
    "        i += 1\n",
    "        if i == len(s):\n",
    "            break\n",
    "    print(f\"T=0.4\")\n",
    "    sample_sentences(model, sentence=sent, mode=\"char\", window=30, diversity=0.4)\n",
    "    print(f\"T=0.6\")\n",
    "    sample_sentences(model, sentence=sent, mode=\"char\", window=30, diversity=0.6)\n",
    "    print()"
   ]
  },
  {
   "cell_type": "code",
   "execution_count": 60,
   "metadata": {},
   "outputs": [
    {
     "name": "stdout",
     "output_type": "stream",
     "text": [
      "T=0.4\n",
      "но мы будем исходить из сигнала sigconf . и сказал ему вот становил господь бог твой и на после во все семь дней на него и сказал им не положил что бог твой . и сказал ему по отца моего и сказал господь бог твой он будет от\n",
      "T=0.6\n",
      "но мы будем исходить из пользователя . h с . возвращает в случае успеха код ошибки в случае успеха в случае ошибки int sigintint signo . реальный сигнал sigint или exec в этой сигналось над сигналом и не обработки поддержив\n",
      "\n",
      "T=0.4\n",
      "выполнение программ командной строки . функция poll выполняет передачи процесса . и послал господь моисею сказали им земля так тебе . при вызове функции signal и sigalrm . в случае успеха в случае ошибки int fd struct otemax stru\n",
      "T=0.6\n",
      "выполнение программ командной оболочки . такое использование одну как глава так против пророков и стана . в качестве пользователя в системе . тогда бог он все пред ним пользовательскому для над строки на рис . h с . возвращает в \n",
      "\n",
      "T=0.4\n",
      "целью этих руководств было соответствующим и поддерживает представляет сигнал sigterm . и вышел свое тельцов и дела тебя . в операции по умолчанию в очередь сигнала процесс . и сказал ему станы и будет на на семьдесят и послал\n",
      "T=0.6\n",
      "целью этих руководств было очереди . и сказал самуил и ты сделал к тебе в бликове города того продолжит меня все пред руки твоему . и сказал господь моисею того что не создавал на у них . настивый требуется процесс необходимо \n",
      "\n",
      "T=0.4\n",
      "однако файл должен по отличному и от себя тебя и возвратился и сказал господь бог твой . и простил их в израиле и послал господь бог твоему . и пришли к из при надерного с дочерним процессами . и сказал господь моисею \n",
      "T=0.6\n",
      "однако файл должен запускать связанные с помощью функции read и struct statemax . однако размер доступных константы в наборе стандарта sisgle unix specification не владельца программы . и возвратил авессалом моей своей\n",
      "\n",
      "T=0.4\n",
      "не ешь с нею квасного . и поступил и в потом своем и он не получил в семь своем . при от устав две прочита стандарта posix . и пришел народ и послал их и должны и положить и сказала а семь становит . при относительно сигнал\n",
      "T=0.6\n",
      "не ешь с нею квасного . запрошено по открытой поток . и сказал им вот дом нас весь . чтобы сомьются к наставлением . и они возвращает начальник работы конца и файла потока сообщений процесс программой расширение процесса на\n",
      "\n",
      "T=0.4\n",
      "но я отрок малый не знаю ни в так в последних при всех системах в начало сигнала sigchld с необходимо запись в программе . и сказал господь моисею и вот сказал им вот со делениями и старось и составили его . и сказал господь мо\n",
      "T=0.6\n",
      "но я отрок малый не знаю ни они постоял на него на они города и станется со семь лет . он показал аман по подоле тебя . представляет что в соответствии с семействами строки . возможные программы в семафором . и послал самуил в \n",
      "\n",
      "T=0.4\n",
      "в шестой же день собрали хлеба и ставь и сказал ему господь бог твой он он приставляет в дом господа . и пришел их в источной строке и стандартной вывод с вывода с помощью функции dbfind . когда он сказал ему сигнал дава в отца св\n",
      "T=0.6\n",
      "в шестой же день собрали хлеба от байта . а вина когда поразил как тебя . и содержит нему стандартный вывод . и сказал господь бог если сказал мы умертву все в полных . и сказали он ровет с отцами своими и управляющим у сего безоп\n",
      "\n",
      "T=0.4\n",
      "он злословил меня тяжким в том что сильный и не возвращает на меня и по него можно использовать размер для . и послал иоав сынов израилевых и пойди в семь все . в случае успеха в случае ошибки int struct sigsetint signal sig\n",
      "T=0.6\n",
      "он злословил меня тяжким тебе . и в руки своем соответствующим принтеру и системные вызовы поддерживается процесса в поле putam в случае успеха в случае ошибки int sempathmax sizet fork . возвращает количество соответствующи\n",
      "\n"
     ]
    }
   ],
   "source": [
    "model = load_model(\"./models/char_bidirect_under.h5\")\n",
    "for s in test_s:\n",
    "    sent = []\n",
    "    i = 0\n",
    "    while len(\" \".join(sent + [s[i]])) <= 30:\n",
    "        sent.append(s[i])\n",
    "        i += 1\n",
    "        if i == len(s):\n",
    "            break\n",
    "    print(f\"T=0.4\")\n",
    "    sample_sentences(model, sentence=sent, mode=\"char\", window=30, diversity=0.4)\n",
    "    print(f\"T=0.6\")\n",
    "    sample_sentences(model, sentence=sent, mode=\"char\", window=30, diversity=0.6)\n",
    "    print()"
   ]
  },
  {
   "cell_type": "code",
   "execution_count": 68,
   "metadata": {},
   "outputs": [
    {
     "name": "stdout",
     "output_type": "stream",
     "text": [
      "придумал бог алгоритм а они посвятил господь соединение и не определены на серверных случая . когда работает от меня в поля struct passwd fd . вызов функции system остановить возможность вернуться в данной потоке . обокнавальн\n"
     ]
    }
   ],
   "source": [
    "model = load_model(\"./models/char_lstm_under.h5\")\n",
    "sample_sentences(model, sentence=\"придумал бог алгоритм а он\".split(), mode=\"char\", window=30, diversity=0.6)"
   ]
  },
  {
   "cell_type": "code",
   "execution_count": 77,
   "metadata": {},
   "outputs": [
    {
     "name": "stdout",
     "output_type": "stream",
     "text": [
      "придумал бог алгоритм а он принесет в египет . и послал им и возвратился сын его по стражу и простирал раба моего в семьдесят первых вершины . и сказал господь моисею говоря он поставил его . и сказал господь моисею говоря пос\n"
     ]
    }
   ],
   "source": [
    "sample_sentences(model, sentence=\"придумал бог алгоритм а он\".split(), mode=\"char\", window=30, diversity=0.4)"
   ]
  },
  {
   "cell_type": "code",
   "execution_count": 71,
   "metadata": {},
   "outputs": [
    {
     "name": "stdout",
     "output_type": "stream",
     "text": [
      "значение аргумента control вызывает read которая управляют левиты с тебя чтобы аарон и иерусалим в пустыне до разного пред себе . и сказал господь моисею вот я повелел ему и сыновья своего против бить и возврати службу\n"
     ]
    }
   ],
   "source": [
    "sample_sentences(model, sentence=\"значение аргумента\".split(), mode=\"char\", window=30, diversity=0.6)"
   ]
  },
  {
   "cell_type": "code",
   "execution_count": 74,
   "metadata": {},
   "outputs": [
    {
     "name": "stdout",
     "output_type": "stream",
     "text": [
      "если исходный текст . и отдал господь моисею с всех городах и стал был иерусалима и приносите их и сказал аарону и ты нам у своего одного на дом свой . и дай тебе стояли который принесли народ твой из дома их да это был\n"
     ]
    }
   ],
   "source": [
    "sample_sentences(model, sentence=\"если исходный текст\".split(), mode=\"char\", window=30, diversity=0.6)"
   ]
  },
  {
   "cell_type": "code",
   "execution_count": 67,
   "metadata": {},
   "outputs": [
    {
     "name": "stdout",
     "output_type": "stream",
     "text": [
      "вызов функции setprintf а управляющий терминал является одной при процессе из системы которые можно изменить оба только в структуре функции wait . тогда сказал такого господь сделал и было дело его и не повелел ем\n"
     ]
    }
   ],
   "source": [
    "sample_sentences(model, sentence=\"вызов функции\".split(), mode=\"char\", window=30, diversity=0.6)"
   ]
  },
  {
   "cell_type": "code",
   "execution_count": null,
   "metadata": {},
   "outputs": [],
   "source": []
  },
  {
   "cell_type": "code",
   "execution_count": null,
   "metadata": {},
   "outputs": [],
   "source": []
  }
 ],
 "metadata": {
  "kernelspec": {
   "display_name": "Python 3",
   "language": "python",
   "name": "python3"
  },
  "language_info": {
   "codemirror_mode": {
    "name": "ipython",
    "version": 3
   },
   "file_extension": ".py",
   "mimetype": "text/x-python",
   "name": "python",
   "nbconvert_exporter": "python",
   "pygments_lexer": "ipython3",
   "version": "3.6.7"
  }
 },
 "nbformat": 4,
 "nbformat_minor": 2
}
