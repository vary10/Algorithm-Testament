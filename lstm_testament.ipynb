{
 "cells": [
  {
   "cell_type": "markdown",
   "metadata": {},
   "source": [
    "\n",
    "# Воспроизведение \"King James Programming\" для русского языка, или \"Ветхий алгоритм\"\n",
    "\n",
    "http://kingjamesprogramming.tumblr.com/"
   ]
  },
  {
   "cell_type": "markdown",
   "metadata": {},
   "source": [
    "## Данные"
   ]
  },
  {
   "cell_type": "code",
   "execution_count": 1,
   "metadata": {},
   "outputs": [],
   "source": [
    "%load_ext autoreload\n",
    "%autoreload 2"
   ]
  },
  {
   "cell_type": "code",
   "execution_count": 2,
   "metadata": {},
   "outputs": [],
   "source": [
    "import regex \n",
    "import numpy as np"
   ]
  },
  {
   "cell_type": "code",
   "execution_count": 3,
   "metadata": {},
   "outputs": [],
   "source": [
    "# Читаем алгоритмы Кормена\n",
    "with open('./texts/cormen.txt', encoding='utf8') as f:\n",
    "    cormen = f.read().replace(u'\\xa0', u' ').replace(u'\\x0c', u'.').replace(u'\\xad', '')\n",
    "    cormen = cormen.replace(\".w\", \"м\").replace(\"19\", \"ю\").replace(\"ё\", \"е\")\n",
    "cormen = regex.sub(u'[^\\p{L}\\ \\n\\.\\!\\?\\;]', '', cormen) # оставляем только буквы и знаки препенания\n",
    "cormen = regex.sub('[\\!\\?\\;]', '.', cormen) # заменяем все знаки препинания на точки\n",
    "cormen = regex.sub('Глава', '', cormen)\n",
    "cormen = regex.sub('\\n+\\ *\\n*\\ *', ' ', cormen) # сокращаем \\n\n",
    "cormen = regex.sub('\\.+[ *\\.*\\n*]*', '. ', cormen) # сокращаем точки"
   ]
  },
  {
   "cell_type": "code",
   "execution_count": 4,
   "metadata": {},
   "outputs": [],
   "source": [
    "import nltk\n",
    "from nltk.tokenize import TweetTokenizer\n",
    "\n",
    "sent_detector = nltk.data.load('tokenizers/punkt/english.pickle')\n",
    "tokenizer = TweetTokenizer()\n",
    "\n",
    "cormen_sentences = []\n",
    "\n",
    "for sent in sent_detector.tokenize(cormen.lower()):\n",
    "    tokens = tokenizer.tokenize(sent)\n",
    "    if tokens[0].isdigit():\n",
    "        tokens = tokens[1:]\n",
    "    cormen_sentences.append(tokens)"
   ]
  },
  {
   "cell_type": "code",
   "execution_count": 5,
   "metadata": {},
   "outputs": [],
   "source": [
    "# Читаем книгу про юникс\n",
    "with open('./texts/unix.txt', encoding='utf8') as f:\n",
    "    unix = f.read().replace(u'\\xa0', u' ').replace(u'\\x0c', u'.').replace('\\xad', '')\n",
    "    unix = unix.replace(\".w\", \"м\").replace(\"19\", \"ю\").replace(\"ё\", \"е\")\n",
    "\n",
    "unix = regex.sub(u'[^\\p{L}\\ \\n\\.\\!\\?\\;]', '', unix) # оставляем только буквы и знаки препенания\n",
    "unix = regex.sub('[\\!\\?\\;]', '.', unix) # заменяем все знаки препинания на точки\n",
    "unix = regex.sub('Глава', '', unix)\n",
    "unix = regex.sub('\\n+\\ *\\n*\\ *', ' ', unix) # сокращаем \\n\n",
    "unix = regex.sub('\\.+[ *\\.*\\n*]*', '. ', unix) # сокращаем точки\n"
   ]
  },
  {
   "cell_type": "code",
   "execution_count": 6,
   "metadata": {},
   "outputs": [],
   "source": [
    "unix_sentences = []\n",
    "\n",
    "for sent in sent_detector.tokenize(unix.lower()):\n",
    "    tokens = tokenizer.tokenize(sent)\n",
    "    if tokens[0].isdigit():\n",
    "        tokens = tokens[1:]\n",
    "    unix_sentences.append(tokens)"
   ]
  },
  {
   "cell_type": "code",
   "execution_count": 7,
   "metadata": {},
   "outputs": [],
   "source": [
    "# читаем ветхий завет\n",
    "with open('./texts/testament.txt', encoding='utf8') as f:\n",
    "    testament = f.read().replace(u'\\xa0', u' ').replace(u'\\x0c', u'.').replace('\\xad', '')\n",
    "    testament = testament.replace(\".w\", \"м\").replace(\"19\", \"ю\").replace(\"ё\", \"е\")\n",
    "# # чистим ветхий завет\n",
    "testament = regex.sub(u'[^\\p{L}\\ \\n\\.\\!\\?\\;]', '', testament) # оставляем только буквы и знаки препенания\n",
    "testament = regex.sub('[\\!\\?\\;]', '.', testament) # заменяем все знаки препинания на точки\n",
    "testament = regex.sub('Глава', '', testament)\n",
    "testament = regex.sub('\\n+\\ *\\n*\\ *', ' ', testament) # сокращаем \\n\n",
    "testament = regex.sub('\\.+[ *\\.*\\n*]*', '. ', testament) # сокращаем точки"
   ]
  },
  {
   "cell_type": "code",
   "execution_count": 8,
   "metadata": {},
   "outputs": [],
   "source": [
    "testament_sentences = []\n",
    "\n",
    "for sent in sent_detector.tokenize(testament.lower()):\n",
    "    tokens = tokenizer.tokenize(sent)\n",
    "    if tokens[0].isdigit():\n",
    "        tokens = tokens[1:]\n",
    "    testament_sentences.append(tokens)"
   ]
  },
  {
   "cell_type": "markdown",
   "metadata": {},
   "source": [
    "### Подготовка данных"
   ]
  },
  {
   "cell_type": "markdown",
   "metadata": {},
   "source": [
    "Оставим предложения длиной не меньше 5."
   ]
  },
  {
   "cell_type": "code",
   "execution_count": 9,
   "metadata": {},
   "outputs": [],
   "source": [
    "code_sentences = cormen_sentences + unix_sentences\n",
    "code_sentences = [s for s in code_sentences if 5 <= len(s)]\n",
    "testament_sentences = [s for s in testament_sentences if 5 <= len(s)]"
   ]
  },
  {
   "cell_type": "code",
   "execution_count": 10,
   "metadata": {},
   "outputs": [],
   "source": [
    "all_words = [w for s in testament_sentences for w in s] + [w for s in code_sentences for w in s]\n",
    "words = np.array(list(set(all_words)))"
   ]
  },
  {
   "cell_type": "code",
   "execution_count": 11,
   "metadata": {},
   "outputs": [],
   "source": [
    "# np.save(\"words_alph.npy\", words)\n",
    "words = np.load(\"words_alph.npy\")"
   ]
  },
  {
   "cell_type": "markdown",
   "metadata": {},
   "source": [
    "Обучим модель fasttext для представлений слов."
   ]
  },
  {
   "cell_type": "code",
   "execution_count": 12,
   "metadata": {},
   "outputs": [],
   "source": [
    "import gensim\n",
    "from gensim.models import FastText"
   ]
  },
  {
   "cell_type": "code",
   "execution_count": 13,
   "metadata": {},
   "outputs": [],
   "source": [
    "np.random.seed(923418)\n",
    "all_text = np.array(testament_sentences + code_sentences)\n",
    "np.random.shuffle(all_text)"
   ]
  },
  {
   "cell_type": "code",
   "execution_count": 14,
   "metadata": {},
   "outputs": [],
   "source": [
    "all_text = [\" \".join(s).lower().split(\" \") for s in all_text]"
   ]
  },
  {
   "cell_type": "code",
   "execution_count": 18,
   "metadata": {},
   "outputs": [],
   "source": [
    "fast_text_model = FastText(size=256, window=4, min_count=2)\n",
    "fast_text_model.build_vocab(sentences=all_text)\n",
    "fast_text_model.train(sentences=all_text, total_examples=len(all_text), epochs=10)"
   ]
  },
  {
   "cell_type": "code",
   "execution_count": 15,
   "metadata": {},
   "outputs": [],
   "source": [
    "from gensim.test.utils import get_tmpfile\n",
    "\n",
    "fname = get_tmpfile(\"fasttext.model\")\n",
    "\n",
    "# fast_text_model.save(fname)\n"
   ]
  },
  {
   "cell_type": "code",
   "execution_count": 16,
   "metadata": {},
   "outputs": [],
   "source": [
    "# fast_text_model.save(\"fast_text_model.model\")"
   ]
  },
  {
   "cell_type": "code",
   "execution_count": 17,
   "metadata": {},
   "outputs": [],
   "source": [
    "fast_text_model = FastText.load(fname)"
   ]
  },
  {
   "cell_type": "markdown",
   "metadata": {},
   "source": [
    "Создаем обучающую и тестовую выборки и алфавит всего текста."
   ]
  },
  {
   "cell_type": "code",
   "execution_count": 18,
   "metadata": {},
   "outputs": [],
   "source": [
    "np.random.seed(923418)\n",
    "idx = np.random.choice(range(len(code_sentences)), len(code_sentences) // 10, False)\n",
    "mask = np.ones((len(code_sentences)), dtype=bool)\n",
    "mask[idx] = False"
   ]
  },
  {
   "cell_type": "code",
   "execution_count": 19,
   "metadata": {},
   "outputs": [],
   "source": [
    "code_train = np.array(code_sentences)[mask]\n",
    "code_test = np.array(code_sentences)[~mask]"
   ]
  },
  {
   "cell_type": "code",
   "execution_count": 20,
   "metadata": {},
   "outputs": [],
   "source": [
    "idx = np.random.choice(range(len(testament_sentences)), len(testament_sentences) // 10, False)\n",
    "mask = np.ones((len(testament_sentences)), dtype=bool)\n",
    "mask[idx] = False"
   ]
  },
  {
   "cell_type": "code",
   "execution_count": 21,
   "metadata": {},
   "outputs": [],
   "source": [
    "testament_train = np.array(testament_sentences)[mask]\n",
    "testament_test = np.array(testament_sentences)[~mask]"
   ]
  },
  {
   "cell_type": "code",
   "execution_count": 22,
   "metadata": {},
   "outputs": [],
   "source": [
    "alphabet = \" \".join(words)"
   ]
  },
  {
   "cell_type": "code",
   "execution_count": 23,
   "metadata": {},
   "outputs": [
    {
     "name": "stdout",
     "output_type": "stream",
     "text": [
      "[' ', '.', 'a', 'b', 'c', 'd', 'e', 'f', 'g', 'h', 'i', 'j', 'k', 'l', 'm', 'n', 'o', 'p', 'q', 'r', 's', 't', 'u', 'v', 'w', 'x', 'y', 'z', 'а', 'б', 'в', 'г', 'д', 'е', 'ж', 'з', 'и', 'й', 'к', 'л', 'м', 'н', 'о', 'п', 'р', 'с', 'т', 'у', 'ф', 'х', 'ц', 'ч', 'ш', 'щ', 'ъ', 'ы', 'ь', 'э', 'ю', 'я']\n"
     ]
    }
   ],
   "source": [
    "alphabet = sorted(set(list(alphabet)))\n",
    "print(alphabet)"
   ]
  },
  {
   "cell_type": "code",
   "execution_count": 24,
   "metadata": {},
   "outputs": [],
   "source": [
    "char_idx = dict(zip(alphabet, np.eye(len(alphabet))))"
   ]
  },
  {
   "cell_type": "code",
   "execution_count": 25,
   "metadata": {},
   "outputs": [
    {
     "data": {
      "text/plain": [
       "(60, 26868, 16720, 2985, 1857)"
      ]
     },
     "execution_count": 25,
     "metadata": {},
     "output_type": "execute_result"
    }
   ],
   "source": [
    "len(alphabet), len(code_train), len(testament_train), len(code_test), len(testament_test)"
   ]
  },
  {
   "cell_type": "markdown",
   "metadata": {},
   "source": [
    "### Импорт и кофиг tensorflow и keras"
   ]
  },
  {
   "cell_type": "code",
   "execution_count": 26,
   "metadata": {},
   "outputs": [],
   "source": [
    "from tensorflow.keras import backend as K\n",
    "from tensorflow.keras.callbacks import Callback, ReduceLROnPlateau\n",
    "from tensorflow.keras.layers import (Bidirectional, TimeDistributed, LSTM, Activation, Dense, Dropout, Flatten, Input, MaxPool2D, Embedding)\n",
    "from tensorflow.keras.models import Model, load_model, Sequential\n",
    "from tensorflow.keras.optimizers import SGD, Adam, RMSprop\n",
    "from tensorflow.keras.losses import categorical_crossentropy, sparse_categorical_crossentropy\n",
    "from tensorflow.keras.layers import Layer\n",
    "from tensorflow.keras.utils import Sequence\n",
    "from tensorflow.keras.backend import set_session\n",
    "import tensorflow as tf"
   ]
  },
  {
   "cell_type": "code",
   "execution_count": 27,
   "metadata": {},
   "outputs": [],
   "source": [
    "config = tf.ConfigProto()\n",
    "# config.gpu_options.per_process_gpu_memory_fraction = 0.4\n",
    "config.gpu_options.visible_device_list='0'\n",
    "config.gpu_options.allow_growth = True\n",
    "# config.log_device_placement=True\n",
    "sess = tf.Session(config=config)\n",
    "set_session(sess)"
   ]
  },
  {
   "cell_type": "markdown",
   "metadata": {},
   "source": [
    "### LSTM на словах с cosine loss"
   ]
  },
  {
   "cell_type": "code",
   "execution_count": 51,
   "metadata": {},
   "outputs": [],
   "source": [
    "class generator(Sequence):\n",
    "    \n",
    "    def __init__(self, code, bible, batch_size=100, window=5):\n",
    "        self.text = np.concatenate([np.array(bible), np.array(code)])\n",
    "        np.random.shuffle(self.text)\n",
    "        self.batch_size = batch_size\n",
    "        self.window = window\n",
    "        self.indices = np.arange(self.text.shape[0])\n",
    "        \n",
    "    def __len__(self):\n",
    "        return len(self.text) // self.batch_size\n",
    "    \n",
    "    def __getitem__(self, idx):\n",
    "        inds = self.indices[idx * self.batch_size:(idx + 1) * self.batch_size]\n",
    "        text = self.text[inds]\n",
    "        text = [w for s in text for w in s]\n",
    "        text_vecs = [fast_text_model.wv[w] for w in text]\n",
    "        batch_in = []\n",
    "        batch_out = []\n",
    "        for i in range(self.window, len(text_vecs) - self.window):\n",
    "            batch_in.append(text_vecs[i - self.window:i])  \n",
    "            batch_out.append(text_vecs[i])\n",
    "        return np.array(batch_in), np.array(batch_out)\n",
    "    \n",
    "    def on_epoch_end(self):\n",
    "        np.random.shuffle(self.indices)"
   ]
  },
  {
   "cell_type": "code",
   "execution_count": 52,
   "metadata": {},
   "outputs": [],
   "source": [
    "def get_model(dropout=0.3, window=5):\n",
    "    model = Sequential()\n",
    "    model.add(Bidirectional(LSTM(256, return_sequences=True), input_shape=(window, 256)))\n",
    "    if dropout > 0:\n",
    "        model.add(Dropout(dropout))\n",
    "        \n",
    "    model.add(LSTM(256))\n",
    "    return model"
   ]
  },
  {
   "cell_type": "code",
   "execution_count": null,
   "metadata": {
    "scrolled": false
   },
   "outputs": [],
   "source": [
    "# m = get_model()\n",
    "m = load_model(\"./models/cosnoopt.h5\")"
   ]
  },
  {
   "cell_type": "code",
   "execution_count": 54,
   "metadata": {},
   "outputs": [],
   "source": [
    "m.compile(loss='cosine_proximity', optimizer=Adam(1e-6), metrics=['CosineSimilarity'])"
   ]
  },
  {
   "cell_type": "code",
   "execution_count": 55,
   "metadata": {
    "scrolled": true
   },
   "outputs": [
    {
     "name": "stdout",
     "output_type": "stream",
     "text": [
      "217/217 [==============================] - 22s 101ms/step - loss: -0.6984 - cosine_similarity: -0.6984 - val_loss: -0.5734 - val_cosine_similarity: -0.5736\n"
     ]
    }
   ],
   "source": [
    "cos_his = m.fit_generator(generator=generator(code_train, testament_train, batch_size=200), \n",
    "                validation_data=generator(code_test, testament_test, batch_size=200),\n",
    "                workers=16, use_multiprocessing=True, \n",
    "                epochs=1, shuffle=False)"
   ]
  },
  {
   "cell_type": "code",
   "execution_count": 27,
   "metadata": {},
   "outputs": [],
   "source": [
    "m.save('./models/cos.h5')"
   ]
  },
  {
   "cell_type": "markdown",
   "metadata": {},
   "source": [
    "### LSTM на словах с cross-entropy loss"
   ]
  },
  {
   "cell_type": "code",
   "execution_count": 34,
   "metadata": {},
   "outputs": [],
   "source": [
    "class generator(Sequence):\n",
    "    \n",
    "    def __init__(self, code, bible, batch_size=100, window=5):\n",
    "        self.text = np.concatenate([np.array(bible), np.array(code)])\n",
    "        np.random.shuffle(self.text)\n",
    "        self.batch_size = batch_size\n",
    "        self.window = window\n",
    "        self.indices = np.arange(self.text.shape[0])\n",
    "        \n",
    "    def __len__(self):\n",
    "        return len(self.text) // self.batch_size\n",
    "    \n",
    "    def __getitem__(self, idx):\n",
    "        inds = self.indices[idx * self.batch_size:(idx + 1) * self.batch_size]\n",
    "        text = self.text[inds]\n",
    "        text = [w for s in text for w in s]\n",
    "        text_vecs = [fast_text_model.wv[w] for w in text]\n",
    "        batch_in = []\n",
    "        batch_out = []\n",
    "        for i in range(self.window, len(text_vecs) - self.window):\n",
    "            batch_in.append(text_vecs[i - self.window:i])  \n",
    "            batch_out.append(np.where(words==text[i])[0][0])\n",
    "        return np.array(batch_in), np.array(batch_out)\n",
    "    \n",
    "    def on_epoch_end(self):\n",
    "        np.random.shuffle(self.indices)"
   ]
  },
  {
   "cell_type": "code",
   "execution_count": 35,
   "metadata": {},
   "outputs": [],
   "source": [
    "def get_model(dropout=0.3, window=5):\n",
    "    model = Sequential()\n",
    "    model.add(Bidirectional(LSTM(256, return_sequences=True),input_shape=(window, 256)))\n",
    "    if dropout > 0:\n",
    "        model.add(Dropout(dropout))\n",
    "        \n",
    "    model.add(LSTM(256))\n",
    "    if dropout > 0:\n",
    "        model.add(Dropout(dropout))\n",
    "    model.add(Dense(len(words)))\n",
    "    model.add(Activation('softmax'))\n",
    "    return model"
   ]
  },
  {
   "cell_type": "code",
   "execution_count": null,
   "metadata": {
    "scrolled": false
   },
   "outputs": [],
   "source": [
    "# m = get_model()\n",
    "m = load_model(\"./models/cenoopt.h5\")"
   ]
  },
  {
   "cell_type": "code",
   "execution_count": 43,
   "metadata": {},
   "outputs": [],
   "source": [
    "m.compile(loss='sparse_categorical_crossentropy', optimizer=Adam(1e-6), metrics=['CosineSimilarity', \n",
    "                                                                                 'accuracy'\n",
    "                                                                                ])"
   ]
  },
  {
   "cell_type": "code",
   "execution_count": 44,
   "metadata": {
    "scrolled": true
   },
   "outputs": [
    {
     "name": "stdout",
     "output_type": "stream",
     "text": [
      "217/217 [==============================] - 55s 252ms/step - loss: 2.4218 - cosine_similarity: 2.7720 - acc: 0.4961 - val_loss: 5.6072 - val_cosine_similarity: 2.7948 - val_acc: 0.3432\n"
     ]
    }
   ],
   "source": [
    "ce_his = m.fit_generator(generator=generator(code_train, testament_train, batch_size=200), \n",
    "                validation_data=generator(code_test, testament_test, batch_size=200),\n",
    "                workers=16, use_multiprocessing=True, \n",
    "                epochs=1, shuffle=False,)"
   ]
  },
  {
   "cell_type": "code",
   "execution_count": 36,
   "metadata": {},
   "outputs": [],
   "source": [
    "m.save(\"./models/ce.h5\")"
   ]
  },
  {
   "cell_type": "markdown",
   "metadata": {},
   "source": [
    "### LSTM на символах с cross-entropy loss"
   ]
  },
  {
   "cell_type": "code",
   "execution_count": 50,
   "metadata": {},
   "outputs": [],
   "source": [
    "class generator(Sequence):\n",
    "    \n",
    "    def __init__(self, code, bible, batch_size=100, window=30):\n",
    "\n",
    "        self.text = np.concatenate([np.array(bible), np.array(code)])\n",
    "        np.random.shuffle(self.text)\n",
    "        self.batch_size = batch_size\n",
    "        self.window = window\n",
    "        self.indices = np.arange(self.text.shape[0])\n",
    "        \n",
    "        \n",
    "    def __len__(self):\n",
    "        return len(self.text) // self.batch_size\n",
    "    \n",
    "    def __getitem__(self, idx):\n",
    "        inds = self.indices[idx * self.batch_size:(idx + 1) * self.batch_size]\n",
    "        text = self.text[inds]\n",
    "        text = \" \".join([w for s in text for w in s])\n",
    "        batch_in = []\n",
    "        batch_out = []\n",
    "        for i in range(self.window, len(text) - self.window):\n",
    "            batch_in.append([char_idx[ch] for ch in text[i - self.window:i]])\n",
    "            batch_out.append(char_idx[text[i]])\n",
    "        return np.array(batch_in), np.array(batch_out)\n",
    "    \n",
    "    def on_epoch_end(self):\n",
    "        np.random.shuffle(self.indices)"
   ]
  },
  {
   "cell_type": "code",
   "execution_count": 51,
   "metadata": {},
   "outputs": [],
   "source": [
    "from tensorflow.keras.layers import TimeDistributed\n",
    "def get_model(dropout=0.5, window=30):\n",
    "    model = Sequential()\n",
    "    model.add(LSTM(256, return_sequences=True, input_shape=(window, len(alphabet))))\n",
    "    if dropout > 0:\n",
    "        model.add(Dropout(dropout))\n",
    "        \n",
    "    model.add(LSTM(256))\n",
    "    if dropout > 0:\n",
    "        model.add(Dropout(dropout))\n",
    "    model.add(Dense(len(alphabet)))\n",
    "    model.add(Activation('softmax'))\n",
    "\n",
    "    return model"
   ]
  },
  {
   "cell_type": "code",
   "execution_count": null,
   "metadata": {},
   "outputs": [],
   "source": [
    "# m = get_model()\n",
    "m = load_model(\"./models/char_lstm_undernoopt.h5\")"
   ]
  },
  {
   "cell_type": "code",
   "execution_count": 53,
   "metadata": {},
   "outputs": [],
   "source": [
    "m.compile(loss='categorical_crossentropy', optimizer=Adam(1e-6), metrics=['accuracy'])"
   ]
  },
  {
   "cell_type": "code",
   "execution_count": 54,
   "metadata": {},
   "outputs": [
    {
     "name": "stdout",
     "output_type": "stream",
     "text": [
      "1089/1089 [==============================] - 241s 222ms/step - loss: 1.2169 - acc: 0.6343 - val_loss: 1.0923 - val_acc: 0.6675\n"
     ]
    }
   ],
   "source": [
    "char_his = m.fit_generator(generator=generator(code_train, testament_train, batch_size=40), \n",
    "                validation_data=generator(code_test, testament_test, batch_size=40),\n",
    "                workers=16, use_multiprocessing=True, \n",
    "                epochs=1, shuffle=False,)"
   ]
  },
  {
   "cell_type": "code",
   "execution_count": null,
   "metadata": {},
   "outputs": [],
   "source": [
    "m.save(\"./models/char_lstm_under.h5\")"
   ]
  },
  {
   "cell_type": "markdown",
   "metadata": {},
   "source": [
    "### Bidirectional LSTM на символах с cross-entropy loss"
   ]
  },
  {
   "cell_type": "code",
   "execution_count": 45,
   "metadata": {},
   "outputs": [],
   "source": [
    "class generator(Sequence):\n",
    "    \n",
    "    def __init__(self, code, bible, batch_size=100, window=30):\n",
    "\n",
    "        self.text = np.concatenate([np.array(bible), np.array(code)])\n",
    "        np.random.shuffle(self.text)\n",
    "        self.batch_size = batch_size\n",
    "        self.window = window\n",
    "        self.indices = np.arange(self.text.shape[0])\n",
    "        \n",
    "        \n",
    "    def __len__(self):\n",
    "        return len(self.text) // self.batch_size\n",
    "    \n",
    "    def __getitem__(self, idx):\n",
    "        inds = self.indices[idx * self.batch_size:(idx + 1) * self.batch_size]\n",
    "        text = self.text[inds]\n",
    "        text = \" \".join([w for s in text for w in s])\n",
    "        batch_in = []\n",
    "        batch_out = []\n",
    "        for i in range(self.window, len(text) - self.window):\n",
    "            batch_in.append([char_idx[ch] for ch in text[i - self.window:i]])\n",
    "            batch_out.append(char_idx[text[i]])\n",
    "        return np.array(batch_in), np.array(batch_out)\n",
    "    \n",
    "    def on_epoch_end(self):\n",
    "        np.random.shuffle(self.indices)"
   ]
  },
  {
   "cell_type": "code",
   "execution_count": 46,
   "metadata": {},
   "outputs": [],
   "source": [
    "from tensorflow.keras.layers import TimeDistributed\n",
    "def get_model(dropout=0.5, window=30):\n",
    "    model = Sequential()\n",
    "    model.add(Bidirectional(LSTM(256, return_sequences=True),input_shape=(window, len(alphabet))))\n",
    "    if dropout > 0:\n",
    "        model.add(Dropout(dropout))\n",
    "        \n",
    "    model.add(LSTM(256))\n",
    "    if dropout > 0:\n",
    "        model.add(Dropout(dropout))\n",
    "    model.add(Dense(len(alphabet)))\n",
    "    model.add(Activation('softmax'))\n",
    "    \n",
    "    return model"
   ]
  },
  {
   "cell_type": "code",
   "execution_count": 47,
   "metadata": {
    "scrolled": false
   },
   "outputs": [
    {
     "name": "stderr",
     "output_type": "stream",
     "text": [
      "W1014 14:17:52.135583 139645890901824 hdf5_format.py:221] No training configuration found in save file: the model was *not* compiled. Compile it manually.\n"
     ]
    }
   ],
   "source": [
    "# m = get_model()\n",
    "m = load_model(\"./models/char_bidirect_undernoopt.h5\")"
   ]
  },
  {
   "cell_type": "code",
   "execution_count": 48,
   "metadata": {},
   "outputs": [],
   "source": [
    "m.compile(loss='categorical_crossentropy', optimizer=Adam(1e-6), metrics=['accuracy'])"
   ]
  },
  {
   "cell_type": "code",
   "execution_count": 49,
   "metadata": {
    "scrolled": true
   },
   "outputs": [
    {
     "name": "stdout",
     "output_type": "stream",
     "text": [
      "1089/1089 [==============================] - 348s 319ms/step - loss: 1.3341 - acc: 0.5998 - val_loss: 1.2337 - val_acc: 0.6253\n"
     ]
    }
   ],
   "source": [
    "ce1_his = m.fit_generator(generator=generator(code_train, testament_train, batch_size=40), \n",
    "                validation_data=generator(code_test, testament_test, batch_size=40),\n",
    "                workers=16, use_multiprocessing=True, \n",
    "                epochs=1, shuffle=False)"
   ]
  },
  {
   "cell_type": "code",
   "execution_count": 44,
   "metadata": {},
   "outputs": [],
   "source": [
    "m.save(\"./models/char_bidirect_under.h5\")"
   ]
  },
  {
   "cell_type": "markdown",
   "metadata": {},
   "source": [
    "### Инференс"
   ]
  },
  {
   "cell_type": "code",
   "execution_count": 28,
   "metadata": {
    "scrolled": false
   },
   "outputs": [],
   "source": [
    "char_models = [\n",
    "    \"./models/char_lstm.h5\",\n",
    "    \"./models/char_bidirect.h5\",\n",
    "    \"./models/char_bidirect_under.h5\"\n",
    "    \"./models/char_lstm_under.h5\"\n",
    "]\n",
    "words_models = [\n",
    "    \"./models/ce.h5\",\n",
    "    \"./models/cos.h5\",\n",
    "]"
   ]
  },
  {
   "cell_type": "markdown",
   "metadata": {},
   "source": [
    "Функция sample семплирует объект с некоторой вероятностью, изменяемой температурой. Температуру мы будем использовать, чтобы разнообразить предсказания моделей."
   ]
  },
  {
   "cell_type": "code",
   "execution_count": 29,
   "metadata": {},
   "outputs": [],
   "source": [
    "def sample(preds, temperature=1.0):\n",
    "    preds = np.asarray(preds).astype('float64')\n",
    "    preds = np.log(preds) / (temperature + 1e-2)\n",
    "    exp_preds = np.exp(preds)\n",
    "    preds = exp_preds / np.sum(exp_preds)\n",
    "    probas = np.random.multinomial(1, preds, 1)\n",
    "    return np.argmax(probas)\n",
    "\n",
    "def pformat(seq):\n",
    "    if not type(seq) is str:\n",
    "        seq = \" \".join(seq)\n",
    "    return seq\n",
    "\n",
    "def infer(model, mode=\"char\", window=30, divs=np.linspace(0, 1, 6), seq_len=200):\n",
    "    '''\n",
    "    Returns sequences of length seq_len for each diversity\n",
    "    mode: {\"char\", \"words_ce\", \"words_cos\"}\n",
    "    '''\n",
    "    vocab = alphabet if mode == \"char\" else words\n",
    "    sentence = np.random.choice(np.concatenate([code_test, testament_test]), 10)\n",
    "    \n",
    "    if mode == \"char\":\n",
    "        sentence = \" \".join([\" \".join(s) for s in sentence])\n",
    "        sentence = sentence[:window]\n",
    "        start = [char_idx[ch] for ch in sentence]\n",
    "    elif mode == \"words_cos\" or \"words_ce\":\n",
    "        sentence = [w for s in sentence for w in s][:window]\n",
    "        start = [fast_text_model.wv[w] for w in sentence]\n",
    "    \n",
    "    for diversity in divs:\n",
    "        print(f'----- Diversity: {diversity}\\n')\n",
    "        print(f'----- Generating with seed:\\n\"{pformat(sentence)}\"\\n')\n",
    "        res = '' if mode == \"char\" else []\n",
    "        if seq_len is 200:\n",
    "            seq_len = 200 if mode == \"char\" else 40\n",
    "        for i in range(seq_len):\n",
    "            \n",
    "            preds = model.predict(np.array(start)[None, :, :], verbose=0)[0]\n",
    "            \n",
    "            # sample next word\n",
    "            if mode == \"char\" or mode == \"words_ce\":\n",
    "                next_index = sample(preds, diversity)\n",
    "                next_word = vocab[next_index]\n",
    "            elif mode == \"words_cos\":\n",
    "                top_similar, probas = list(zip(*fast_text_model.wv.most_similar([preds])))\n",
    "                next_word = top_similar[sample(probas, diversity)]\n",
    "            \n",
    "            # add next word to queue\n",
    "            start = start[1:]\n",
    "            if mode == \"char\":\n",
    "                start.append(char_idx[next_word])\n",
    "            elif mode == \"words_ce\" or mode == \"words_cos\":\n",
    "                start.append(fast_text_model.wv[next_word])\n",
    "            \n",
    "            # add next word to result\n",
    "            if mode == \"char\":\n",
    "                res += next_word\n",
    "            else:\n",
    "                res.append(next_word)\n",
    "        print(pformat(sentence + res), \"\\n\")\n",
    "    print('='*80 + '\\n')"
   ]
  },
  {
   "cell_type": "markdown",
   "metadata": {},
   "source": [
    "Посмотрим на выходы моделей с разной температурой."
   ]
  },
  {
   "cell_type": "code",
   "execution_count": 32,
   "metadata": {},
   "outputs": [
    {
     "name": "stdout",
     "output_type": "stream",
     "text": [
      "----- Diversity: 0.0\n",
      "\n",
      "----- Generating with seed:\n",
      "\"второй третий и четвертый аргу\"\n",
      "\n",
      "второй третий и четвертый аргумент . и сказал господь моисею говоря скажи сынам израилевым в сердце своем . и сказал господь моисею говоря скажи сынам израилевым в сердце своем . и сказал господь моисею говоря скажи сынам израилев \n",
      "\n",
      "----- Diversity: 0.2\n",
      "\n",
      "----- Generating with seed:\n",
      "\"второй третий и четвертый аргу\"\n",
      "\n",
      "второй третий и четвертый аргуым по приношению их . и сказал им иосиф и сказал ему пойди в сердце твоем . и сказал господь моисею говоря скажи ему вот я дал тебе и сказал вот я наполнил тебя и сказал вот я поставил меня . и послал \n",
      "\n",
      "----- Diversity: 0.4\n",
      "\n",
      "----- Generating with seed:\n",
      "\"второй третий и четвертый аргу\"\n",
      "\n",
      "второй третий и четвертый аргу иоав сын иоава и поставил с ними . в этом случае в этом случае функция signal в случае успеха поскольку процесс создает текущий каталог процесс вызывает функцию pthreadmutexattrinit . и сказал господ \n",
      "\n",
      "----- Diversity: 0.6000000000000001\n",
      "\n",
      "----- Generating with seed:\n",
      "\"второй третий и четвертый аргу\"\n",
      "\n",
      "второй третий и четвертый аргуь моисею вот господь бог ваш . h int mainvoid int status . пример командной оболочки содержит из устройства которые можно просто получить с дескрипторами файлов которые можно получить с кодом ошибки e \n",
      "\n",
      "----- Diversity: 0.8\n",
      "\n",
      "----- Generating with seed:\n",
      "\"второй третий и четвертый аргу\"\n",
      "\n",
      "второй третий и четвертый аргуintr exit . памяти ему работает работы определяют операции вводавывода и терминальных устройств . в основном вводы в буферы будут поддерживаться изменением операций вводавывода для взаимодействий межд \n",
      "\n",
      "----- Diversity: 1.0\n",
      "\n",
      "----- Generating with seed:\n",
      "\"второй третий и четвертый аргу\"\n",
      "\n",
      "второй третий и четвертый аргуу процессами раздел . пом должны рассметрить один массив при последнем использовании бита setgroupid функции lseek открывается . из слава и ангела вашего время тебя во все дни отца твоего и образили н \n",
      "\n",
      "================================================================================\n",
      "\n"
     ]
    }
   ],
   "source": [
    "model = load_model(\"./models/char_lstm.h5\")\n",
    "infer(model, window=30, mode=\"char\")"
   ]
  },
  {
   "cell_type": "code",
   "execution_count": 33,
   "metadata": {},
   "outputs": [
    {
     "name": "stdout",
     "output_type": "stream",
     "text": [
      "----- Diversity: 0.0\n",
      "\n",
      "----- Generating with seed:\n",
      "\"if n sysconfschostnamemax n ho\"\n",
      "\n",
      "if n sysconfschostnamemax n hostnamemax . и сказал господь моисею говоря объяви его и сказал ему не поступай с ним . и сказал господь моисею говоря объяви его и сказал ему не поступай с ним . и сказал господь моисею говоря объяви  \n",
      "\n",
      "----- Diversity: 0.2\n",
      "\n",
      "----- Generating with seed:\n",
      "\"if n sysconfschostnamemax n ho\"\n",
      "\n",
      "if n sysconfschostnamemax n hoего и сказал ему имя его . и сказал господь моисею говоря вот сыны израилевы подобно что поставил в себя все стана и поставил себе колена израилевы и все служащие господней . и сказал господь моисею г \n",
      "\n",
      "----- Diversity: 0.4\n",
      "\n",
      "----- Generating with seed:\n",
      "\"if n sysconfschostnamemax n ho\"\n",
      "\n",
      "if n sysconfschostnamemax n hoоворя обратил мне господу все сии от сего дня . и сказал господь моисею говоря скажи сынам израилевым и сказал не построил господь и построил все бога и обложил его в стене и на долине божие . и сказа \n",
      "\n",
      "----- Diversity: 0.6000000000000001\n",
      "\n",
      "----- Generating with seed:\n",
      "\"if n sysconfschostnamemax n ho\"\n",
      "\n",
      "if n sysconfschostnamemax n hoл царь всем народу царя сказав пришел такое сынам гадовым было в доме господнем и прочитали все возвратились к столам и побежал под правду пред ним . в этом случае все ожидается обработка сегмента раз \n",
      "\n",
      "----- Diversity: 0.8\n",
      "\n",
      "----- Generating with seed:\n",
      "\"if n sysconfschostnamemax n ho\"\n",
      "\n",
      "if n sysconfschostnamemax n hoделяемой памяти . но требуется выполнять более некоторые символы прерванные системные вызовы с командными оболочками . установить программу по этому процессу . получают дубликовое блокировки обычно не \n",
      "\n",
      "----- Diversity: 1.0\n",
      "\n",
      "----- Generating with seed:\n",
      "\"if n sysconfschostnamemax n ho\"\n",
      "\n",
      "if n sysconfschostnamemax n hoвозможно узнать любой из этих платформ . основное выше в листинге . в canonr напротив между иаромам в видел колесницы его праздниками его . читает и ai перезапускается автоматически сделается на стесн \n",
      "\n",
      "================================================================================\n",
      "\n"
     ]
    }
   ],
   "source": [
    "model = load_model(\"./models/char_bidirect.h5\")\n",
    "infer(model, window=30, mode=\"char\")"
   ]
  },
  {
   "cell_type": "code",
   "execution_count": 32,
   "metadata": {},
   "outputs": [
    {
     "name": "stdout",
     "output_type": "stream",
     "text": [
      "----- Diversity: 0.0\n",
      "\n",
      "----- Generating with seed:\n",
      "\"использование барьера include include include\"\n",
      "\n",
      "использование барьера include include include apue . и сказал господь моисею говоря объяви сынам израилевым и скажи им когда придете в землю ханаанскую в которую ты идешь чтоб овладеть ею . и сказал господь моисею говоря объяви сынам израилевым и скажи им когда придете в \n",
      "\n",
      "----- Diversity: 0.2\n",
      "\n",
      "----- Generating with seed:\n",
      "\"использование барьера include include include\"\n",
      "\n",
      "использование барьера include include include землю ханаанскую в которую ты идешь чтоб овладеть ею . и сказал господь моисею говоря скажи сынам израилевым если кто из сынов израилевых не введете в нее и не будешь пить . и сказал господь моисею говоря объяви сынам израилевым \n",
      "\n",
      "----- Diversity: 0.4\n",
      "\n",
      "----- Generating with seed:\n",
      "\"использование барьера include include include\"\n",
      "\n",
      "использование барьера include include include и скажи им когда придете в землю ханаанскую к иакову в землю ханаанскую и рассказали ему за то что ты не слушаешь гласа господа бога твоего и исполняй все заповеди его которые заповедую тебе сегодня . и сказал господь моисею \n",
      "\n",
      "----- Diversity: 0.6000000000000001\n",
      "\n",
      "----- Generating with seed:\n",
      "\"использование барьера include include include\"\n",
      "\n",
      "использование барьера include include include говоря объяви сынам израилевым и скажи им если вы согласны нам никогда не будем обсуждать системные вызовы как обычные функции языка c . например в форматах мрз ю используется альтернатива стандартной библиотеке вводавывода не намного медленнее чем прямое обращение к \n",
      "\n",
      "----- Diversity: 0.8\n",
      "\n",
      "----- Generating with seed:\n",
      "\"использование барьера include include include\"\n",
      "\n",
      "использование барьера include include include функциям read и write используемым в этом примере . если в этом случае аргумент pathname содержит одно имя файла . последующие функции позволяют указать структуры msghdr может храниться в промежуточном состоянии если окажется использовать поток в рамках единственного процесса и \n",
      "\n",
      "----- Diversity: 1.0\n",
      "\n",
      "----- Generating with seed:\n",
      "\"использование барьера include include include\"\n",
      "\n",
      "использование барьера include include include упрощает поддержку семантики потоков в соответствии со стандартом single unix specification как расширение xsi . c это число имеет значение не но если блокировка имеет дырки с флагом mapshared например на стеке . последовательность операций в файл производится с идентификатором \n",
      "\n",
      "================================================================================\n",
      "\n"
     ]
    }
   ],
   "source": [
    "model = load_model(\"./models/ce.h5\")\n",
    "infer(model, window=5, mode=\"words_ce\")"
   ]
  },
  {
   "cell_type": "code",
   "execution_count": 35,
   "metadata": {},
   "outputs": [
    {
     "name": "stdout",
     "output_type": "stream",
     "text": [
      "----- Diversity: 0.0\n",
      "\n",
      "----- Generating with seed:\n",
      "\"давайте рассмотрим два конкретных случая\"\n",
      "\n",
      "давайте рассмотрим два конкретных случая нн оно лепсо придите pcchownrestricted тестя неудачу оно vo оно лечь елдад щ оно vo нн некорректно онан vo постоянно иисус щ некорректно if сильнее struct сильнее vo нее иисус nй некорректно действительно елдад щ tsys hh нн постоянно мне \n",
      "\n",
      "----- Diversity: 0.2\n",
      "\n",
      "----- Generating with seed:\n",
      "\"давайте рассмотрим два конкретных случая\"\n",
      "\n",
      "давайте рассмотрим два конкретных случая иаир некорректно ситуации нее иаир ирад enqueuemsgstruct оставьте rif тест щ ю между щ credstruct жителям щ елдад нужным иевусеев удивительно щ херувимов некто poll некорректно my приходят ресурса египтяне struct извне from тестя iff тест аргумента досталось аморреев неявно \n",
      "\n",
      "----- Diversity: 0.4\n",
      "\n",
      "----- Generating with seed:\n",
      "\"давайте рассмотрим два конкретных случая\"\n",
      "\n",
      "давайте рассмотрим два конкретных случая иоав ipv ресурсы щ нетрудно иевусеев мудр controlb ситуаций щ интерпретацию юa нн приложениях немало flock if извне иеффаю поставьте commands произвели некто controlz некто ней приложений криптосистема вели iff ю ситуаций null if вне сад hh недостаточно ресурса гад \n",
      "\n",
      "----- Diversity: 0.6000000000000001\n",
      "\n",
      "----- Generating with seed:\n",
      "\"давайте рассмотрим два конкретных случая\"\n",
      "\n",
      "давайте рассмотрим два конкретных случая могут ащ ins они wif извне sar совершенно галаад интервале тема мьютексу лепсо sssp пост ед cfsetospeedstruct сколько юe ахав длj addjobstruct находиться ресурса очевидно длина сигналы бед нн url ед if тесно addjobstruct тестя мудр pn vo некорректно wif \n",
      "\n",
      "----- Diversity: 0.8\n",
      "\n",
      "----- Generating with seed:\n",
      "\"давайте рассмотрим два конкретных случая\"\n",
      "\n",
      "давайте рассмотрим два конкретных случая произвели недостаточно нееман бед ад детально controlq эффекта договориться сетка лепсо не wif тестю нее юe это ед pcchownrestricted жителям щ ащ нн мьютекс тысяче нужную vo пост controlt nй hashlock ед if истребите хеттеев невозможноn щ posixthreadsafe приложений ситуации \n",
      "\n",
      "----- Diversity: 1.0\n",
      "\n",
      "----- Generating with seed:\n",
      "\"давайте рассмотрим два конкретных случая\"\n",
      "\n",
      "давайте рассмотрим два конкретных случая желай ахав неожиданно недостаточно credstruct цари if тестю struct вино ирад неправильно ресурсу иисус некорректное енана интерпретаций я щ щ enqueuemsgstruct сильно cfsetispeedstruct извне мудр интерактивная это иаир некорректно некорректно действительное ад некорректно иашув интерактивная это vo и щ неявно \n",
      "\n",
      "================================================================================\n",
      "\n"
     ]
    }
   ],
   "source": [
    "model = load_model(\"./models/cos.h5\")\n",
    "infer(model, window=5, mode=\"words_cos\")"
   ]
  },
  {
   "cell_type": "code",
   "execution_count": 36,
   "metadata": {},
   "outputs": [
    {
     "name": "stdout",
     "output_type": "stream",
     "text": [
      "----- Diversity: 0.0\n",
      "\n",
      "----- Generating with seed:\n",
      "\"socket предопределенное имя се\"\n",
      "\n",
      "socket предопределенное имя семафора . и сказал господь моисею говоря возьми себе и поставил их и сказал им и сказал им и сказал им и сказал им и сказал им и сказал им и сказал им и сказал им и сказал им и сказал им и сказал им и  \n",
      "\n",
      "----- Diversity: 0.2\n",
      "\n",
      "----- Generating with seed:\n",
      "\"socket предопределенное имя се\"\n",
      "\n",
      "socket предопределенное имя сесказал им и сказал сыны израилевы сыны израилевы и сказали ему и он сказал им и послал и положил их и пошли с ним и сказал им на себе который вы поставили его и сказал вот и послал сын мой и сказал ем \n",
      "\n",
      "----- Diversity: 0.4\n",
      "\n",
      "----- Generating with seed:\n",
      "\"socket предопределенное имя се\"\n",
      "\n",
      "socket предопределенное имя сеу господь вознесет в нем и послал и возвратился и все земли вашей в который возьми в сердце его . например программа поддерживает файл поддерживаются в случае успеха в случае ошибки int flag . в проце \n",
      "\n",
      "----- Diversity: 0.6000000000000001\n",
      "\n",
      "----- Generating with seed:\n",
      "\"socket предопределенное имя се\"\n",
      "\n",
      "socket предопределенное имя сессе например при проверке целочисленных сигналов порядок данных устанавливаются доступными следующими процессами и создаваемыми файлами и потомок поддерживает сообщение и проверять наши полностью соде \n",
      "\n",
      "----- Diversity: 0.8\n",
      "\n",
      "----- Generating with seed:\n",
      "\"socket предопределенное имя се\"\n",
      "\n",
      "socket предопределенное имя сержит овременном процессом . эти другие потоки можно затем адрес содержит одному дескриптору символа командной оболочки должен создать команду . рекуасия сын манассии сына их мамиха и серебро . это про \n",
      "\n",
      "----- Diversity: 1.0\n",
      "\n",
      "----- Generating with seed:\n",
      "\"socket предопределенное имя се\"\n",
      "\n",
      "socket предопределенное имя сечитать данный алгоритм допускает небер переходящаесь паска исколения цари во руки его и камнями сыновьями своими я оставил тебе овражение . второй поток она safoy родительского процесса не личие проце \n",
      "\n",
      "================================================================================\n",
      "\n"
     ]
    }
   ],
   "source": [
    "model = load_model(\"./models/char_lstm_under.h5\")\n",
    "infer(model, window=30, mode=\"char\")"
   ]
  },
  {
   "cell_type": "code",
   "execution_count": 37,
   "metadata": {},
   "outputs": [
    {
     "name": "stdout",
     "output_type": "stream",
     "text": [
      "----- Diversity: 0.0\n",
      "\n",
      "----- Generating with seed:\n",
      "\"за описанием структур в system\"\n",
      "\n",
      "за описанием структур в system . и сказал ему сын израилевы и поставил их и сказал ему и сказал господь бог твой . и сказал ему и сказал господь бог твой . и сказал ему и сказал господь бог твой . и сказал ему и сказал господь бог \n",
      "\n",
      "----- Diversity: 0.2\n",
      "\n",
      "----- Generating with seed:\n",
      "\"за описанием структур в system\"\n",
      "\n",
      "за описанием структур в system твой . и сказал ему исполняет и сказал ему в семь старом и сказал ему и на семь своем . и сказал ему семь свое свое при не создавал их . и возвратился в стана и пошли и сказал господь бог твой и сказ \n",
      "\n",
      "----- Diversity: 0.4\n",
      "\n",
      "----- Generating with seed:\n",
      "\"за описанием структур в system\"\n",
      "\n",
      "за описанием структур в systemал господь бог твой . и положил собрание все дня вам есть возвращает из сигнала sigset и sigalrm из системы на реального времени запускаемого процесса . и сказал господь моисею своему . и пришли сыны  \n",
      "\n",
      "----- Diversity: 0.6000000000000001\n",
      "\n",
      "----- Generating with seed:\n",
      "\"за описанием структур в system\"\n",
      "\n",
      "за описанием структур в systemизраилевы завет вы все колена ваших и либины и доставляет символом с каждый или обработки стандартного ввода в переменную с должно использовать соответствующий констант . он он в поключения поиск . и  \n",
      "\n",
      "----- Diversity: 0.8\n",
      "\n",
      "----- Generating with seed:\n",
      "\"за описанием структур в system\"\n",
      "\n",
      "за описанием структур в systemпоразил агарь и велое народ всех делось но большой разкве они безо палями . истуакли душа твоего открыли стала тем . функция вызывается программа представляют семейству и некоторые вызова struct sigin \n",
      "\n",
      "----- Diversity: 1.0\n",
      "\n",
      "----- Generating with seed:\n",
      "\"за описанием структур в system\"\n",
      "\n",
      "за описанием структур в systemt int semattystminstamax struct satclock . и и десятно мьютекса со двух за ним сигнал с умерствителейством которой тро твоего падственно илить и предвое коловения с пледениями завессоточку . в програм \n",
      "\n",
      "================================================================================\n",
      "\n"
     ]
    }
   ],
   "source": [
    "model = load_model(\"./models/char_bidirect_under.h5\")\n",
    "infer(model, window=30, mode=\"char\")"
   ]
  },
  {
   "cell_type": "markdown",
   "metadata": {},
   "source": [
    "По этим результатам мне кажется лучше всего выбрать темепературу 0.4-0.6 и underfit модели на символах."
   ]
  },
  {
   "cell_type": "markdown",
   "metadata": {},
   "source": [
    "Функция, возвращающая сгенерированную моделью последовательность по входной последовательности:"
   ]
  },
  {
   "cell_type": "code",
   "execution_count": 30,
   "metadata": {},
   "outputs": [],
   "source": [
    "def sample_sentences(model, sentence=None, mode=\"char\", window=30, diversity=0.3, seq_len=200):\n",
    "    '''\n",
    "    Returns sequences of length seq_len for each diversity\n",
    "    mode: {\"char\", \"words_ce\", \"words_cos\"}\n",
    "    '''\n",
    "    vocab = alphabet if mode == \"char\" else words\n",
    "    \n",
    "    if sentence is None:\n",
    "        sentence = np.random.choice(np.concatenate([code_test, testament_test]), 1)[0]\n",
    "    if mode == \"char\":\n",
    "        sentence = \" \".join(sentence)\n",
    "        sentence = sentence[:window]\n",
    "        start = [np.zeros_like(char_idx[\".\"]).tolist()] * (window - len(sentence))\n",
    "        start.extend([char_idx[ch] for ch in sentence])\n",
    "    elif mode == \"words_cos\" or \"words_ce\":\n",
    "#         sentence = [w for s in sentence for w in s][:window]\n",
    "        start = [np.zeros_like(fast_text_model.wv[\".\"])] * (window - len(sentence))\n",
    "        start.extend([fast_text_model.wv[w] for w in sentence])\n",
    "    \n",
    "    res = '' if mode == \"char\" else []\n",
    "    if seq_len is 200:\n",
    "        seq_len = 200 if mode == \"char\" else 40\n",
    "    for i in range(seq_len):\n",
    "\n",
    "        preds = model.predict(np.array(start)[None, :, :], verbose=0)[0]\n",
    "\n",
    "        # sample next word\n",
    "        if mode == \"char\" or mode == \"words_ce\":\n",
    "            next_index = sample(preds, diversity)\n",
    "            next_word = vocab[next_index]\n",
    "        elif mode == \"words_cos\":\n",
    "            top_similar, probas = list(zip(*fast_text_model.wv.most_similar([preds])))\n",
    "            next_word = top_similar[sample(probas, diversity)]\n",
    "\n",
    "        # add next word to queue\n",
    "        start = start[1:]\n",
    "        if mode == \"char\":\n",
    "            start.append(char_idx[next_word])\n",
    "        elif mode == \"words_ce\" or mode == \"words_cos\":\n",
    "            start.append(fast_text_model.wv[next_word])\n",
    "\n",
    "        # add next word to result\n",
    "        if mode == \"char\":\n",
    "            res += next_word\n",
    "        else:\n",
    "            res.append(next_word)\n",
    "    print(pformat(sentence + res))"
   ]
  },
  {
   "cell_type": "markdown",
   "metadata": {},
   "source": [
    "Выберем несколько предложений из теста в качестве сидов."
   ]
  },
  {
   "cell_type": "code",
   "execution_count": 42,
   "metadata": {},
   "outputs": [],
   "source": [
    "code_s = np.random.choice(np.concatenate([code_test]), 5)\n",
    "testament_s = np.random.choice(np.concatenate([testament_test]), 5)"
   ]
  },
  {
   "cell_type": "code",
   "execution_count": 43,
   "metadata": {},
   "outputs": [
    {
     "name": "stdout",
     "output_type": "stream",
     "text": [
      "['целью', 'этих', 'руководств', 'было', 'повышение', 'переносимости', 'прикладных', 'программ', 'которое', 'стало', 'возможным', 'благодаря', 'простому', 'следованию', 'опубликованным', 'стандартам', '.'] ['в', 'противном', 'случае', 'мы', 'изменяем', 'реальный', 'и', 'эффективный', 'идентификаторы', 'вызовом', 'функций', 'setgid', 'и', 'setuid', '.'] ['h', 'pidt', 'tcgetsidint', 'fd', '.'] ['предыстория', 'одной', 'из', 'популярных', 'библиотек', 'функций', 'для', 'работы', 'с', 'базами', 'данных', 'в', 'unix', 'является', 'библиотека', 'dbm', '.'] ['однако', 'файл', 'должен', 'существовать', 'если', 'другой', 'процесс', 'смог', 'установить', 'на', 'него', 'блокировку', '.']\n",
      "\n",
      "['он', 'злословил', 'меня', 'тяжким', 'злословием', 'когда', 'я', 'шел', 'в', 'маханаим', '.'] ['мы', 'умертвим', 'их', 'и', 'искореним', 'зло', 'из', 'израиля', '.'] ['хотя', 'бы', 'до', 'полуцарства', 'она', 'будет', 'исполнена', '.'] ['аврам', 'послушался', 'слов', 'сары', '.'] ['иосиф', 'подвел', 'их', 'к', 'нему', 'и', 'он', 'поцеловал', 'их', 'и', 'обнял', 'их', '.']\n"
     ]
    }
   ],
   "source": [
    "print(*code_s)\n",
    "print()\n",
    "print(*testament_s)"
   ]
  },
  {
   "cell_type": "code",
   "execution_count": 31,
   "metadata": {},
   "outputs": [],
   "source": [
    "test_s = [\n",
    "    ['но', 'мы', 'будем', 'исходить', 'из', 'предположения', 'что', 'вызывающий', 'процесс', \n",
    "     'просто', 'не', 'пожелал', 'сбрасывать', 'содержимое', 'буферов', '.'],\n",
    "    ['выполнение', 'программ', 'командной', 'оболочкой', '.'],\n",
    "    ['целью', 'этих', 'руководств', 'было', 'повышение', 'переносимости', 'прикладных', 'программ', \n",
    "     'которое', 'стало', 'возможным', 'благодаря', 'простому', 'следованию', 'опубликованным', 'стандартам', '.'],\n",
    "    ['однако', 'файл', 'должен', 'существовать', 'если', 'другой', 'процесс', 'смог', 'установить', 'на', 'него', 'блокировку', '.'],\n",
    "    \n",
    "    ['не', 'ешь', 'с', 'нею', 'квасного', '.'],\n",
    "    ['но', 'я', 'отрок', 'малый', 'не', 'знаю', 'ни', 'моего', 'выхода', 'ни', 'входа', '.'],\n",
    "    ['в', 'шестой', 'же', 'день', 'собрали', 'хлеба', 'вдвое', 'по', 'два', 'гомора', 'на', 'каждого', '.'],\n",
    "    ['он', 'злословил', 'меня', 'тяжким', 'злословием', 'когда', 'я', 'шел', 'в', 'маханаим', '.']\n",
    "]"
   ]
  },
  {
   "cell_type": "code",
   "execution_count": 59,
   "metadata": {},
   "outputs": [
    {
     "name": "stdout",
     "output_type": "stream",
     "text": [
      "T=0.4\n",
      "но мы будем исходить из состояния может получить переменную от дочернего процесса . и возвратился и сказал господь бог твой . после вызова функции read в последнем случае не получает поддержку последнего изменения процесса \n",
      "T=0.6\n",
      "но мы будем исходить из нового дочерей согрешили три против сие . и пришел иудей говорил ему и сказал по себе и все возможности и в момент командной оболочки . если же поставил его из народа который вы был о рукою своем с н\n",
      "\n",
      "T=0.4\n",
      "выполнение программ командной оболочки . h int pthreadrwlocktrlecpthreadbarrierattrt devtid . например вызывает поток при программе из листинга . и поставил господь поставил себе и послал его и все израильтяне в сердце своем и ск\n",
      "T=0.6\n",
      "выполнение программ командной оболочки которые приложения обычно обработать файл создаются самым приостановким передача такого случая и поддерживается это последние дескрипторы процесса . когда мы можем открыть пример открытия фа\n",
      "\n",
      "T=0.4\n",
      "целью этих руководств было создана поток и обработчик сигнала процесс обеспечивает сообщение об ошибке . сигналы при создании файла соответствующий процесс . после вызова функции open после вызова функции wait . в качестве фай\n",
      "T=0.6\n",
      "целью этих руководств было процессор получит дескриптор строки маска сигналов передается некоторые системы в аргументе system записывается сигнал sigcanched . для этого в конец файла и оказывается с дескриптором которые вызыва\n",
      "\n",
      "T=0.4\n",
      "однако файл должен производить процесс . и возвратился из него . после того как вы сможете получить в случае успеха в случае ошибки int char ptr . поскольку объем поддержки сообщения . и сказал ему был и он сказал авим\n",
      "T=0.6\n",
      "однако файл должен определить его задание передается в данной каталоге . в измените следующий процесс изменился в процессе для последнего вызова функции pthreadmutexinitpthreadcondtimedtype ofdtroint fd . стандартное в\n",
      "\n",
      "T=0.4\n",
      "не ешь с нею квасного . и когда он сказал вот я на землю и поставил меня и сыны израилевы бога израилевы . и сказал господь моисею говоря давид сын твой . и сказал саул моисею говоря на восток и возвратился и сказал во все \n",
      "T=0.6\n",
      "не ешь с нею квасного . и сказал а возьми варианту сыну его . обе возвращают в случае успеха код ошибки в случае неудачи функция getsize с помощью функции sigear . для данного устройства будет должен вызывать функцию setjmp\n",
      "\n",
      "T=0.4\n",
      "но я отрок малый не знаю ни на земле . в случае успеха в случае ошибки int clocknamestruct setvoid . структура printf при получении сигнала sigquit с помощью функции clock и set . и все израильтяне послал саул по всему пороку и\n",
      "T=0.6\n",
      "но я отрок малый не знаю ни исполнять тебя . и поставил господь и наконец из себе слова приношения его . и сказал господь моисею приставлен что было станется на ресурсу при вызове функции signal не записывает значение полностью\n",
      "\n",
      "T=0.4\n",
      "в шестой же день собрали хлеба . это вызывает функцию fork . и сказал ему господь говоря был старейшины и составил их и отвечал им на всех израильтян . и возьми себе по семействам их . h для работы с версиями сигнала sigint и sigi\n",
      "T=0.6\n",
      "в шестой же день собрали хлеба своего истребления их . и приходили им сынов израилевых по стене . возвращает в случае успеха код ошибки в случае неудачи int pthreadcondrestricterhore struct timespec sigint int readvoid const struc\n",
      "\n",
      "T=0.4\n",
      "он злословил меня тяжким свойме . и послал вас к иорама и сказал господь моисею и проделал меня . например выполняется значение последовательности представления нескольких процессов и последнего потока выполнения при создани\n",
      "T=0.6\n",
      "он злословил меня тяжким неправдую с тебя . и сказал ему размер невостоние священников бога всех на старейшины его и поставил их делей . в состоянии стандарт single unix specification после того как распространяется приложен\n",
      "\n"
     ]
    }
   ],
   "source": [
    "model = load_model(\"./models/char_lstm_under.h5\")\n",
    "for s in test_s:\n",
    "    sent = []\n",
    "    i = 0\n",
    "    while len(\" \".join(sent + [s[i]])) <= 30:\n",
    "        sent.append(s[i])\n",
    "        i += 1\n",
    "        if i == len(s):\n",
    "            break\n",
    "    print(f\"T=0.4\")\n",
    "    sample_sentences(model, sentence=sent, mode=\"char\", window=30, diversity=0.4)\n",
    "    print(f\"T=0.6\")\n",
    "    sample_sentences(model, sentence=sent, mode=\"char\", window=30, diversity=0.6)\n",
    "    print()"
   ]
  },
  {
   "cell_type": "code",
   "execution_count": 60,
   "metadata": {},
   "outputs": [
    {
     "name": "stdout",
     "output_type": "stream",
     "text": [
      "T=0.4\n",
      "но мы будем исходить из сигнала sigconf . и сказал ему вот становил господь бог твой и на после во все семь дней на него и сказал им не положил что бог твой . и сказал ему по отца моего и сказал господь бог твой он будет от\n",
      "T=0.6\n",
      "но мы будем исходить из пользователя . h с . возвращает в случае успеха код ошибки в случае успеха в случае ошибки int sigintint signo . реальный сигнал sigint или exec в этой сигналось над сигналом и не обработки поддержив\n",
      "\n",
      "T=0.4\n",
      "выполнение программ командной строки . функция poll выполняет передачи процесса . и послал господь моисею сказали им земля так тебе . при вызове функции signal и sigalrm . в случае успеха в случае ошибки int fd struct otemax stru\n",
      "T=0.6\n",
      "выполнение программ командной оболочки . такое использование одну как глава так против пророков и стана . в качестве пользователя в системе . тогда бог он все пред ним пользовательскому для над строки на рис . h с . возвращает в \n",
      "\n",
      "T=0.4\n",
      "целью этих руководств было соответствующим и поддерживает представляет сигнал sigterm . и вышел свое тельцов и дела тебя . в операции по умолчанию в очередь сигнала процесс . и сказал ему станы и будет на на семьдесят и послал\n",
      "T=0.6\n",
      "целью этих руководств было очереди . и сказал самуил и ты сделал к тебе в бликове города того продолжит меня все пред руки твоему . и сказал господь моисею того что не создавал на у них . настивый требуется процесс необходимо \n",
      "\n",
      "T=0.4\n",
      "однако файл должен по отличному и от себя тебя и возвратился и сказал господь бог твой . и простил их в израиле и послал господь бог твоему . и пришли к из при надерного с дочерним процессами . и сказал господь моисею \n",
      "T=0.6\n",
      "однако файл должен запускать связанные с помощью функции read и struct statemax . однако размер доступных константы в наборе стандарта sisgle unix specification не владельца программы . и возвратил авессалом моей своей\n",
      "\n",
      "T=0.4\n",
      "не ешь с нею квасного . и поступил и в потом своем и он не получил в семь своем . при от устав две прочита стандарта posix . и пришел народ и послал их и должны и положить и сказала а семь становит . при относительно сигнал\n",
      "T=0.6\n",
      "не ешь с нею квасного . запрошено по открытой поток . и сказал им вот дом нас весь . чтобы сомьются к наставлением . и они возвращает начальник работы конца и файла потока сообщений процесс программой расширение процесса на\n",
      "\n",
      "T=0.4\n",
      "но я отрок малый не знаю ни в так в последних при всех системах в начало сигнала sigchld с необходимо запись в программе . и сказал господь моисею и вот сказал им вот со делениями и старось и составили его . и сказал господь мо\n",
      "T=0.6\n",
      "но я отрок малый не знаю ни они постоял на него на они города и станется со семь лет . он показал аман по подоле тебя . представляет что в соответствии с семействами строки . возможные программы в семафором . и послал самуил в \n",
      "\n",
      "T=0.4\n",
      "в шестой же день собрали хлеба и ставь и сказал ему господь бог твой он он приставляет в дом господа . и пришел их в источной строке и стандартной вывод с вывода с помощью функции dbfind . когда он сказал ему сигнал дава в отца св\n",
      "T=0.6\n",
      "в шестой же день собрали хлеба от байта . а вина когда поразил как тебя . и содержит нему стандартный вывод . и сказал господь бог если сказал мы умертву все в полных . и сказали он ровет с отцами своими и управляющим у сего безоп\n",
      "\n",
      "T=0.4\n",
      "он злословил меня тяжким в том что сильный и не возвращает на меня и по него можно использовать размер для . и послал иоав сынов израилевых и пойди в семь все . в случае успеха в случае ошибки int struct sigsetint signal sig\n",
      "T=0.6\n",
      "он злословил меня тяжким тебе . и в руки своем соответствующим принтеру и системные вызовы поддерживается процесса в поле putam в случае успеха в случае ошибки int sempathmax sizet fork . возвращает количество соответствующи\n",
      "\n"
     ]
    }
   ],
   "source": [
    "model = load_model(\"./models/char_bidirect_under.h5\")\n",
    "for s in test_s:\n",
    "    sent = []\n",
    "    i = 0\n",
    "    while len(\" \".join(sent + [s[i]])) <= 30:\n",
    "        sent.append(s[i])\n",
    "        i += 1\n",
    "        if i == len(s):\n",
    "            break\n",
    "    print(f\"T=0.4\")\n",
    "    sample_sentences(model, sentence=sent, mode=\"char\", window=30, diversity=0.4)\n",
    "    print(f\"T=0.6\")\n",
    "    sample_sentences(model, sentence=sent, mode=\"char\", window=30, diversity=0.6)\n",
    "    print()"
   ]
  },
  {
   "cell_type": "code",
   "execution_count": 76,
   "metadata": {},
   "outputs": [
    {
     "name": "stderr",
     "output_type": "stream",
     "text": [
      "W1014 12:23:18.147620 139816734705472 hdf5_format.py:221] No training configuration found in save file: the model was *not* compiled. Compile it manually.\n"
     ]
    },
    {
     "name": "stdout",
     "output_type": "stream",
     "text": [
      "T=0.4\n",
      "но мы будем исходить из предположения что дочерний процесс может получить код завершения которого возвращается функцией waitpid благодаря чему его можно получить повторно . и сказал господь моисею говоря объяви сынам израилевым и скажи им если кто сделает преступление то будет ему и он не\n",
      "T=0.6\n",
      "но мы будем исходить из предположения что время работы алгоритма сохраняется в наихудшем случае . и сказал господь моисею говоря объяви аарону и сказал им если кто из дома израилева или из пришельцев присоединившихся к скинии собрания и пред господом богом вашим и веселитесь как\n",
      "\n",
      "T=0.4\n",
      "выполнение программ командной оболочкой . и сказал господь моисею говоря объяви сынам израилевым и скажи им когда перейдете в землю которую господь бог твой дает тебе в удел . и сказал господь моисею говоря объяви сынам израилевым и скажи им когда придете в землю ханаанскую\n",
      "T=0.6\n",
      "выполнение программ командной оболочкой . и сказал царь израильский иосафату не говорил ли он тебе . как уже говорилось выше в этой главе . мы воспользовались поддержкой регулярных выражений в языке командной оболочки чтобы сократить объем вводимого с клавиатуры текста . а что случится если\n",
      "\n",
      "T=0.4\n",
      "целью этих руководств было повышение переносимости прикладных программ в листинге . и сказал ему господь иди в земле твоей которую ты дал отцам их . и сказал господь моисею говоря объяви сынам израилевым и скажи им если изменит его солнце в структуре job и передает\n",
      "T=0.6\n",
      "целью этих руководств было повышение переносимости прикладных программ в листинге . и когда они съели и стали станом в сонаме . и приносили жертвы господу в жертву господу тук покрывающий внутренности и весь тук который на внутренностях и сальник его и весь народ его и\n",
      "\n",
      "T=0.4\n",
      "однако файл должен существовать если они не определены в заголовочном файле limits . и сказал господь моисею говоря объяви сынам израилевым и скажи им когда вы войдете с нами из добычи как и я пойду в землю которую господь бог твой дает тебе в удел\n",
      "T=0.6\n",
      "однако файл должен существовать если с помощью функции tcsetattr можно изменить размер файла с помощью функции lseek можно изменить время последнего изменения файла . если в этом аргументе передается null система инициализирует структуру termios ведомого устройства и сетевое соединение с сервером вызывая функцию cliconn листинг\n",
      "\n",
      "T=0.4\n",
      "не ешь с нею квасного . и сказал господь моисею говоря объяви сынам израилевым и скажи им когда войдете в землю ханаанскую и сказали ему откуда гиезий архитянин сына генувата сына магахати елиам был шевуил и родил евера . и сказал господь моисею говоря скажи\n",
      "T=0.6\n",
      "не ешь с нею квасного . if err pthreadsigmasksigblock mask null . ю . в этом случае все данные оставшиеся в буферах вводавывода будут утеряны . h с . возвращает количество прочитанных байтов . и он возвеличился и пошел . это означает что демон не\n",
      "\n",
      "T=0.4\n",
      "но я отрок малый не могу говорить . и сказал господь моисею говоря объяви аарону и скажи им когда вы войдете . и сказал самуил повару подай мне и сказал что ты не видишь что я сделал египтянам . и сказал господь моисею говоря объяви\n",
      "T=0.6\n",
      "но я отрок малый не могу говорить и не убоюсь . и solaris реализуют функцию sleep на основе функции nanosleep устраняющей зависимость от сигналов . если в аргументе times передается пустой указатель и поле tvnsec в обеих структурах имеет значение отличное от utimenow и utimeomit\n",
      "\n",
      "T=0.4\n",
      "в шестой же день собрали в дом господень и развернул его и сказал им вот запах в земле египетской с фараоном и всеми рабами его и всею землею его . в этом случае мы говорим что сигнал посылается процессу . и сказал господь моисею говоря\n",
      "T=0.6\n",
      "в шестой же день собрали сыны израилевы на равнинах моавитских на горе ефремовой и сошли с ним и утешали его и отсекли его и сказали ему покажи нам что ты будешь говорить . когда генерируется программа мы получаем только один поток . и сказал господь\n",
      "\n",
      "T=0.4\n",
      "он злословил меня тяжким злословием и я буду говорить . и сказал господь моисею говоря объяви аарону и сынам его и всем сынам израилевым и скажи им когда придете в землю ханаанскую и рассказали ему определение и было в славе с ним . и сказал\n",
      "T=0.6\n",
      "он злословил меня тяжким злословием отца твоего . в этой книге мы описываем версию функции signal на основе sigaction . h static void sigusrint . он должен сжечь которую мы сохраняем в этой структуре поэтому мы рассмотрим в разделе . если кто согрешит и будет\n",
      "\n"
     ]
    }
   ],
   "source": [
    "model = load_model(\"./models/cenoopt.h5\")\n",
    "for s in test_s:\n",
    "    sent = []\n",
    "    i = 0\n",
    "    while len(sent + [s[i]]) <= 5:\n",
    "        sent.append(s[i])\n",
    "        i += 1\n",
    "        if i == len(s):\n",
    "            break\n",
    "    print(f\"T=0.4\")\n",
    "    sample_sentences(model, sentence=sent, mode=\"words_ce\", window=5, diversity=0.4)\n",
    "    print(f\"T=0.6\")\n",
    "    sample_sentences(model, sentence=sent, mode=\"words_ce\", window=5, diversity=0.6)\n",
    "    print()"
   ]
  },
  {
   "cell_type": "code",
   "execution_count": 33,
   "metadata": {},
   "outputs": [
    {
     "name": "stderr",
     "output_type": "stream",
     "text": [
      "W1014 12:25:42.793393 139645890901824 hdf5_format.py:221] No training configuration found in save file: the model was *not* compiled. Compile it manually.\n"
     ]
    },
    {
     "name": "stdout",
     "output_type": "stream",
     "text": [
      "T=0.4\n",
      "но мы будем исходить из мудр if боли елдад некорректно мудр возможные ад struct сильнее vo тест ресурсу неожиданно ед vo hh тесно afinet юe оставьте vo желай юa функ вне ситуаций ситуаций pcchownrestricted свиньи агари controlz вне мудр credstruct сильно онито нетрудно интерактивная савхеянин\n",
      "T=0.6\n",
      "но мы будем исходить из ахав щ posixmemlock нищему ад тестю елцафан необходимую юe юх интернета оно ханун ахав nрсложность ащ некорректно нетрудно доступные щ from if сильнее израилю елдад удивительно с ck некорректная нн iff тестю ахав dz повез bp ifdef немало мьютексы иуды\n",
      "\n",
      "T=0.4\n"
     ]
    },
    {
     "name": "stderr",
     "output_type": "stream",
     "text": [
      "/usr/local/lib/python3.6/dist-packages/ipykernel_launcher.py:3: RuntimeWarning: invalid value encountered in log\n",
      "  This is separate from the ipykernel package so we can avoid doing imports until\n"
     ]
    },
    {
     "name": "stdout",
     "output_type": "stream",
     "text": [
      "выполнение программ командной оболочкой . щ нн ситуация иафиа мух юe ситуаций иашув нужным vol вне vo тестю ирад юe приложение ииуй неправильно termio я он nй cmsgfirsthdrstruct произвели rif сильнее funcx людей if боли ифамар елдад о funcx какой sssp ситуаций ирад if боли\n",
      "T=0.6\n",
      "выполнение программ командной оболочкой . щ нн интерактивная vo жертва vo закололи флаг hh вино неатомарно нетрудно хеттеев интернете очевидно эпохи не controla вино режим кто десять мы пятьдесят rlimitnpts некорректно commands делаться credstruct жителям царь ipc явно cmsgfirsthdrstruct извне cfsetospeedstruct сильнее ifs тест нечто\n",
      "\n",
      "T=0.4\n",
      "целью этих руководств было повышение ахав tsys нн rif тестя дафан типа извне я bar if извне ед ханун фактическую щ ситуаций лепсо к if тестя ахио извне щ позволят щ interface возьмем logsysневозможно иоав щ ед интерактивная if нежели ед russian извне тип я\n",
      "T=0.6\n",
      "целью этих руководств было повышение елцафан spwarn ахав bp немало позволяющая гергесеев ную сад cfsetospeed rif неявно мух sssp тестю неатомарно неатомарно voidn тестю tmpfile елдад окно щ сил царь controls кувы щ api немало ирад нее logretневозможно иисус errretневозможно voidn тестя я iff произвели\n",
      "\n",
      "T=0.4\n",
      "однако файл должен существовать если бед юe иисус интерпретация действительно немало продали ахав ограниченная нн функционирование елдад . с russian произвели controlq сильно он оно лепсо иаир sssp vol неправедно errretневозможно vol извне rif детям iutf неявно действительно нетрудно того эпохи это ирад некорректно оно\n",
      "T=0.6\n",
      "однако файл должен существовать если мудр complex чтобы щ int вне иоав posixmemlock к мудр typedef тестю ирад интервале кеиль детям юe достаточно ежегодно if вне сад ед лепсо некорректная мьютексу сигналам жителей мудр действительно савхеянин интервалы енана недостаточно myfile щ заколите недостаток сын мысль\n",
      "\n",
      "T=0.4\n",
      "не ешь с нею квасного tmpfile pollstruct вино controls круг муж неатомарно wif тестю функционирование бед хананеев некорректная vdisable иисус невозможноn hh юe зихри не лепсо controlz ед щ приложений освящены оно ахав оно ситуацию rlimitcore онан пять addjobstruct вне нн if тестю мудр if\n",
      "T=0.6\n",
      "не ешь с нею квасного controlq cmsgdatastruct извне мысль jobremovestruct детям ащ оно иеус enqueuemsgstruct тесно iff сильнее оно ситуации гергесеев позволяющее ащ иашув pwexpire действительно иаир произнесут pthreadjoin df оно евеев щ мудр лично мьютекса хеттеев некорректно сильно бед if совете listrestrict извне if\n",
      "\n",
      "T=0.4\n",
      "но я отрок малый не юe неявно jobfindstruct вне ахав ые аврааму действительно hh rif нетрудно interprocess endpwent ситуаций немало иоав циклическую vo тех немало иаир credstruct тесно iff тех неявно vo нн боли null иввы постоянно ащ нетрудно control df чрез struct сильно иаир\n",
      "T=0.6\n",
      "но я отрок малый не nй некорректно fooholdstruct кесиль rif сильнее оно iff людей controlc евеев юe некорректно гарантируется максималь pollin елдад сильнее некорректная евеев некорректно реентерабельная изменению есфирь этому бед sssp некто действительно с айя немало интервалы хеттеянин неожиданно щ ед нн typedef ахав\n",
      "\n",
      "T=0.4\n",
      "в шестой же день собрали atsymlink неожиданная мудр addjobstruct тестя действительно он struct вино vo нежели nй russian никакой чьи детям некорректно функцио нн complong тестю кесиль юe оно zeromask алгоритм чьи ед елдад bar осталось иоав pwexpire неожиданно нетрудно это иашув елдад щ ситуаций\n",
      "T=0.6\n",
      "в шестой же день собрали logretневозможно щ russian жертвенников cat сильно ащ цари неявно тысяча enter демонам я vol struct сильнее credstruct тестю действительное оно елдад гергесеев невозможноn vo произвольно vol делаться ад оставьте lucent еще pthreadsetspecific действительно кто fooholdstruct онам тема хирамовы ключ интерпретацию\n",
      "\n",
      "T=0.4\n",
      "он злословил меня тяжким злословием типы ирад ед интерпретация елдад интернета мужу cfsetospeedstruct очевидно адресов не елдад wожете елдад vo у мы russian и rl неатомарно ахав позволяя хеттеев явно addjobstruct вне struct тестя еман ситуаций бед мудр результата действительно восемнадцать рс службам ежегодно тема\n",
      "T=0.6\n",
      "он злословил меня тяжким злословием тип vo евеев невозможным крепко неза flockfile jobremovestruct тестю неявно мым евеев рекурсивная недостаточно else наше хеттеев некорректно функци тестя bsdсигнала тест voidn тест date функциях сильнее posixshell сильно ахио внятно гергесеев необходимо ю некорректно bp приложениями клиентов незапертого vol\n",
      "\n"
     ]
    }
   ],
   "source": [
    "model = load_model(\"./models/cosnoopt.h5\")\n",
    "for s in test_s:\n",
    "    sent = []\n",
    "    i = 0\n",
    "    while len(sent + [s[i]]) <= 5:\n",
    "        sent.append(s[i])\n",
    "        i += 1\n",
    "        if i == len(s):\n",
    "            break\n",
    "    print(f\"T=0.4\")\n",
    "    sample_sentences(model, sentence=sent, mode=\"words_cos\", window=5, diversity=0.4)\n",
    "    print(f\"T=0.6\")\n",
    "    sample_sentences(model, sentence=sent, mode=\"words_cos\", window=5, diversity=0.6)\n",
    "    print()"
   ]
  },
  {
   "cell_type": "code",
   "execution_count": 68,
   "metadata": {},
   "outputs": [
    {
     "name": "stdout",
     "output_type": "stream",
     "text": [
      "придумал бог алгоритм а они посвятил господь соединение и не определены на серверных случая . когда работает от меня в поля struct passwd fd . вызов функции system остановить возможность вернуться в данной потоке . обокнавальн\n"
     ]
    }
   ],
   "source": [
    "model = load_model(\"./models/char_lstm_under.h5\")\n",
    "sample_sentences(model, sentence=\"придумал бог алгоритм а он\".split(), mode=\"char\", window=30, diversity=0.6)"
   ]
  },
  {
   "cell_type": "code",
   "execution_count": 77,
   "metadata": {},
   "outputs": [
    {
     "name": "stdout",
     "output_type": "stream",
     "text": [
      "придумал бог алгоритм а он принесет в египет . и послал им и возвратился сын его по стражу и простирал раба моего в семьдесят первых вершины . и сказал господь моисею говоря он поставил его . и сказал господь моисею говоря пос\n"
     ]
    }
   ],
   "source": [
    "sample_sentences(model, sentence=\"придумал бог алгоритм а он\".split(), mode=\"char\", window=30, diversity=0.4)"
   ]
  },
  {
   "cell_type": "code",
   "execution_count": 71,
   "metadata": {},
   "outputs": [
    {
     "name": "stdout",
     "output_type": "stream",
     "text": [
      "значение аргумента control вызывает read которая управляют левиты с тебя чтобы аарон и иерусалим в пустыне до разного пред себе . и сказал господь моисею вот я повелел ему и сыновья своего против бить и возврати службу\n"
     ]
    }
   ],
   "source": [
    "sample_sentences(model, sentence=\"значение аргумента\".split(), mode=\"char\", window=30, diversity=0.6)"
   ]
  },
  {
   "cell_type": "code",
   "execution_count": 74,
   "metadata": {},
   "outputs": [
    {
     "name": "stdout",
     "output_type": "stream",
     "text": [
      "если исходный текст . и отдал господь моисею с всех городах и стал был иерусалима и приносите их и сказал аарону и ты нам у своего одного на дом свой . и дай тебе стояли который принесли народ твой из дома их да это был\n"
     ]
    }
   ],
   "source": [
    "sample_sentences(model, sentence=\"если исходный текст\".split(), mode=\"char\", window=30, diversity=0.6)"
   ]
  },
  {
   "cell_type": "code",
   "execution_count": 67,
   "metadata": {},
   "outputs": [
    {
     "name": "stdout",
     "output_type": "stream",
     "text": [
      "вызов функции setprintf а управляющий терминал является одной при процессе из системы которые можно изменить оба только в структуре функции wait . тогда сказал такого господь сделал и было дело его и не повелел ем\n"
     ]
    }
   ],
   "source": [
    "sample_sentences(model, sentence=\"вызов функции\".split(), mode=\"char\", window=30, diversity=0.6)"
   ]
  }
 ],
 "metadata": {
  "kernelspec": {
   "display_name": "Python 3",
   "language": "python",
   "name": "python3"
  },
  "language_info": {
   "codemirror_mode": {
    "name": "ipython",
    "version": 3
   },
   "file_extension": ".py",
   "mimetype": "text/x-python",
   "name": "python",
   "nbconvert_exporter": "python",
   "pygments_lexer": "ipython3",
   "version": "3.6.7"
  }
 },
 "nbformat": 4,
 "nbformat_minor": 2
}
